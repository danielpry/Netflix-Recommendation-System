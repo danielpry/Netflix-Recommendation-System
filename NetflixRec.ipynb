{
 "cells": [
  {
   "cell_type": "markdown",
   "source": "# Netflix Recommendation System",
   "metadata": {
    "formattedRanges": [],
    "cell_id": "5028405740de45469f4ac13a79585b2f",
    "tags": [],
    "is_collapsed": false,
    "deepnote_app_coordinates": {
     "x": 0,
     "y": 1,
     "w": 12,
     "h": 5
    },
    "deepnote_cell_type": "text-cell-h1"
   }
  },
  {
   "cell_type": "markdown",
   "source": "### Loading Dataset",
   "metadata": {
    "formattedRanges": [],
    "cell_id": "a72ba09424af4d7499a7f9e40f1064fc",
    "tags": [],
    "is_collapsed": false,
    "deepnote_app_coordinates": {
     "x": 0,
     "y": 7,
     "w": 12,
     "h": 5
    },
    "deepnote_cell_type": "text-cell-h3"
   }
  },
  {
   "cell_type": "code",
   "metadata": {
    "cell_id": "bea4eb012c214f768039b189e32e4798",
    "tags": [],
    "deepnote_to_be_reexecuted": false,
    "source_hash": "496fff1",
    "execution_start": 1656708244246,
    "execution_millis": 452,
    "deepnote_app_coordinates": {
     "x": 0,
     "y": 13,
     "w": 12,
     "h": 5
    },
    "deepnote_cell_type": "code",
    "deepnote_cell_height": 190.796875
   },
   "source": "import pandas as pd\nimport altair as alt\nimport numpy as np\nfrom fuzzywuzzy import process",
   "execution_count": 1,
   "outputs": [
    {
     "name": "stderr",
     "text": "/root/venv/lib/python3.9/site-packages/fuzzywuzzy/fuzz.py:11: UserWarning: Using slow pure-python SequenceMatcher. Install python-Levenshtein to remove this warning\n  warnings.warn('Using slow pure-python SequenceMatcher. Install python-Levenshtein to remove this warning')\n",
     "output_type": "stream"
    }
   ]
  },
  {
   "cell_type": "markdown",
   "source": "The data used for this project is taken from the Netflix catalog in May 2022. (Source: https://www.kaggle.com/datasets/victorsoeiro/netflix-tv-shows-and-movies). The goal of this project is to use data preprocessing methods and machine learning methods to create a model that recommends users a Netflix title based off similarities in the title's attributes such as run time, genre, age certification ratings, IMDb ratings, release year, etc.",
   "metadata": {
    "formattedRanges": [],
    "cell_id": "db7ee424fa2042ef8c57fbc9eb2ae4c0",
    "tags": [],
    "is_collapsed": false,
    "deepnote_app_coordinates": {
     "x": 0,
     "y": 19,
     "w": 8,
     "h": 2
    },
    "deepnote_cell_type": "text-cell-p"
   }
  },
  {
   "cell_type": "code",
   "metadata": {
    "tags": [],
    "cell_id": "e380522a-a784-4a85-b652-fa825e9f8770",
    "deepnote_to_be_reexecuted": false,
    "source_hash": "617d985b",
    "execution_start": 1656708244702,
    "execution_millis": 190,
    "deepnote_app_coordinates": {
     "x": 0,
     "y": 22,
     "w": 12,
     "h": 5
    },
    "deepnote_cell_type": "code",
    "deepnote_cell_height": 81
   },
   "source": "titles = pd.read_csv('titles.csv')",
   "execution_count": 2,
   "outputs": []
  },
  {
   "cell_type": "markdown",
   "source": "In the output below we list the data type of each column.",
   "metadata": {
    "formattedRanges": [],
    "cell_id": "7ba7d87aaf1d4dbb8b6703f389451bfa",
    "tags": [],
    "is_collapsed": false,
    "deepnote_app_coordinates": {
     "x": 0,
     "y": 28,
     "w": 8,
     "h": 2
    },
    "deepnote_cell_type": "text-cell-p"
   }
  },
  {
   "cell_type": "code",
   "metadata": {
    "cell_id": "13ec4f65469f4b4cb5b01783c44e7ddb",
    "tags": [],
    "deepnote_to_be_reexecuted": false,
    "source_hash": "6a27a222",
    "execution_start": 1656708244909,
    "execution_millis": 741,
    "deepnote_app_coordinates": {
     "x": 0,
     "y": 31,
     "w": 12,
     "h": 5
    },
    "deepnote_cell_type": "code",
    "deepnote_cell_height": 424.1875,
    "deepnote_output_heights": [
     309.1875
    ]
   },
   "source": "# Checking data type of each column\ntitles.dtypes",
   "execution_count": 3,
   "outputs": [
    {
     "output_type": "execute_result",
     "execution_count": 3,
     "data": {
      "text/plain": "id                       object\ntitle                    object\ntype                     object\ndescription              object\nrelease_year              int64\nage_certification        object\nruntime                   int64\ngenres                   object\nproduction_countries     object\nseasons                 float64\nimdb_id                  object\nimdb_score              float64\nimdb_votes              float64\ntmdb_popularity         float64\ntmdb_score              float64\ndtype: object"
     },
     "metadata": {}
    }
   ]
  },
  {
   "cell_type": "code",
   "metadata": {
    "cell_id": "52bcc65349014b168b18b0c9f84ea656",
    "tags": [],
    "deepnote_to_be_reexecuted": false,
    "source_hash": "4f51934c",
    "execution_start": 1656708244962,
    "execution_millis": 699,
    "deepnote_app_coordinates": {
     "x": 0,
     "y": 37,
     "w": 12,
     "h": 5
    },
    "deepnote_cell_type": "code",
    "deepnote_cell_height": 429.796875
   },
   "source": "# Preview of titles data\ntitles.head()",
   "execution_count": 4,
   "outputs": [
    {
     "output_type": "execute_result",
     "execution_count": 4,
     "data": {
      "application/vnd.deepnote.dataframe.v3+json": {
       "column_count": 15,
       "row_count": 5,
       "columns": [
        {
         "name": "id",
         "dtype": "object",
         "stats": {
          "unique_count": 5,
          "nan_count": 0,
          "categories": [
           {
            "name": "ts300399",
            "count": 1
           },
           {
            "name": "tm84618",
            "count": 1
           },
           {
            "name": "3 others",
            "count": 3
           }
          ]
         }
        },
        {
         "name": "title",
         "dtype": "object",
         "stats": {
          "unique_count": 5,
          "nan_count": 0,
          "categories": [
           {
            "name": "Five Came Back: The Reference Films",
            "count": 1
           },
           {
            "name": "Taxi Driver",
            "count": 1
           },
           {
            "name": "3 others",
            "count": 3
           }
          ]
         }
        },
        {
         "name": "type",
         "dtype": "object",
         "stats": {
          "unique_count": 2,
          "nan_count": 0,
          "categories": [
           {
            "name": "MOVIE",
            "count": 4
           },
           {
            "name": "SHOW",
            "count": 1
           }
          ]
         }
        },
        {
         "name": "description",
         "dtype": "object",
         "stats": {
          "unique_count": 5,
          "nan_count": 0,
          "categories": [
           {
            "name": "This collection includes 12 World War II-era propaganda films — many of which are graphic and offensive — discussed in the docuseries \"Five Came Back.\"",
            "count": 1
           },
           {
            "name": "A mentally unstable Vietnam War veteran works as a night-time taxi driver in New York City where the perceived decadence and sleaze feed his urge for violent action, attempting to save a preadolescent prostitute in the process.",
            "count": 1
           },
           {
            "name": "3 others",
            "count": 3
           }
          ]
         }
        },
        {
         "name": "release_year",
         "dtype": "int64",
         "stats": {
          "unique_count": 5,
          "nan_count": 0,
          "min": "1945",
          "max": "1979",
          "histogram": [
           {
            "bin_start": 1945,
            "bin_end": 1948.4,
            "count": 1
           },
           {
            "bin_start": 1948.4,
            "bin_end": 1951.8,
            "count": 0
           },
           {
            "bin_start": 1951.8,
            "bin_end": 1955.2,
            "count": 0
           },
           {
            "bin_start": 1955.2,
            "bin_end": 1958.6,
            "count": 0
           },
           {
            "bin_start": 1958.6,
            "bin_end": 1962,
            "count": 0
           },
           {
            "bin_start": 1962,
            "bin_end": 1965.4,
            "count": 0
           },
           {
            "bin_start": 1965.4,
            "bin_end": 1968.8,
            "count": 0
           },
           {
            "bin_start": 1968.8,
            "bin_end": 1972.2,
            "count": 0
           },
           {
            "bin_start": 1972.2,
            "bin_end": 1975.6,
            "count": 2
           },
           {
            "bin_start": 1975.6,
            "bin_end": 1979,
            "count": 2
           }
          ]
         }
        },
        {
         "name": "age_certification",
         "dtype": "object",
         "stats": {
          "unique_count": 3,
          "nan_count": 0,
          "categories": [
           {
            "name": "R",
            "count": 3
           },
           {
            "name": "TV-MA",
            "count": 1
           },
           {
            "name": "PG",
            "count": 1
           }
          ]
         }
        },
        {
         "name": "runtime",
         "dtype": "int64",
         "stats": {
          "unique_count": 5,
          "nan_count": 0,
          "min": "48",
          "max": "133",
          "histogram": [
           {
            "bin_start": 48,
            "bin_end": 56.5,
            "count": 1
           },
           {
            "bin_start": 56.5,
            "bin_end": 65,
            "count": 0
           },
           {
            "bin_start": 65,
            "bin_end": 73.5,
            "count": 0
           },
           {
            "bin_start": 73.5,
            "bin_end": 82,
            "count": 0
           },
           {
            "bin_start": 82,
            "bin_end": 90.5,
            "count": 0
           },
           {
            "bin_start": 90.5,
            "bin_end": 99,
            "count": 2
           },
           {
            "bin_start": 99,
            "bin_end": 107.5,
            "count": 0
           },
           {
            "bin_start": 107.5,
            "bin_end": 116,
            "count": 1
           },
           {
            "bin_start": 116,
            "bin_end": 124.5,
            "count": 0
           },
           {
            "bin_start": 124.5,
            "bin_end": 133,
            "count": 1
           }
          ]
         }
        },
        {
         "name": "genres",
         "dtype": "object",
         "stats": {
          "unique_count": 5,
          "nan_count": 0,
          "categories": [
           {
            "name": "['documentation']",
            "count": 1
           },
           {
            "name": "['crime', 'drama']",
            "count": 1
           },
           {
            "name": "3 others",
            "count": 3
           }
          ]
         }
        },
        {
         "name": "production_countries",
         "dtype": "object",
         "stats": {
          "unique_count": 2,
          "nan_count": 0,
          "categories": [
           {
            "name": "['US']",
            "count": 3
           },
           {
            "name": "['GB']",
            "count": 2
           }
          ]
         }
        },
        {
         "name": "seasons",
         "dtype": "float64",
         "stats": {
          "unique_count": 1,
          "nan_count": 4,
          "min": "1.0",
          "max": "1.0",
          "histogram": [
           {
            "bin_start": 0.5,
            "bin_end": 0.6,
            "count": 0
           },
           {
            "bin_start": 0.6,
            "bin_end": 0.7,
            "count": 0
           },
           {
            "bin_start": 0.7,
            "bin_end": 0.8,
            "count": 0
           },
           {
            "bin_start": 0.8,
            "bin_end": 0.9,
            "count": 0
           },
           {
            "bin_start": 0.9,
            "bin_end": 1,
            "count": 0
           },
           {
            "bin_start": 1,
            "bin_end": 1.1,
            "count": 1
           },
           {
            "bin_start": 1.1,
            "bin_end": 1.2000000000000002,
            "count": 0
           },
           {
            "bin_start": 1.2000000000000002,
            "bin_end": 1.3,
            "count": 0
           },
           {
            "bin_start": 1.3,
            "bin_end": 1.4,
            "count": 0
           },
           {
            "bin_start": 1.4,
            "bin_end": 1.5,
            "count": 0
           }
          ]
         }
        },
        {
         "name": "imdb_id",
         "dtype": "object",
         "stats": {
          "unique_count": 4,
          "nan_count": 1,
          "categories": [
           {
            "name": "tt0075314",
            "count": 1
           },
           {
            "name": "3 others",
            "count": 3
           },
           {
            "name": "Missing",
            "count": 1
           }
          ]
         }
        },
        {
         "name": "imdb_score",
         "dtype": "float64",
         "stats": {
          "unique_count": 4,
          "nan_count": 1,
          "min": "8.0",
          "max": "8.3",
          "histogram": [
           {
            "bin_start": 8,
            "bin_end": 8.03,
            "count": 1
           },
           {
            "bin_start": 8.03,
            "bin_end": 8.06,
            "count": 0
           },
           {
            "bin_start": 8.06,
            "bin_end": 8.09,
            "count": 0
           },
           {
            "bin_start": 8.09,
            "bin_end": 8.120000000000001,
            "count": 1
           },
           {
            "bin_start": 8.120000000000001,
            "bin_end": 8.15,
            "count": 0
           },
           {
            "bin_start": 8.15,
            "bin_end": 8.18,
            "count": 0
           },
           {
            "bin_start": 8.18,
            "bin_end": 8.21,
            "count": 1
           },
           {
            "bin_start": 8.21,
            "bin_end": 8.24,
            "count": 0
           },
           {
            "bin_start": 8.24,
            "bin_end": 8.270000000000001,
            "count": 0
           },
           {
            "bin_start": 8.270000000000001,
            "bin_end": 8.3,
            "count": 1
           }
          ]
         }
        },
        {
         "name": "imdb_votes",
         "dtype": "float64",
         "stats": {
          "unique_count": 4,
          "nan_count": 1,
          "min": "391942.0",
          "max": "795222.0",
          "histogram": [
           {
            "bin_start": 391942,
            "bin_end": 432270,
            "count": 2
           },
           {
            "bin_start": 432270,
            "bin_end": 472598,
            "count": 0
           },
           {
            "bin_start": 472598,
            "bin_end": 512926,
            "count": 0
           },
           {
            "bin_start": 512926,
            "bin_end": 553254,
            "count": 1
           },
           {
            "bin_start": 553254,
            "bin_end": 593582,
            "count": 0
           },
           {
            "bin_start": 593582,
            "bin_end": 633910,
            "count": 0
           },
           {
            "bin_start": 633910,
            "bin_end": 674238,
            "count": 0
           },
           {
            "bin_start": 674238,
            "bin_end": 714566,
            "count": 0
           },
           {
            "bin_start": 714566,
            "bin_end": 754894,
            "count": 0
           },
           {
            "bin_start": 754894,
            "bin_end": 795222,
            "count": 1
           }
          ]
         }
        },
        {
         "name": "tmdb_popularity",
         "dtype": "float64",
         "stats": {
          "unique_count": 5,
          "nan_count": 0,
          "min": "0.6",
          "max": "95.337",
          "histogram": [
           {
            "bin_start": 0.6,
            "bin_end": 10.0737,
            "count": 1
           },
           {
            "bin_start": 10.0737,
            "bin_end": 19.547400000000003,
            "count": 2
           },
           {
            "bin_start": 19.547400000000003,
            "bin_end": 29.021100000000004,
            "count": 1
           },
           {
            "bin_start": 29.021100000000004,
            "bin_end": 38.494800000000005,
            "count": 0
           },
           {
            "bin_start": 38.494800000000005,
            "bin_end": 47.968500000000006,
            "count": 0
           },
           {
            "bin_start": 47.968500000000006,
            "bin_end": 57.44220000000001,
            "count": 0
           },
           {
            "bin_start": 57.44220000000001,
            "bin_end": 66.9159,
            "count": 0
           },
           {
            "bin_start": 66.9159,
            "bin_end": 76.3896,
            "count": 0
           },
           {
            "bin_start": 76.3896,
            "bin_end": 85.86330000000001,
            "count": 0
           },
           {
            "bin_start": 85.86330000000001,
            "bin_end": 95.337,
            "count": 1
           }
          ]
         }
        },
        {
         "name": "tmdb_score",
         "dtype": "float64",
         "stats": {
          "unique_count": 3,
          "nan_count": 1,
          "min": "7.7",
          "max": "8.2",
          "histogram": [
           {
            "bin_start": 7.7,
            "bin_end": 7.75,
            "count": 1
           },
           {
            "bin_start": 7.75,
            "bin_end": 7.8,
            "count": 0
           },
           {
            "bin_start": 7.8,
            "bin_end": 7.85,
            "count": 2
           },
           {
            "bin_start": 7.85,
            "bin_end": 7.8999999999999995,
            "count": 0
           },
           {
            "bin_start": 7.8999999999999995,
            "bin_end": 7.949999999999999,
            "count": 0
           },
           {
            "bin_start": 7.949999999999999,
            "bin_end": 8,
            "count": 0
           },
           {
            "bin_start": 8,
            "bin_end": 8.049999999999999,
            "count": 0
           },
           {
            "bin_start": 8.049999999999999,
            "bin_end": 8.1,
            "count": 0
           },
           {
            "bin_start": 8.1,
            "bin_end": 8.149999999999999,
            "count": 0
           },
           {
            "bin_start": 8.149999999999999,
            "bin_end": 8.2,
            "count": 1
           }
          ]
         }
        },
        {
         "name": "_deepnote_index_column",
         "dtype": "int64"
        }
       ],
       "rows": [
        {
         "id": "ts300399",
         "title": "Five Came Back: The Reference Films",
         "type": "SHOW",
         "description": "This collection includes 12 World War II-era propaganda films — many of which are graphic and offensive — discussed in the docuseries \"Five Came Back.\"",
         "release_year": 1945,
         "age_certification": "TV-MA",
         "runtime": 48,
         "genres": "['documentation']",
         "production_countries": "['US']",
         "seasons": 1,
         "imdb_id": "nan",
         "imdb_score": "nan",
         "imdb_votes": "nan",
         "tmdb_popularity": 0.6,
         "tmdb_score": "nan",
         "_deepnote_index_column": 0
        },
        {
         "id": "tm84618",
         "title": "Taxi Driver",
         "type": "MOVIE",
         "description": "A mentally unstable Vietnam War veteran works as a night-time taxi driver in New York City where the perceived decadence and sleaze feed his urge for violent action, attempting to save a preadolescent prostitute in the process.",
         "release_year": 1976,
         "age_certification": "R",
         "runtime": 113,
         "genres": "['crime', 'drama']",
         "production_countries": "['US']",
         "seasons": "nan",
         "imdb_id": "tt0075314",
         "imdb_score": 8.3,
         "imdb_votes": 795222,
         "tmdb_popularity": 27.612,
         "tmdb_score": 8.2,
         "_deepnote_index_column": 1
        },
        {
         "id": "tm127384",
         "title": "Monty Python and the Holy Grail",
         "type": "MOVIE",
         "description": "King Arthur, accompanied by his squire, recruits his Knights of the Round Table, including Sir Bedevere the Wise, Sir Lancelot the Brave, Sir Robin the Not-Quite-So-Brave-As-Sir-Lancelot and Sir Galahad the Pure. On the way, Arthur battles the Black Knight who, despite having had all his limbs chopped off, insists he can still fight. They reach Camelot, but Arthur decides not  to enter, as \"it is a silly place\".",
         "release_year": 1975,
         "age_certification": "PG",
         "runtime": 91,
         "genres": "['comedy', 'fantasy']",
         "production_countries": "['GB']",
         "seasons": "nan",
         "imdb_id": "tt0071853",
         "imdb_score": 8.2,
         "imdb_votes": 530877,
         "tmdb_popularity": 18.216,
         "tmdb_score": 7.8,
         "_deepnote_index_column": 2
        },
        {
         "id": "tm70993",
         "title": "Life of Brian",
         "type": "MOVIE",
         "description": "Brian Cohen is an average young Jewish man, but through a series of ridiculous events, he gains a reputation as the Messiah. When he's not dodging his followers or being scolded by his shrill mother, the hapless Brian has to contend with the pompous Pontius Pilate and acronym-obsessed members of a separatist movement. Rife with Monty Python's signature absurdity, the tale finds Brian's life paralleling Biblical lore, albeit with many more laughs.",
         "release_year": 1979,
         "age_certification": "R",
         "runtime": 94,
         "genres": "['comedy']",
         "production_countries": "['GB']",
         "seasons": "nan",
         "imdb_id": "tt0079470",
         "imdb_score": 8,
         "imdb_votes": 392419,
         "tmdb_popularity": 17.505,
         "tmdb_score": 7.8,
         "_deepnote_index_column": 3
        },
        {
         "id": "tm190788",
         "title": "The Exorcist",
         "type": "MOVIE",
         "description": "12-year-old Regan MacNeil begins to adapt an explicit new personality as strange events befall the local area of Georgetown. Her mother becomes torn between science and superstition in a desperate bid to save her daughter, and ultimately turns to her last hope: Father Damien Karras, a troubled priest who is struggling with his own faith.",
         "release_year": 1973,
         "age_certification": "R",
         "runtime": 133,
         "genres": "['horror']",
         "production_countries": "['US']",
         "seasons": "nan",
         "imdb_id": "tt0070047",
         "imdb_score": 8.1,
         "imdb_votes": 391942,
         "tmdb_popularity": 95.337,
         "tmdb_score": 7.7,
         "_deepnote_index_column": 4
        }
       ]
      },
      "text/plain": "         id                                title   type  \\\n0  ts300399  Five Came Back: The Reference Films   SHOW   \n1   tm84618                          Taxi Driver  MOVIE   \n2  tm127384      Monty Python and the Holy Grail  MOVIE   \n3   tm70993                        Life of Brian  MOVIE   \n4  tm190788                         The Exorcist  MOVIE   \n\n                                         description  release_year  \\\n0  This collection includes 12 World War II-era p...          1945   \n1  A mentally unstable Vietnam War veteran works ...          1976   \n2  King Arthur, accompanied by his squire, recrui...          1975   \n3  Brian Cohen is an average young Jewish man, bu...          1979   \n4  12-year-old Regan MacNeil begins to adapt an e...          1973   \n\n  age_certification  runtime                 genres production_countries  \\\n0             TV-MA       48      ['documentation']               ['US']   \n1                 R      113     ['crime', 'drama']               ['US']   \n2                PG       91  ['comedy', 'fantasy']               ['GB']   \n3                 R       94             ['comedy']               ['GB']   \n4                 R      133             ['horror']               ['US']   \n\n   seasons    imdb_id  imdb_score  imdb_votes  tmdb_popularity  tmdb_score  \n0      1.0        NaN         NaN         NaN            0.600         NaN  \n1      NaN  tt0075314         8.3    795222.0           27.612         8.2  \n2      NaN  tt0071853         8.2    530877.0           18.216         7.8  \n3      NaN  tt0079470         8.0    392419.0           17.505         7.8  \n4      NaN  tt0070047         8.1    391942.0           95.337         7.7  ",
      "text/html": "<div>\n<style scoped>\n    .dataframe tbody tr th:only-of-type {\n        vertical-align: middle;\n    }\n\n    .dataframe tbody tr th {\n        vertical-align: top;\n    }\n\n    .dataframe thead th {\n        text-align: right;\n    }\n</style>\n<table border=\"1\" class=\"dataframe\">\n  <thead>\n    <tr style=\"text-align: right;\">\n      <th></th>\n      <th>id</th>\n      <th>title</th>\n      <th>type</th>\n      <th>description</th>\n      <th>release_year</th>\n      <th>age_certification</th>\n      <th>runtime</th>\n      <th>genres</th>\n      <th>production_countries</th>\n      <th>seasons</th>\n      <th>imdb_id</th>\n      <th>imdb_score</th>\n      <th>imdb_votes</th>\n      <th>tmdb_popularity</th>\n      <th>tmdb_score</th>\n    </tr>\n  </thead>\n  <tbody>\n    <tr>\n      <th>0</th>\n      <td>ts300399</td>\n      <td>Five Came Back: The Reference Films</td>\n      <td>SHOW</td>\n      <td>This collection includes 12 World War II-era p...</td>\n      <td>1945</td>\n      <td>TV-MA</td>\n      <td>48</td>\n      <td>['documentation']</td>\n      <td>['US']</td>\n      <td>1.0</td>\n      <td>NaN</td>\n      <td>NaN</td>\n      <td>NaN</td>\n      <td>0.600</td>\n      <td>NaN</td>\n    </tr>\n    <tr>\n      <th>1</th>\n      <td>tm84618</td>\n      <td>Taxi Driver</td>\n      <td>MOVIE</td>\n      <td>A mentally unstable Vietnam War veteran works ...</td>\n      <td>1976</td>\n      <td>R</td>\n      <td>113</td>\n      <td>['crime', 'drama']</td>\n      <td>['US']</td>\n      <td>NaN</td>\n      <td>tt0075314</td>\n      <td>8.3</td>\n      <td>795222.0</td>\n      <td>27.612</td>\n      <td>8.2</td>\n    </tr>\n    <tr>\n      <th>2</th>\n      <td>tm127384</td>\n      <td>Monty Python and the Holy Grail</td>\n      <td>MOVIE</td>\n      <td>King Arthur, accompanied by his squire, recrui...</td>\n      <td>1975</td>\n      <td>PG</td>\n      <td>91</td>\n      <td>['comedy', 'fantasy']</td>\n      <td>['GB']</td>\n      <td>NaN</td>\n      <td>tt0071853</td>\n      <td>8.2</td>\n      <td>530877.0</td>\n      <td>18.216</td>\n      <td>7.8</td>\n    </tr>\n    <tr>\n      <th>3</th>\n      <td>tm70993</td>\n      <td>Life of Brian</td>\n      <td>MOVIE</td>\n      <td>Brian Cohen is an average young Jewish man, bu...</td>\n      <td>1979</td>\n      <td>R</td>\n      <td>94</td>\n      <td>['comedy']</td>\n      <td>['GB']</td>\n      <td>NaN</td>\n      <td>tt0079470</td>\n      <td>8.0</td>\n      <td>392419.0</td>\n      <td>17.505</td>\n      <td>7.8</td>\n    </tr>\n    <tr>\n      <th>4</th>\n      <td>tm190788</td>\n      <td>The Exorcist</td>\n      <td>MOVIE</td>\n      <td>12-year-old Regan MacNeil begins to adapt an e...</td>\n      <td>1973</td>\n      <td>R</td>\n      <td>133</td>\n      <td>['horror']</td>\n      <td>['US']</td>\n      <td>NaN</td>\n      <td>tt0070047</td>\n      <td>8.1</td>\n      <td>391942.0</td>\n      <td>95.337</td>\n      <td>7.7</td>\n    </tr>\n  </tbody>\n</table>\n</div>"
     },
     "metadata": {}
    }
   ]
  },
  {
   "cell_type": "markdown",
   "source": "In the visualization below we can see the percent of missing values in each column. Notice the seasons column has a lot missing, but this is easily explained away since movies are listed missing values for this column. The age certification column also has a lot of missing values later we will encode these values as not rated for the model. For the rest of the columns these missing values are likely due to the title not being on IMDb or tmdb (The Movie Database) and will be filled with zeros for the model.",
   "metadata": {
    "formattedRanges": [],
    "cell_id": "a63ebfccd08d4832b868c6bd6cf1dac3",
    "tags": [],
    "is_collapsed": false,
    "deepnote_app_coordinates": {
     "x": 0,
     "y": 43,
     "w": 8,
     "h": 2
    },
    "deepnote_cell_type": "text-cell-p"
   }
  },
  {
   "cell_type": "code",
   "metadata": {
    "cell_id": "b228e75ee3494020accf64e2f99c4c88",
    "tags": [],
    "deepnote_to_be_reexecuted": false,
    "source_hash": "af1f09a7",
    "execution_start": 1656708245237,
    "execution_millis": 4008,
    "deepnote_table_state": {
     "pageSize": 10,
     "pageIndex": 0,
     "filters": [],
     "sortBy": []
    },
    "deepnote_table_loading": false,
    "deepnote_app_coordinates": {
     "x": 0,
     "y": 46,
     "w": 12,
     "h": 5
    },
    "deepnote_cell_type": "code",
    "deepnote_cell_height": 618,
    "deepnote_output_heights": [
     467
    ]
   },
   "source": "# looking what columns contain a lot of null values\nNullpercent = titles.isnull().sum().sort_values(ascending = False) / len(titles) * 100\nnull_df = pd.DataFrame({'Features': Nullpercent.index, 'Null_Value_Percentage': Nullpercent.values}).style.background_gradient(cmap='Blues')\nnull_df",
   "execution_count": 5,
   "outputs": [
    {
     "output_type": "execute_result",
     "execution_count": 5,
     "data": {
      "text/plain": "<pandas.io.formats.style.Styler at 0x7f1c69c04160>",
      "text/html": "<style  type=\"text/css\" >\n#T_c7ed1_row0_col1{\n            background-color:  #08306b;\n            color:  #f1f1f1;\n        }#T_c7ed1_row1_col1{\n            background-color:  #3080bd;\n            color:  #000000;\n        }#T_c7ed1_row2_col1{\n            background-color:  #dbe9f6;\n            color:  #000000;\n        }#T_c7ed1_row3_col1{\n            background-color:  #dce9f6;\n            color:  #000000;\n        }#T_c7ed1_row4_col1{\n            background-color:  #dfecf7;\n            color:  #000000;\n        }#T_c7ed1_row5_col1{\n            background-color:  #e7f0fa;\n            color:  #000000;\n        }#T_c7ed1_row6_col1{\n            background-color:  #f2f8fd;\n            color:  #000000;\n        }#T_c7ed1_row7_col1{\n            background-color:  #f6faff;\n            color:  #000000;\n        }#T_c7ed1_row8_col1,#T_c7ed1_row9_col1,#T_c7ed1_row10_col1,#T_c7ed1_row11_col1,#T_c7ed1_row12_col1,#T_c7ed1_row13_col1,#T_c7ed1_row14_col1{\n            background-color:  #f7fbff;\n            color:  #000000;\n        }</style><table id=\"T_c7ed1_\" ><thead>    <tr>        <th class=\"blank level0\" ></th>        <th class=\"col_heading level0 col0\" >Features</th>        <th class=\"col_heading level0 col1\" >Null_Value_Percentage</th>    </tr></thead><tbody>\n                <tr>\n                        <th id=\"T_c7ed1_level0_row0\" class=\"row_heading level0 row0\" >0</th>\n                        <td id=\"T_c7ed1_row0_col0\" class=\"data row0 col0\" >seasons</td>\n                        <td id=\"T_c7ed1_row0_col1\" class=\"data row0 col1\" >64.743369</td>\n            </tr>\n            <tr>\n                        <th id=\"T_c7ed1_level0_row1\" class=\"row_heading level0 row1\" >1</th>\n                        <td id=\"T_c7ed1_row1_col0\" class=\"data row1 col0\" >age_certification</td>\n                        <td id=\"T_c7ed1_row1_col1\" class=\"data row1 col1\" >44.953496</td>\n            </tr>\n            <tr>\n                        <th id=\"T_c7ed1_level0_row2\" class=\"row_heading level0 row2\" >2</th>\n                        <td id=\"T_c7ed1_row2_col0\" class=\"data row2 col0\" >imdb_votes</td>\n                        <td id=\"T_c7ed1_row2_col1\" class=\"data row2 col1\" >9.283500</td>\n            </tr>\n            <tr>\n                        <th id=\"T_c7ed1_level0_row3\" class=\"row_heading level0 row3\" >3</th>\n                        <td id=\"T_c7ed1_row3_col0\" class=\"data row3 col0\" >imdb_score</td>\n                        <td id=\"T_c7ed1_row3_col1\" class=\"data row3 col1\" >9.007923</td>\n            </tr>\n            <tr>\n                        <th id=\"T_c7ed1_level0_row4\" class=\"row_heading level0 row4\" >4</th>\n                        <td id=\"T_c7ed1_row4_col0\" class=\"data row4 col0\" >imdb_id</td>\n                        <td id=\"T_c7ed1_row4_col1\" class=\"data row4 col1\" >7.647261</td>\n            </tr>\n            <tr>\n                        <th id=\"T_c7ed1_level0_row5\" class=\"row_heading level0 row5\" >5</th>\n                        <td id=\"T_c7ed1_row5_col0\" class=\"data row5 col0\" >tmdb_score</td>\n                        <td id=\"T_c7ed1_row5_col1\" class=\"data row5 col1\" >5.477093</td>\n            </tr>\n            <tr>\n                        <th id=\"T_c7ed1_level0_row6\" class=\"row_heading level0 row6\" >6</th>\n                        <td id=\"T_c7ed1_row6_col0\" class=\"data row6 col0\" >tmdb_popularity</td>\n                        <td id=\"T_c7ed1_row6_col1\" class=\"data row6 col1\" >1.619015</td>\n            </tr>\n            <tr>\n                        <th id=\"T_c7ed1_level0_row7\" class=\"row_heading level0 row7\" >7</th>\n                        <td id=\"T_c7ed1_row7_col0\" class=\"data row7 col0\" >description</td>\n                        <td id=\"T_c7ed1_row7_col1\" class=\"data row7 col1\" >0.310024</td>\n            </tr>\n            <tr>\n                        <th id=\"T_c7ed1_level0_row8\" class=\"row_heading level0 row8\" >8</th>\n                        <td id=\"T_c7ed1_row8_col0\" class=\"data row8 col0\" >title</td>\n                        <td id=\"T_c7ed1_row8_col1\" class=\"data row8 col1\" >0.017224</td>\n            </tr>\n            <tr>\n                        <th id=\"T_c7ed1_level0_row9\" class=\"row_heading level0 row9\" >9</th>\n                        <td id=\"T_c7ed1_row9_col0\" class=\"data row9 col0\" >id</td>\n                        <td id=\"T_c7ed1_row9_col1\" class=\"data row9 col1\" >0.000000</td>\n            </tr>\n            <tr>\n                        <th id=\"T_c7ed1_level0_row10\" class=\"row_heading level0 row10\" >10</th>\n                        <td id=\"T_c7ed1_row10_col0\" class=\"data row10 col0\" >type</td>\n                        <td id=\"T_c7ed1_row10_col1\" class=\"data row10 col1\" >0.000000</td>\n            </tr>\n            <tr>\n                        <th id=\"T_c7ed1_level0_row11\" class=\"row_heading level0 row11\" >11</th>\n                        <td id=\"T_c7ed1_row11_col0\" class=\"data row11 col0\" >release_year</td>\n                        <td id=\"T_c7ed1_row11_col1\" class=\"data row11 col1\" >0.000000</td>\n            </tr>\n            <tr>\n                        <th id=\"T_c7ed1_level0_row12\" class=\"row_heading level0 row12\" >12</th>\n                        <td id=\"T_c7ed1_row12_col0\" class=\"data row12 col0\" >runtime</td>\n                        <td id=\"T_c7ed1_row12_col1\" class=\"data row12 col1\" >0.000000</td>\n            </tr>\n            <tr>\n                        <th id=\"T_c7ed1_level0_row13\" class=\"row_heading level0 row13\" >13</th>\n                        <td id=\"T_c7ed1_row13_col0\" class=\"data row13 col0\" >genres</td>\n                        <td id=\"T_c7ed1_row13_col1\" class=\"data row13 col1\" >0.000000</td>\n            </tr>\n            <tr>\n                        <th id=\"T_c7ed1_level0_row14\" class=\"row_heading level0 row14\" >14</th>\n                        <td id=\"T_c7ed1_row14_col0\" class=\"data row14 col0\" >production_countries</td>\n                        <td id=\"T_c7ed1_row14_col1\" class=\"data row14 col1\" >0.000000</td>\n            </tr>\n    </tbody></table>"
     },
     "metadata": {}
    }
   ]
  },
  {
   "cell_type": "markdown",
   "source": "### Data Cleaning For Model Making",
   "metadata": {
    "formattedRanges": [],
    "cell_id": "2dc2582242c84cd283ca54cbc492089d",
    "tags": [],
    "is_collapsed": false,
    "deepnote_app_coordinates": {
     "x": 0,
     "y": 52,
     "w": 12,
     "h": 5
    },
    "deepnote_cell_type": "text-cell-h3"
   }
  },
  {
   "cell_type": "markdown",
   "source": "In this section we will use feature engineering and cleaning methods to prepare a dataset from the raw data that can be used with K Nearest Neighbors in order to make predictions. K Nearest Neighbors is a good model for this project since its main assumption is that data points that are close to each other are alike. Which should hold as many of the attributes such as genre, release year, IMDb score, and whether or not it is a movie or tv show should ensure that similar titles are close to one another and allow recommendations to be made by selecting titles closest to that specific title.\n",
   "metadata": {
    "formattedRanges": [],
    "cell_id": "a57ef1746b294ecca7e84eb87c8d6fe9",
    "tags": [],
    "is_collapsed": false,
    "deepnote_app_coordinates": {
     "x": 0,
     "y": 58,
     "w": 8,
     "h": 2
    },
    "deepnote_cell_type": "text-cell-p"
   }
  },
  {
   "cell_type": "code",
   "metadata": {
    "cell_id": "92c181669bf44c4c98f99981ad8ee3eb",
    "tags": [],
    "deepnote_to_be_reexecuted": false,
    "source_hash": "4d464af5",
    "execution_start": 1656708249270,
    "execution_millis": 60,
    "deepnote_app_coordinates": {
     "x": 0,
     "y": 61,
     "w": 12,
     "h": 5
    },
    "deepnote_cell_type": "code",
    "deepnote_cell_height": 906
   },
   "source": "# Finding all the unique genres\narray = titles.genres.to_list()\n\narray1 = [s.strip(\"[]\") for s in array]\n\nlst = []\nfor i in range(len(array1)):\n    lst.append(array1[i].split(','))\n\nresult = list({x for l in lst for x in l})\n\nresult1 = [s.strip(\"' \") for s in result]\n\n# function to get unique values\ndef unique(list1):\n      \n    # insert the list to the set\n    list_set = set(list1)\n    # convert the set to the list\n    unique_list = (list(list_set))\n    for x in unique_list:\n        print(x),\n\nresults = unique(result1)",
   "execution_count": 6,
   "outputs": [
    {
     "name": "stdout",
     "text": "\naction\nthriller\ncrime\nanimation\nreality\nmusic\ncomedy\ndrama\nsport\nhorror\nfantasy\nromance\nwestern\nscifi\ndocumentation\neuropean\nfamily\nhistory\nwar\n",
     "output_type": "stream"
    }
   ]
  },
  {
   "cell_type": "markdown",
   "source": "In the block above we clean the genres column and output all of the unique genres that show up in the genres column. With this we engineer new columns that contain 1 (True) and 0 (False) if that specific genre is listed in the genres column.",
   "metadata": {
    "formattedRanges": [],
    "cell_id": "80c628635d264d6aa7114ab7329c8477",
    "tags": [],
    "is_collapsed": false,
    "deepnote_app_coordinates": {
     "x": 0,
     "y": 67,
     "w": 8,
     "h": 2
    },
    "deepnote_cell_type": "text-cell-p"
   }
  },
  {
   "cell_type": "code",
   "metadata": {
    "cell_id": "8b2a407134234ef2b36a17809e215224",
    "tags": [],
    "deepnote_to_be_reexecuted": false,
    "source_hash": "5c859a44",
    "execution_start": 1656708249387,
    "execution_millis": 310,
    "deepnote_table_state": {
     "pageSize": 10,
     "pageIndex": 0,
     "filters": [],
     "sortBy": []
    },
    "deepnote_table_loading": false,
    "deepnote_app_coordinates": {
     "x": 0,
     "y": 70,
     "w": 12,
     "h": 5
    },
    "deepnote_cell_type": "code",
    "deepnote_cell_height": 771.796875
   },
   "source": "# Creating indictor columns for each genre\ntitles['horror'] = titles['genres'].str.contains('horror').astype('int')\ntitles['history'] = titles['genres'].str.contains('history').astype('int')\ntitles['european'] = titles['genres'].str.contains('european').astype('int')\ntitles['sport'] = titles['genres'].str.contains('sport').astype('int')\ntitles['family'] = titles['genres'].str.contains('family').astype('int')\ntitles['reality'] = titles['genres'].str.contains('reality').astype('int')\ntitles['drama'] = titles['genres'].str.contains('drama').astype('int')\ntitles['animation'] = titles['genres'].str.contains('animation').astype('int')\ntitles['comedy'] = titles['genres'].str.contains('comedy').astype('int')\ntitles['scifi'] = titles['genres'].str.contains('scifi').astype('int')\ntitles['music'] = titles['genres'].str.contains('music').astype('int')\ntitles['fantasy'] = titles['genres'].str.contains('fantasy').astype('int')\ntitles['western'] = titles['genres'].str.contains('western').astype('int')\ntitles['thriller'] = titles['genres'].str.contains('thriller').astype('int')\ntitles['documentation'] = titles['genres'].str.contains('documentation').astype('int')\ntitles['crime'] = titles['genres'].str.contains('crime').astype('int')\ntitles['action'] = titles['genres'].str.contains('action').astype('int')\ntitles['war'] = titles['genres'].str.contains('war').astype('int')\ntitles['romance'] =titles['genres'].str.contains('romance').astype('int')\ntitles.head()",
   "execution_count": 7,
   "outputs": [
    {
     "output_type": "execute_result",
     "execution_count": 7,
     "data": {
      "application/vnd.deepnote.dataframe.v3+json": {
       "column_count": 34,
       "row_count": 5,
       "columns": [
        {
         "name": "id",
         "dtype": "object",
         "stats": {
          "unique_count": 5,
          "nan_count": 0,
          "categories": [
           {
            "name": "ts300399",
            "count": 1
           },
           {
            "name": "tm84618",
            "count": 1
           },
           {
            "name": "3 others",
            "count": 3
           }
          ]
         }
        },
        {
         "name": "title",
         "dtype": "object",
         "stats": {
          "unique_count": 5,
          "nan_count": 0,
          "categories": [
           {
            "name": "Five Came Back: The Reference Films",
            "count": 1
           },
           {
            "name": "Taxi Driver",
            "count": 1
           },
           {
            "name": "3 others",
            "count": 3
           }
          ]
         }
        },
        {
         "name": "type",
         "dtype": "object",
         "stats": {
          "unique_count": 2,
          "nan_count": 0,
          "categories": [
           {
            "name": "MOVIE",
            "count": 4
           },
           {
            "name": "SHOW",
            "count": 1
           }
          ]
         }
        },
        {
         "name": "description",
         "dtype": "object",
         "stats": {
          "unique_count": 5,
          "nan_count": 0,
          "categories": [
           {
            "name": "This collection includes 12 World War II-era propaganda films — many of which are graphic and offensive — discussed in the docuseries \"Five Came Back.\"",
            "count": 1
           },
           {
            "name": "A mentally unstable Vietnam War veteran works as a night-time taxi driver in New York City where the perceived decadence and sleaze feed his urge for violent action, attempting to save a preadolescent prostitute in the process.",
            "count": 1
           },
           {
            "name": "3 others",
            "count": 3
           }
          ]
         }
        },
        {
         "name": "release_year",
         "dtype": "int64",
         "stats": {
          "unique_count": 5,
          "nan_count": 0,
          "min": "1945",
          "max": "1979",
          "histogram": [
           {
            "bin_start": 1945,
            "bin_end": 1948.4,
            "count": 1
           },
           {
            "bin_start": 1948.4,
            "bin_end": 1951.8,
            "count": 0
           },
           {
            "bin_start": 1951.8,
            "bin_end": 1955.2,
            "count": 0
           },
           {
            "bin_start": 1955.2,
            "bin_end": 1958.6,
            "count": 0
           },
           {
            "bin_start": 1958.6,
            "bin_end": 1962,
            "count": 0
           },
           {
            "bin_start": 1962,
            "bin_end": 1965.4,
            "count": 0
           },
           {
            "bin_start": 1965.4,
            "bin_end": 1968.8,
            "count": 0
           },
           {
            "bin_start": 1968.8,
            "bin_end": 1972.2,
            "count": 0
           },
           {
            "bin_start": 1972.2,
            "bin_end": 1975.6,
            "count": 2
           },
           {
            "bin_start": 1975.6,
            "bin_end": 1979,
            "count": 2
           }
          ]
         }
        },
        {
         "name": "age_certification",
         "dtype": "object",
         "stats": {
          "unique_count": 3,
          "nan_count": 0,
          "categories": [
           {
            "name": "R",
            "count": 3
           },
           {
            "name": "TV-MA",
            "count": 1
           },
           {
            "name": "PG",
            "count": 1
           }
          ]
         }
        },
        {
         "name": "runtime",
         "dtype": "int64",
         "stats": {
          "unique_count": 5,
          "nan_count": 0,
          "min": "48",
          "max": "133",
          "histogram": [
           {
            "bin_start": 48,
            "bin_end": 56.5,
            "count": 1
           },
           {
            "bin_start": 56.5,
            "bin_end": 65,
            "count": 0
           },
           {
            "bin_start": 65,
            "bin_end": 73.5,
            "count": 0
           },
           {
            "bin_start": 73.5,
            "bin_end": 82,
            "count": 0
           },
           {
            "bin_start": 82,
            "bin_end": 90.5,
            "count": 0
           },
           {
            "bin_start": 90.5,
            "bin_end": 99,
            "count": 2
           },
           {
            "bin_start": 99,
            "bin_end": 107.5,
            "count": 0
           },
           {
            "bin_start": 107.5,
            "bin_end": 116,
            "count": 1
           },
           {
            "bin_start": 116,
            "bin_end": 124.5,
            "count": 0
           },
           {
            "bin_start": 124.5,
            "bin_end": 133,
            "count": 1
           }
          ]
         }
        },
        {
         "name": "genres",
         "dtype": "object",
         "stats": {
          "unique_count": 5,
          "nan_count": 0,
          "categories": [
           {
            "name": "['documentation']",
            "count": 1
           },
           {
            "name": "['crime', 'drama']",
            "count": 1
           },
           {
            "name": "3 others",
            "count": 3
           }
          ]
         }
        },
        {
         "name": "production_countries",
         "dtype": "object",
         "stats": {
          "unique_count": 2,
          "nan_count": 0,
          "categories": [
           {
            "name": "['US']",
            "count": 3
           },
           {
            "name": "['GB']",
            "count": 2
           }
          ]
         }
        },
        {
         "name": "seasons",
         "dtype": "float64",
         "stats": {
          "unique_count": 1,
          "nan_count": 4,
          "min": "1.0",
          "max": "1.0",
          "histogram": [
           {
            "bin_start": 0.5,
            "bin_end": 0.6,
            "count": 0
           },
           {
            "bin_start": 0.6,
            "bin_end": 0.7,
            "count": 0
           },
           {
            "bin_start": 0.7,
            "bin_end": 0.8,
            "count": 0
           },
           {
            "bin_start": 0.8,
            "bin_end": 0.9,
            "count": 0
           },
           {
            "bin_start": 0.9,
            "bin_end": 1,
            "count": 0
           },
           {
            "bin_start": 1,
            "bin_end": 1.1,
            "count": 1
           },
           {
            "bin_start": 1.1,
            "bin_end": 1.2000000000000002,
            "count": 0
           },
           {
            "bin_start": 1.2000000000000002,
            "bin_end": 1.3,
            "count": 0
           },
           {
            "bin_start": 1.3,
            "bin_end": 1.4,
            "count": 0
           },
           {
            "bin_start": 1.4,
            "bin_end": 1.5,
            "count": 0
           }
          ]
         }
        },
        {
         "name": "imdb_id",
         "dtype": "object",
         "stats": {
          "unique_count": 4,
          "nan_count": 1,
          "categories": [
           {
            "name": "tt0075314",
            "count": 1
           },
           {
            "name": "3 others",
            "count": 3
           },
           {
            "name": "Missing",
            "count": 1
           }
          ]
         }
        },
        {
         "name": "imdb_score",
         "dtype": "float64",
         "stats": {
          "unique_count": 4,
          "nan_count": 1,
          "min": "8.0",
          "max": "8.3",
          "histogram": [
           {
            "bin_start": 8,
            "bin_end": 8.03,
            "count": 1
           },
           {
            "bin_start": 8.03,
            "bin_end": 8.06,
            "count": 0
           },
           {
            "bin_start": 8.06,
            "bin_end": 8.09,
            "count": 0
           },
           {
            "bin_start": 8.09,
            "bin_end": 8.120000000000001,
            "count": 1
           },
           {
            "bin_start": 8.120000000000001,
            "bin_end": 8.15,
            "count": 0
           },
           {
            "bin_start": 8.15,
            "bin_end": 8.18,
            "count": 0
           },
           {
            "bin_start": 8.18,
            "bin_end": 8.21,
            "count": 1
           },
           {
            "bin_start": 8.21,
            "bin_end": 8.24,
            "count": 0
           },
           {
            "bin_start": 8.24,
            "bin_end": 8.270000000000001,
            "count": 0
           },
           {
            "bin_start": 8.270000000000001,
            "bin_end": 8.3,
            "count": 1
           }
          ]
         }
        },
        {
         "name": "imdb_votes",
         "dtype": "float64",
         "stats": {
          "unique_count": 4,
          "nan_count": 1,
          "min": "391942.0",
          "max": "795222.0",
          "histogram": [
           {
            "bin_start": 391942,
            "bin_end": 432270,
            "count": 2
           },
           {
            "bin_start": 432270,
            "bin_end": 472598,
            "count": 0
           },
           {
            "bin_start": 472598,
            "bin_end": 512926,
            "count": 0
           },
           {
            "bin_start": 512926,
            "bin_end": 553254,
            "count": 1
           },
           {
            "bin_start": 553254,
            "bin_end": 593582,
            "count": 0
           },
           {
            "bin_start": 593582,
            "bin_end": 633910,
            "count": 0
           },
           {
            "bin_start": 633910,
            "bin_end": 674238,
            "count": 0
           },
           {
            "bin_start": 674238,
            "bin_end": 714566,
            "count": 0
           },
           {
            "bin_start": 714566,
            "bin_end": 754894,
            "count": 0
           },
           {
            "bin_start": 754894,
            "bin_end": 795222,
            "count": 1
           }
          ]
         }
        },
        {
         "name": "tmdb_popularity",
         "dtype": "float64",
         "stats": {
          "unique_count": 5,
          "nan_count": 0,
          "min": "0.6",
          "max": "95.337",
          "histogram": [
           {
            "bin_start": 0.6,
            "bin_end": 10.0737,
            "count": 1
           },
           {
            "bin_start": 10.0737,
            "bin_end": 19.547400000000003,
            "count": 2
           },
           {
            "bin_start": 19.547400000000003,
            "bin_end": 29.021100000000004,
            "count": 1
           },
           {
            "bin_start": 29.021100000000004,
            "bin_end": 38.494800000000005,
            "count": 0
           },
           {
            "bin_start": 38.494800000000005,
            "bin_end": 47.968500000000006,
            "count": 0
           },
           {
            "bin_start": 47.968500000000006,
            "bin_end": 57.44220000000001,
            "count": 0
           },
           {
            "bin_start": 57.44220000000001,
            "bin_end": 66.9159,
            "count": 0
           },
           {
            "bin_start": 66.9159,
            "bin_end": 76.3896,
            "count": 0
           },
           {
            "bin_start": 76.3896,
            "bin_end": 85.86330000000001,
            "count": 0
           },
           {
            "bin_start": 85.86330000000001,
            "bin_end": 95.337,
            "count": 1
           }
          ]
         }
        },
        {
         "name": "tmdb_score",
         "dtype": "float64",
         "stats": {
          "unique_count": 3,
          "nan_count": 1,
          "min": "7.7",
          "max": "8.2",
          "histogram": [
           {
            "bin_start": 7.7,
            "bin_end": 7.75,
            "count": 1
           },
           {
            "bin_start": 7.75,
            "bin_end": 7.8,
            "count": 0
           },
           {
            "bin_start": 7.8,
            "bin_end": 7.85,
            "count": 2
           },
           {
            "bin_start": 7.85,
            "bin_end": 7.8999999999999995,
            "count": 0
           },
           {
            "bin_start": 7.8999999999999995,
            "bin_end": 7.949999999999999,
            "count": 0
           },
           {
            "bin_start": 7.949999999999999,
            "bin_end": 8,
            "count": 0
           },
           {
            "bin_start": 8,
            "bin_end": 8.049999999999999,
            "count": 0
           },
           {
            "bin_start": 8.049999999999999,
            "bin_end": 8.1,
            "count": 0
           },
           {
            "bin_start": 8.1,
            "bin_end": 8.149999999999999,
            "count": 0
           },
           {
            "bin_start": 8.149999999999999,
            "bin_end": 8.2,
            "count": 1
           }
          ]
         }
        },
        {
         "name": "horror",
         "dtype": "int64",
         "stats": {
          "unique_count": 2,
          "nan_count": 0,
          "min": "0",
          "max": "1",
          "histogram": [
           {
            "bin_start": 0,
            "bin_end": 0.1,
            "count": 4
           },
           {
            "bin_start": 0.1,
            "bin_end": 0.2,
            "count": 0
           },
           {
            "bin_start": 0.2,
            "bin_end": 0.30000000000000004,
            "count": 0
           },
           {
            "bin_start": 0.30000000000000004,
            "bin_end": 0.4,
            "count": 0
           },
           {
            "bin_start": 0.4,
            "bin_end": 0.5,
            "count": 0
           },
           {
            "bin_start": 0.5,
            "bin_end": 0.6000000000000001,
            "count": 0
           },
           {
            "bin_start": 0.6000000000000001,
            "bin_end": 0.7000000000000001,
            "count": 0
           },
           {
            "bin_start": 0.7000000000000001,
            "bin_end": 0.8,
            "count": 0
           },
           {
            "bin_start": 0.8,
            "bin_end": 0.9,
            "count": 0
           },
           {
            "bin_start": 0.9,
            "bin_end": 1,
            "count": 1
           }
          ]
         }
        },
        {
         "name": "history",
         "dtype": "int64",
         "stats": {
          "unique_count": 1,
          "nan_count": 0,
          "min": "0",
          "max": "0",
          "histogram": [
           {
            "bin_start": -0.5,
            "bin_end": -0.4,
            "count": 0
           },
           {
            "bin_start": -0.4,
            "bin_end": -0.3,
            "count": 0
           },
           {
            "bin_start": -0.3,
            "bin_end": -0.19999999999999996,
            "count": 0
           },
           {
            "bin_start": -0.19999999999999996,
            "bin_end": -0.09999999999999998,
            "count": 0
           },
           {
            "bin_start": -0.09999999999999998,
            "bin_end": 0,
            "count": 0
           },
           {
            "bin_start": 0,
            "bin_end": 0.10000000000000009,
            "count": 5
           },
           {
            "bin_start": 0.10000000000000009,
            "bin_end": 0.20000000000000007,
            "count": 0
           },
           {
            "bin_start": 0.20000000000000007,
            "bin_end": 0.30000000000000004,
            "count": 0
           },
           {
            "bin_start": 0.30000000000000004,
            "bin_end": 0.4,
            "count": 0
           },
           {
            "bin_start": 0.4,
            "bin_end": 0.5,
            "count": 0
           }
          ]
         }
        },
        {
         "name": "european",
         "dtype": "int64",
         "stats": {
          "unique_count": 1,
          "nan_count": 0,
          "min": "0",
          "max": "0",
          "histogram": [
           {
            "bin_start": -0.5,
            "bin_end": -0.4,
            "count": 0
           },
           {
            "bin_start": -0.4,
            "bin_end": -0.3,
            "count": 0
           },
           {
            "bin_start": -0.3,
            "bin_end": -0.19999999999999996,
            "count": 0
           },
           {
            "bin_start": -0.19999999999999996,
            "bin_end": -0.09999999999999998,
            "count": 0
           },
           {
            "bin_start": -0.09999999999999998,
            "bin_end": 0,
            "count": 0
           },
           {
            "bin_start": 0,
            "bin_end": 0.10000000000000009,
            "count": 5
           },
           {
            "bin_start": 0.10000000000000009,
            "bin_end": 0.20000000000000007,
            "count": 0
           },
           {
            "bin_start": 0.20000000000000007,
            "bin_end": 0.30000000000000004,
            "count": 0
           },
           {
            "bin_start": 0.30000000000000004,
            "bin_end": 0.4,
            "count": 0
           },
           {
            "bin_start": 0.4,
            "bin_end": 0.5,
            "count": 0
           }
          ]
         }
        },
        {
         "name": "sport",
         "dtype": "int64",
         "stats": {
          "unique_count": 1,
          "nan_count": 0,
          "min": "0",
          "max": "0",
          "histogram": [
           {
            "bin_start": -0.5,
            "bin_end": -0.4,
            "count": 0
           },
           {
            "bin_start": -0.4,
            "bin_end": -0.3,
            "count": 0
           },
           {
            "bin_start": -0.3,
            "bin_end": -0.19999999999999996,
            "count": 0
           },
           {
            "bin_start": -0.19999999999999996,
            "bin_end": -0.09999999999999998,
            "count": 0
           },
           {
            "bin_start": -0.09999999999999998,
            "bin_end": 0,
            "count": 0
           },
           {
            "bin_start": 0,
            "bin_end": 0.10000000000000009,
            "count": 5
           },
           {
            "bin_start": 0.10000000000000009,
            "bin_end": 0.20000000000000007,
            "count": 0
           },
           {
            "bin_start": 0.20000000000000007,
            "bin_end": 0.30000000000000004,
            "count": 0
           },
           {
            "bin_start": 0.30000000000000004,
            "bin_end": 0.4,
            "count": 0
           },
           {
            "bin_start": 0.4,
            "bin_end": 0.5,
            "count": 0
           }
          ]
         }
        },
        {
         "name": "family",
         "dtype": "int64",
         "stats": {
          "unique_count": 1,
          "nan_count": 0,
          "min": "0",
          "max": "0",
          "histogram": [
           {
            "bin_start": -0.5,
            "bin_end": -0.4,
            "count": 0
           },
           {
            "bin_start": -0.4,
            "bin_end": -0.3,
            "count": 0
           },
           {
            "bin_start": -0.3,
            "bin_end": -0.19999999999999996,
            "count": 0
           },
           {
            "bin_start": -0.19999999999999996,
            "bin_end": -0.09999999999999998,
            "count": 0
           },
           {
            "bin_start": -0.09999999999999998,
            "bin_end": 0,
            "count": 0
           },
           {
            "bin_start": 0,
            "bin_end": 0.10000000000000009,
            "count": 5
           },
           {
            "bin_start": 0.10000000000000009,
            "bin_end": 0.20000000000000007,
            "count": 0
           },
           {
            "bin_start": 0.20000000000000007,
            "bin_end": 0.30000000000000004,
            "count": 0
           },
           {
            "bin_start": 0.30000000000000004,
            "bin_end": 0.4,
            "count": 0
           },
           {
            "bin_start": 0.4,
            "bin_end": 0.5,
            "count": 0
           }
          ]
         }
        },
        {
         "name": "reality",
         "dtype": "int64",
         "stats": {
          "unique_count": 1,
          "nan_count": 0,
          "min": "0",
          "max": "0",
          "histogram": [
           {
            "bin_start": -0.5,
            "bin_end": -0.4,
            "count": 0
           },
           {
            "bin_start": -0.4,
            "bin_end": -0.3,
            "count": 0
           },
           {
            "bin_start": -0.3,
            "bin_end": -0.19999999999999996,
            "count": 0
           },
           {
            "bin_start": -0.19999999999999996,
            "bin_end": -0.09999999999999998,
            "count": 0
           },
           {
            "bin_start": -0.09999999999999998,
            "bin_end": 0,
            "count": 0
           },
           {
            "bin_start": 0,
            "bin_end": 0.10000000000000009,
            "count": 5
           },
           {
            "bin_start": 0.10000000000000009,
            "bin_end": 0.20000000000000007,
            "count": 0
           },
           {
            "bin_start": 0.20000000000000007,
            "bin_end": 0.30000000000000004,
            "count": 0
           },
           {
            "bin_start": 0.30000000000000004,
            "bin_end": 0.4,
            "count": 0
           },
           {
            "bin_start": 0.4,
            "bin_end": 0.5,
            "count": 0
           }
          ]
         }
        },
        {
         "name": "drama",
         "dtype": "int64",
         "stats": {
          "unique_count": 2,
          "nan_count": 0,
          "min": "0",
          "max": "1",
          "histogram": [
           {
            "bin_start": 0,
            "bin_end": 0.1,
            "count": 4
           },
           {
            "bin_start": 0.1,
            "bin_end": 0.2,
            "count": 0
           },
           {
            "bin_start": 0.2,
            "bin_end": 0.30000000000000004,
            "count": 0
           },
           {
            "bin_start": 0.30000000000000004,
            "bin_end": 0.4,
            "count": 0
           },
           {
            "bin_start": 0.4,
            "bin_end": 0.5,
            "count": 0
           },
           {
            "bin_start": 0.5,
            "bin_end": 0.6000000000000001,
            "count": 0
           },
           {
            "bin_start": 0.6000000000000001,
            "bin_end": 0.7000000000000001,
            "count": 0
           },
           {
            "bin_start": 0.7000000000000001,
            "bin_end": 0.8,
            "count": 0
           },
           {
            "bin_start": 0.8,
            "bin_end": 0.9,
            "count": 0
           },
           {
            "bin_start": 0.9,
            "bin_end": 1,
            "count": 1
           }
          ]
         }
        },
        {
         "name": "animation",
         "dtype": "int64",
         "stats": {
          "unique_count": 1,
          "nan_count": 0,
          "min": "0",
          "max": "0",
          "histogram": [
           {
            "bin_start": -0.5,
            "bin_end": -0.4,
            "count": 0
           },
           {
            "bin_start": -0.4,
            "bin_end": -0.3,
            "count": 0
           },
           {
            "bin_start": -0.3,
            "bin_end": -0.19999999999999996,
            "count": 0
           },
           {
            "bin_start": -0.19999999999999996,
            "bin_end": -0.09999999999999998,
            "count": 0
           },
           {
            "bin_start": -0.09999999999999998,
            "bin_end": 0,
            "count": 0
           },
           {
            "bin_start": 0,
            "bin_end": 0.10000000000000009,
            "count": 5
           },
           {
            "bin_start": 0.10000000000000009,
            "bin_end": 0.20000000000000007,
            "count": 0
           },
           {
            "bin_start": 0.20000000000000007,
            "bin_end": 0.30000000000000004,
            "count": 0
           },
           {
            "bin_start": 0.30000000000000004,
            "bin_end": 0.4,
            "count": 0
           },
           {
            "bin_start": 0.4,
            "bin_end": 0.5,
            "count": 0
           }
          ]
         }
        },
        {
         "name": "comedy",
         "dtype": "int64",
         "stats": {
          "unique_count": 2,
          "nan_count": 0,
          "min": "0",
          "max": "1",
          "histogram": [
           {
            "bin_start": 0,
            "bin_end": 0.1,
            "count": 3
           },
           {
            "bin_start": 0.1,
            "bin_end": 0.2,
            "count": 0
           },
           {
            "bin_start": 0.2,
            "bin_end": 0.30000000000000004,
            "count": 0
           },
           {
            "bin_start": 0.30000000000000004,
            "bin_end": 0.4,
            "count": 0
           },
           {
            "bin_start": 0.4,
            "bin_end": 0.5,
            "count": 0
           },
           {
            "bin_start": 0.5,
            "bin_end": 0.6000000000000001,
            "count": 0
           },
           {
            "bin_start": 0.6000000000000001,
            "bin_end": 0.7000000000000001,
            "count": 0
           },
           {
            "bin_start": 0.7000000000000001,
            "bin_end": 0.8,
            "count": 0
           },
           {
            "bin_start": 0.8,
            "bin_end": 0.9,
            "count": 0
           },
           {
            "bin_start": 0.9,
            "bin_end": 1,
            "count": 2
           }
          ]
         }
        },
        {
         "name": "scifi",
         "dtype": "int64",
         "stats": {
          "unique_count": 1,
          "nan_count": 0,
          "min": "0",
          "max": "0",
          "histogram": [
           {
            "bin_start": -0.5,
            "bin_end": -0.4,
            "count": 0
           },
           {
            "bin_start": -0.4,
            "bin_end": -0.3,
            "count": 0
           },
           {
            "bin_start": -0.3,
            "bin_end": -0.19999999999999996,
            "count": 0
           },
           {
            "bin_start": -0.19999999999999996,
            "bin_end": -0.09999999999999998,
            "count": 0
           },
           {
            "bin_start": -0.09999999999999998,
            "bin_end": 0,
            "count": 0
           },
           {
            "bin_start": 0,
            "bin_end": 0.10000000000000009,
            "count": 5
           },
           {
            "bin_start": 0.10000000000000009,
            "bin_end": 0.20000000000000007,
            "count": 0
           },
           {
            "bin_start": 0.20000000000000007,
            "bin_end": 0.30000000000000004,
            "count": 0
           },
           {
            "bin_start": 0.30000000000000004,
            "bin_end": 0.4,
            "count": 0
           },
           {
            "bin_start": 0.4,
            "bin_end": 0.5,
            "count": 0
           }
          ]
         }
        },
        {
         "name": "music",
         "dtype": "int64",
         "stats": {
          "unique_count": 1,
          "nan_count": 0,
          "min": "0",
          "max": "0",
          "histogram": [
           {
            "bin_start": -0.5,
            "bin_end": -0.4,
            "count": 0
           },
           {
            "bin_start": -0.4,
            "bin_end": -0.3,
            "count": 0
           },
           {
            "bin_start": -0.3,
            "bin_end": -0.19999999999999996,
            "count": 0
           },
           {
            "bin_start": -0.19999999999999996,
            "bin_end": -0.09999999999999998,
            "count": 0
           },
           {
            "bin_start": -0.09999999999999998,
            "bin_end": 0,
            "count": 0
           },
           {
            "bin_start": 0,
            "bin_end": 0.10000000000000009,
            "count": 5
           },
           {
            "bin_start": 0.10000000000000009,
            "bin_end": 0.20000000000000007,
            "count": 0
           },
           {
            "bin_start": 0.20000000000000007,
            "bin_end": 0.30000000000000004,
            "count": 0
           },
           {
            "bin_start": 0.30000000000000004,
            "bin_end": 0.4,
            "count": 0
           },
           {
            "bin_start": 0.4,
            "bin_end": 0.5,
            "count": 0
           }
          ]
         }
        },
        {
         "name": "fantasy",
         "dtype": "int64",
         "stats": {
          "unique_count": 2,
          "nan_count": 0,
          "min": "0",
          "max": "1",
          "histogram": [
           {
            "bin_start": 0,
            "bin_end": 0.1,
            "count": 4
           },
           {
            "bin_start": 0.1,
            "bin_end": 0.2,
            "count": 0
           },
           {
            "bin_start": 0.2,
            "bin_end": 0.30000000000000004,
            "count": 0
           },
           {
            "bin_start": 0.30000000000000004,
            "bin_end": 0.4,
            "count": 0
           },
           {
            "bin_start": 0.4,
            "bin_end": 0.5,
            "count": 0
           },
           {
            "bin_start": 0.5,
            "bin_end": 0.6000000000000001,
            "count": 0
           },
           {
            "bin_start": 0.6000000000000001,
            "bin_end": 0.7000000000000001,
            "count": 0
           },
           {
            "bin_start": 0.7000000000000001,
            "bin_end": 0.8,
            "count": 0
           },
           {
            "bin_start": 0.8,
            "bin_end": 0.9,
            "count": 0
           },
           {
            "bin_start": 0.9,
            "bin_end": 1,
            "count": 1
           }
          ]
         }
        },
        {
         "name": "western",
         "dtype": "int64",
         "stats": {
          "unique_count": 1,
          "nan_count": 0,
          "min": "0",
          "max": "0",
          "histogram": [
           {
            "bin_start": -0.5,
            "bin_end": -0.4,
            "count": 0
           },
           {
            "bin_start": -0.4,
            "bin_end": -0.3,
            "count": 0
           },
           {
            "bin_start": -0.3,
            "bin_end": -0.19999999999999996,
            "count": 0
           },
           {
            "bin_start": -0.19999999999999996,
            "bin_end": -0.09999999999999998,
            "count": 0
           },
           {
            "bin_start": -0.09999999999999998,
            "bin_end": 0,
            "count": 0
           },
           {
            "bin_start": 0,
            "bin_end": 0.10000000000000009,
            "count": 5
           },
           {
            "bin_start": 0.10000000000000009,
            "bin_end": 0.20000000000000007,
            "count": 0
           },
           {
            "bin_start": 0.20000000000000007,
            "bin_end": 0.30000000000000004,
            "count": 0
           },
           {
            "bin_start": 0.30000000000000004,
            "bin_end": 0.4,
            "count": 0
           },
           {
            "bin_start": 0.4,
            "bin_end": 0.5,
            "count": 0
           }
          ]
         }
        },
        {
         "name": "thriller",
         "dtype": "int64",
         "stats": {
          "unique_count": 1,
          "nan_count": 0,
          "min": "0",
          "max": "0",
          "histogram": [
           {
            "bin_start": -0.5,
            "bin_end": -0.4,
            "count": 0
           },
           {
            "bin_start": -0.4,
            "bin_end": -0.3,
            "count": 0
           },
           {
            "bin_start": -0.3,
            "bin_end": -0.19999999999999996,
            "count": 0
           },
           {
            "bin_start": -0.19999999999999996,
            "bin_end": -0.09999999999999998,
            "count": 0
           },
           {
            "bin_start": -0.09999999999999998,
            "bin_end": 0,
            "count": 0
           },
           {
            "bin_start": 0,
            "bin_end": 0.10000000000000009,
            "count": 5
           },
           {
            "bin_start": 0.10000000000000009,
            "bin_end": 0.20000000000000007,
            "count": 0
           },
           {
            "bin_start": 0.20000000000000007,
            "bin_end": 0.30000000000000004,
            "count": 0
           },
           {
            "bin_start": 0.30000000000000004,
            "bin_end": 0.4,
            "count": 0
           },
           {
            "bin_start": 0.4,
            "bin_end": 0.5,
            "count": 0
           }
          ]
         }
        },
        {
         "name": "documentation",
         "dtype": "int64",
         "stats": {
          "unique_count": 2,
          "nan_count": 0,
          "min": "0",
          "max": "1",
          "histogram": [
           {
            "bin_start": 0,
            "bin_end": 0.1,
            "count": 4
           },
           {
            "bin_start": 0.1,
            "bin_end": 0.2,
            "count": 0
           },
           {
            "bin_start": 0.2,
            "bin_end": 0.30000000000000004,
            "count": 0
           },
           {
            "bin_start": 0.30000000000000004,
            "bin_end": 0.4,
            "count": 0
           },
           {
            "bin_start": 0.4,
            "bin_end": 0.5,
            "count": 0
           },
           {
            "bin_start": 0.5,
            "bin_end": 0.6000000000000001,
            "count": 0
           },
           {
            "bin_start": 0.6000000000000001,
            "bin_end": 0.7000000000000001,
            "count": 0
           },
           {
            "bin_start": 0.7000000000000001,
            "bin_end": 0.8,
            "count": 0
           },
           {
            "bin_start": 0.8,
            "bin_end": 0.9,
            "count": 0
           },
           {
            "bin_start": 0.9,
            "bin_end": 1,
            "count": 1
           }
          ]
         }
        },
        {
         "name": "crime",
         "dtype": "int64",
         "stats": {
          "unique_count": 2,
          "nan_count": 0,
          "min": "0",
          "max": "1",
          "histogram": [
           {
            "bin_start": 0,
            "bin_end": 0.1,
            "count": 4
           },
           {
            "bin_start": 0.1,
            "bin_end": 0.2,
            "count": 0
           },
           {
            "bin_start": 0.2,
            "bin_end": 0.30000000000000004,
            "count": 0
           },
           {
            "bin_start": 0.30000000000000004,
            "bin_end": 0.4,
            "count": 0
           },
           {
            "bin_start": 0.4,
            "bin_end": 0.5,
            "count": 0
           },
           {
            "bin_start": 0.5,
            "bin_end": 0.6000000000000001,
            "count": 0
           },
           {
            "bin_start": 0.6000000000000001,
            "bin_end": 0.7000000000000001,
            "count": 0
           },
           {
            "bin_start": 0.7000000000000001,
            "bin_end": 0.8,
            "count": 0
           },
           {
            "bin_start": 0.8,
            "bin_end": 0.9,
            "count": 0
           },
           {
            "bin_start": 0.9,
            "bin_end": 1,
            "count": 1
           }
          ]
         }
        },
        {
         "name": "action",
         "dtype": "int64",
         "stats": {
          "unique_count": 1,
          "nan_count": 0,
          "min": "0",
          "max": "0",
          "histogram": [
           {
            "bin_start": -0.5,
            "bin_end": -0.4,
            "count": 0
           },
           {
            "bin_start": -0.4,
            "bin_end": -0.3,
            "count": 0
           },
           {
            "bin_start": -0.3,
            "bin_end": -0.19999999999999996,
            "count": 0
           },
           {
            "bin_start": -0.19999999999999996,
            "bin_end": -0.09999999999999998,
            "count": 0
           },
           {
            "bin_start": -0.09999999999999998,
            "bin_end": 0,
            "count": 0
           },
           {
            "bin_start": 0,
            "bin_end": 0.10000000000000009,
            "count": 5
           },
           {
            "bin_start": 0.10000000000000009,
            "bin_end": 0.20000000000000007,
            "count": 0
           },
           {
            "bin_start": 0.20000000000000007,
            "bin_end": 0.30000000000000004,
            "count": 0
           },
           {
            "bin_start": 0.30000000000000004,
            "bin_end": 0.4,
            "count": 0
           },
           {
            "bin_start": 0.4,
            "bin_end": 0.5,
            "count": 0
           }
          ]
         }
        },
        {
         "name": "war",
         "dtype": "int64",
         "stats": {
          "unique_count": 1,
          "nan_count": 0,
          "min": "0",
          "max": "0",
          "histogram": [
           {
            "bin_start": -0.5,
            "bin_end": -0.4,
            "count": 0
           },
           {
            "bin_start": -0.4,
            "bin_end": -0.3,
            "count": 0
           },
           {
            "bin_start": -0.3,
            "bin_end": -0.19999999999999996,
            "count": 0
           },
           {
            "bin_start": -0.19999999999999996,
            "bin_end": -0.09999999999999998,
            "count": 0
           },
           {
            "bin_start": -0.09999999999999998,
            "bin_end": 0,
            "count": 0
           },
           {
            "bin_start": 0,
            "bin_end": 0.10000000000000009,
            "count": 5
           },
           {
            "bin_start": 0.10000000000000009,
            "bin_end": 0.20000000000000007,
            "count": 0
           },
           {
            "bin_start": 0.20000000000000007,
            "bin_end": 0.30000000000000004,
            "count": 0
           },
           {
            "bin_start": 0.30000000000000004,
            "bin_end": 0.4,
            "count": 0
           },
           {
            "bin_start": 0.4,
            "bin_end": 0.5,
            "count": 0
           }
          ]
         }
        },
        {
         "name": "romance",
         "dtype": "int64",
         "stats": {
          "unique_count": 1,
          "nan_count": 0,
          "min": "0",
          "max": "0",
          "histogram": [
           {
            "bin_start": -0.5,
            "bin_end": -0.4,
            "count": 0
           },
           {
            "bin_start": -0.4,
            "bin_end": -0.3,
            "count": 0
           },
           {
            "bin_start": -0.3,
            "bin_end": -0.19999999999999996,
            "count": 0
           },
           {
            "bin_start": -0.19999999999999996,
            "bin_end": -0.09999999999999998,
            "count": 0
           },
           {
            "bin_start": -0.09999999999999998,
            "bin_end": 0,
            "count": 0
           },
           {
            "bin_start": 0,
            "bin_end": 0.10000000000000009,
            "count": 5
           },
           {
            "bin_start": 0.10000000000000009,
            "bin_end": 0.20000000000000007,
            "count": 0
           },
           {
            "bin_start": 0.20000000000000007,
            "bin_end": 0.30000000000000004,
            "count": 0
           },
           {
            "bin_start": 0.30000000000000004,
            "bin_end": 0.4,
            "count": 0
           },
           {
            "bin_start": 0.4,
            "bin_end": 0.5,
            "count": 0
           }
          ]
         }
        },
        {
         "name": "_deepnote_index_column",
         "dtype": "int64"
        }
       ],
       "rows": [
        {
         "id": "ts300399",
         "title": "Five Came Back: The Reference Films",
         "type": "SHOW",
         "description": "This collection includes 12 World War II-era propaganda films — many of which are graphic and offensive — discussed in the docuseries \"Five Came Back.\"",
         "release_year": 1945,
         "age_certification": "TV-MA",
         "runtime": 48,
         "genres": "['documentation']",
         "production_countries": "['US']",
         "seasons": 1,
         "imdb_id": "nan",
         "imdb_score": "nan",
         "imdb_votes": "nan",
         "tmdb_popularity": 0.6,
         "tmdb_score": "nan",
         "horror": 0,
         "history": 0,
         "european": 0,
         "sport": 0,
         "family": 0,
         "reality": 0,
         "drama": 0,
         "animation": 0,
         "comedy": 0,
         "scifi": 0,
         "music": 0,
         "fantasy": 0,
         "western": 0,
         "thriller": 0,
         "documentation": 1,
         "crime": 0,
         "action": 0,
         "war": 0,
         "romance": 0,
         "_deepnote_index_column": 0
        },
        {
         "id": "tm84618",
         "title": "Taxi Driver",
         "type": "MOVIE",
         "description": "A mentally unstable Vietnam War veteran works as a night-time taxi driver in New York City where the perceived decadence and sleaze feed his urge for violent action, attempting to save a preadolescent prostitute in the process.",
         "release_year": 1976,
         "age_certification": "R",
         "runtime": 113,
         "genres": "['crime', 'drama']",
         "production_countries": "['US']",
         "seasons": "nan",
         "imdb_id": "tt0075314",
         "imdb_score": 8.3,
         "imdb_votes": 795222,
         "tmdb_popularity": 27.612,
         "tmdb_score": 8.2,
         "horror": 0,
         "history": 0,
         "european": 0,
         "sport": 0,
         "family": 0,
         "reality": 0,
         "drama": 1,
         "animation": 0,
         "comedy": 0,
         "scifi": 0,
         "music": 0,
         "fantasy": 0,
         "western": 0,
         "thriller": 0,
         "documentation": 0,
         "crime": 1,
         "action": 0,
         "war": 0,
         "romance": 0,
         "_deepnote_index_column": 1
        },
        {
         "id": "tm127384",
         "title": "Monty Python and the Holy Grail",
         "type": "MOVIE",
         "description": "King Arthur, accompanied by his squire, recruits his Knights of the Round Table, including Sir Bedevere the Wise, Sir Lancelot the Brave, Sir Robin the Not-Quite-So-Brave-As-Sir-Lancelot and Sir Galahad the Pure. On the way, Arthur battles the Black Knight who, despite having had all his limbs chopped off, insists he can still fight. They reach Camelot, but Arthur decides not  to enter, as \"it is a silly place\".",
         "release_year": 1975,
         "age_certification": "PG",
         "runtime": 91,
         "genres": "['comedy', 'fantasy']",
         "production_countries": "['GB']",
         "seasons": "nan",
         "imdb_id": "tt0071853",
         "imdb_score": 8.2,
         "imdb_votes": 530877,
         "tmdb_popularity": 18.216,
         "tmdb_score": 7.8,
         "horror": 0,
         "history": 0,
         "european": 0,
         "sport": 0,
         "family": 0,
         "reality": 0,
         "drama": 0,
         "animation": 0,
         "comedy": 1,
         "scifi": 0,
         "music": 0,
         "fantasy": 1,
         "western": 0,
         "thriller": 0,
         "documentation": 0,
         "crime": 0,
         "action": 0,
         "war": 0,
         "romance": 0,
         "_deepnote_index_column": 2
        },
        {
         "id": "tm70993",
         "title": "Life of Brian",
         "type": "MOVIE",
         "description": "Brian Cohen is an average young Jewish man, but through a series of ridiculous events, he gains a reputation as the Messiah. When he's not dodging his followers or being scolded by his shrill mother, the hapless Brian has to contend with the pompous Pontius Pilate and acronym-obsessed members of a separatist movement. Rife with Monty Python's signature absurdity, the tale finds Brian's life paralleling Biblical lore, albeit with many more laughs.",
         "release_year": 1979,
         "age_certification": "R",
         "runtime": 94,
         "genres": "['comedy']",
         "production_countries": "['GB']",
         "seasons": "nan",
         "imdb_id": "tt0079470",
         "imdb_score": 8,
         "imdb_votes": 392419,
         "tmdb_popularity": 17.505,
         "tmdb_score": 7.8,
         "horror": 0,
         "history": 0,
         "european": 0,
         "sport": 0,
         "family": 0,
         "reality": 0,
         "drama": 0,
         "animation": 0,
         "comedy": 1,
         "scifi": 0,
         "music": 0,
         "fantasy": 0,
         "western": 0,
         "thriller": 0,
         "documentation": 0,
         "crime": 0,
         "action": 0,
         "war": 0,
         "romance": 0,
         "_deepnote_index_column": 3
        },
        {
         "id": "tm190788",
         "title": "The Exorcist",
         "type": "MOVIE",
         "description": "12-year-old Regan MacNeil begins to adapt an explicit new personality as strange events befall the local area of Georgetown. Her mother becomes torn between science and superstition in a desperate bid to save her daughter, and ultimately turns to her last hope: Father Damien Karras, a troubled priest who is struggling with his own faith.",
         "release_year": 1973,
         "age_certification": "R",
         "runtime": 133,
         "genres": "['horror']",
         "production_countries": "['US']",
         "seasons": "nan",
         "imdb_id": "tt0070047",
         "imdb_score": 8.1,
         "imdb_votes": 391942,
         "tmdb_popularity": 95.337,
         "tmdb_score": 7.7,
         "horror": 1,
         "history": 0,
         "european": 0,
         "sport": 0,
         "family": 0,
         "reality": 0,
         "drama": 0,
         "animation": 0,
         "comedy": 0,
         "scifi": 0,
         "music": 0,
         "fantasy": 0,
         "western": 0,
         "thriller": 0,
         "documentation": 0,
         "crime": 0,
         "action": 0,
         "war": 0,
         "romance": 0,
         "_deepnote_index_column": 4
        }
       ]
      },
      "text/plain": "         id                                title   type  \\\n0  ts300399  Five Came Back: The Reference Films   SHOW   \n1   tm84618                          Taxi Driver  MOVIE   \n2  tm127384      Monty Python and the Holy Grail  MOVIE   \n3   tm70993                        Life of Brian  MOVIE   \n4  tm190788                         The Exorcist  MOVIE   \n\n                                         description  release_year  \\\n0  This collection includes 12 World War II-era p...          1945   \n1  A mentally unstable Vietnam War veteran works ...          1976   \n2  King Arthur, accompanied by his squire, recrui...          1975   \n3  Brian Cohen is an average young Jewish man, bu...          1979   \n4  12-year-old Regan MacNeil begins to adapt an e...          1973   \n\n  age_certification  runtime                 genres production_countries  \\\n0             TV-MA       48      ['documentation']               ['US']   \n1                 R      113     ['crime', 'drama']               ['US']   \n2                PG       91  ['comedy', 'fantasy']               ['GB']   \n3                 R       94             ['comedy']               ['GB']   \n4                 R      133             ['horror']               ['US']   \n\n   seasons  ... scifi  music  fantasy  western  thriller  documentation  \\\n0      1.0  ...     0      0        0        0         0              1   \n1      NaN  ...     0      0        0        0         0              0   \n2      NaN  ...     0      0        1        0         0              0   \n3      NaN  ...     0      0        0        0         0              0   \n4      NaN  ...     0      0        0        0         0              0   \n\n   crime  action  war  romance  \n0      0       0    0        0  \n1      1       0    0        0  \n2      0       0    0        0  \n3      0       0    0        0  \n4      0       0    0        0  \n\n[5 rows x 34 columns]",
      "text/html": "<div>\n<style scoped>\n    .dataframe tbody tr th:only-of-type {\n        vertical-align: middle;\n    }\n\n    .dataframe tbody tr th {\n        vertical-align: top;\n    }\n\n    .dataframe thead th {\n        text-align: right;\n    }\n</style>\n<table border=\"1\" class=\"dataframe\">\n  <thead>\n    <tr style=\"text-align: right;\">\n      <th></th>\n      <th>id</th>\n      <th>title</th>\n      <th>type</th>\n      <th>description</th>\n      <th>release_year</th>\n      <th>age_certification</th>\n      <th>runtime</th>\n      <th>genres</th>\n      <th>production_countries</th>\n      <th>seasons</th>\n      <th>...</th>\n      <th>scifi</th>\n      <th>music</th>\n      <th>fantasy</th>\n      <th>western</th>\n      <th>thriller</th>\n      <th>documentation</th>\n      <th>crime</th>\n      <th>action</th>\n      <th>war</th>\n      <th>romance</th>\n    </tr>\n  </thead>\n  <tbody>\n    <tr>\n      <th>0</th>\n      <td>ts300399</td>\n      <td>Five Came Back: The Reference Films</td>\n      <td>SHOW</td>\n      <td>This collection includes 12 World War II-era p...</td>\n      <td>1945</td>\n      <td>TV-MA</td>\n      <td>48</td>\n      <td>['documentation']</td>\n      <td>['US']</td>\n      <td>1.0</td>\n      <td>...</td>\n      <td>0</td>\n      <td>0</td>\n      <td>0</td>\n      <td>0</td>\n      <td>0</td>\n      <td>1</td>\n      <td>0</td>\n      <td>0</td>\n      <td>0</td>\n      <td>0</td>\n    </tr>\n    <tr>\n      <th>1</th>\n      <td>tm84618</td>\n      <td>Taxi Driver</td>\n      <td>MOVIE</td>\n      <td>A mentally unstable Vietnam War veteran works ...</td>\n      <td>1976</td>\n      <td>R</td>\n      <td>113</td>\n      <td>['crime', 'drama']</td>\n      <td>['US']</td>\n      <td>NaN</td>\n      <td>...</td>\n      <td>0</td>\n      <td>0</td>\n      <td>0</td>\n      <td>0</td>\n      <td>0</td>\n      <td>0</td>\n      <td>1</td>\n      <td>0</td>\n      <td>0</td>\n      <td>0</td>\n    </tr>\n    <tr>\n      <th>2</th>\n      <td>tm127384</td>\n      <td>Monty Python and the Holy Grail</td>\n      <td>MOVIE</td>\n      <td>King Arthur, accompanied by his squire, recrui...</td>\n      <td>1975</td>\n      <td>PG</td>\n      <td>91</td>\n      <td>['comedy', 'fantasy']</td>\n      <td>['GB']</td>\n      <td>NaN</td>\n      <td>...</td>\n      <td>0</td>\n      <td>0</td>\n      <td>1</td>\n      <td>0</td>\n      <td>0</td>\n      <td>0</td>\n      <td>0</td>\n      <td>0</td>\n      <td>0</td>\n      <td>0</td>\n    </tr>\n    <tr>\n      <th>3</th>\n      <td>tm70993</td>\n      <td>Life of Brian</td>\n      <td>MOVIE</td>\n      <td>Brian Cohen is an average young Jewish man, bu...</td>\n      <td>1979</td>\n      <td>R</td>\n      <td>94</td>\n      <td>['comedy']</td>\n      <td>['GB']</td>\n      <td>NaN</td>\n      <td>...</td>\n      <td>0</td>\n      <td>0</td>\n      <td>0</td>\n      <td>0</td>\n      <td>0</td>\n      <td>0</td>\n      <td>0</td>\n      <td>0</td>\n      <td>0</td>\n      <td>0</td>\n    </tr>\n    <tr>\n      <th>4</th>\n      <td>tm190788</td>\n      <td>The Exorcist</td>\n      <td>MOVIE</td>\n      <td>12-year-old Regan MacNeil begins to adapt an e...</td>\n      <td>1973</td>\n      <td>R</td>\n      <td>133</td>\n      <td>['horror']</td>\n      <td>['US']</td>\n      <td>NaN</td>\n      <td>...</td>\n      <td>0</td>\n      <td>0</td>\n      <td>0</td>\n      <td>0</td>\n      <td>0</td>\n      <td>0</td>\n      <td>0</td>\n      <td>0</td>\n      <td>0</td>\n      <td>0</td>\n    </tr>\n  </tbody>\n</table>\n<p>5 rows × 34 columns</p>\n</div>"
     },
     "metadata": {}
    }
   ]
  },
  {
   "cell_type": "markdown",
   "source": "In the block below non necessary columns are dropped. Also show and movie columns with 1 and 0 denoting True and False are created from the type column.",
   "metadata": {
    "formattedRanges": [],
    "cell_id": "ee8a14ec4c5e4e38bdea34fee6e8265a",
    "tags": [],
    "is_collapsed": false,
    "deepnote_app_coordinates": {
     "x": 0,
     "y": 76,
     "w": 8,
     "h": 2
    },
    "deepnote_cell_type": "text-cell-p"
   }
  },
  {
   "cell_type": "code",
   "metadata": {
    "cell_id": "4af3e52d698f4307aa7556944a07ae81",
    "tags": [],
    "deepnote_to_be_reexecuted": false,
    "source_hash": "379a31a6",
    "execution_start": 1656708249719,
    "execution_millis": 51,
    "deepnote_app_coordinates": {
     "x": 0,
     "y": 79,
     "w": 12,
     "h": 5
    },
    "deepnote_cell_type": "code",
    "deepnote_cell_height": 207
   },
   "source": "# dropping unneeded columns\ntitles_mod1 = titles.drop(columns = ['title', 'description', 'genres', 'imdb_id', 'production_countries'])\ntitles_mod1\n\n# creating indicator columns for show or movie\ntitles_mod1['movie'] = titles_mod1['type'].str.contains('MOVIE').astype('int')\ntitles_mod1['show'] = titles_mod1['type'].str.contains('SHOW').astype('int')\ntitles_mod1 = titles_mod1.drop(columns = 'type')",
   "execution_count": 8,
   "outputs": []
  },
  {
   "cell_type": "markdown",
   "source": "In the block below more indicator columns are made for each unique age certification level. Since there were many missing values in the age certification column missing values are denoted with 1 in the not rated indicator column.",
   "metadata": {
    "formattedRanges": [],
    "cell_id": "60367e46f99149c7907b20d63bf3237f",
    "tags": [],
    "is_collapsed": false,
    "deepnote_app_coordinates": {
     "x": 0,
     "y": 85,
     "w": 8,
     "h": 2
    },
    "deepnote_cell_type": "text-cell-p"
   }
  },
  {
   "cell_type": "code",
   "metadata": {
    "cell_id": "d3ea0bd5ab46405cb238615f4d5d7944",
    "tags": [],
    "deepnote_to_be_reexecuted": false,
    "source_hash": "35d37e53",
    "execution_start": 1656708249774,
    "execution_millis": 457,
    "deepnote_table_state": {
     "pageSize": 10,
     "pageIndex": 0,
     "filters": [],
     "sortBy": []
    },
    "deepnote_table_loading": false,
    "deepnote_app_coordinates": {
     "x": 0,
     "y": 88,
     "w": 12,
     "h": 5
    },
    "deepnote_cell_type": "code",
    "deepnote_cell_height": 965.796875
   },
   "source": "# creating indicator columns for age certification\nunique(titles_mod1['age_certification'])\n\ntitles_mod1['not_rated'] = titles_mod1['age_certification'].isna().astype('int')\ntitles_mod1['TV-Y'] = titles_mod1['age_certification'].str.contains('TV-Y', na = False).astype('int')\ntitles_mod1['TV-PG'] = titles_mod1['age_certification'].str.contains('TV-PG', na = False).astype('int')\ntitles_mod1['PG'] = titles_mod1['age_certification'].str.contains('PG', na = False).astype('int')\ntitles_mod1['R'] = titles_mod1['age_certification'].str.contains('R', na = False).astype('int')\ntitles_mod1['TV-14'] = titles_mod1['age_certification'].str.contains('TV-14', na = False).astype('int')\ntitles_mod1['PG-13'] = titles_mod1['age_certification'].str.contains('PG-13', na = False).astype('int')\ntitles_mod1['TV-Y7'] = titles_mod1['age_certification'].str.contains('TV-Y7', na = False).astype('int')\ntitles_mod1['NC-17'] = titles_mod1['age_certification'].str.contains('NC-17', na = False).astype('int')\ntitles_mod1['G'] = titles_mod1['age_certification'].str.contains('G', na = False).astype('int')\ntitles_mod1['TV-G'] = titles_mod1['age_certification'].str.contains('TV-G', na = False).astype('int')\ntitles_mod1['TV-MA'] = titles_mod1['age_certification'].str.contains('TV-MA', na = False).astype('int')\ntitles_mod1 = titles_mod1.drop(columns = ['age_certification'])\ntitles_mod1.head()",
   "execution_count": 9,
   "outputs": [
    {
     "name": "stdout",
     "text": "nan\nTV-PG\nR\nTV-14\nTV-MA\nTV-G\nPG-13\nNC-17\nPG\nG\nTV-Y7\nTV-Y\n",
     "output_type": "stream"
    },
    {
     "output_type": "execute_result",
     "execution_count": 9,
     "data": {
      "application/vnd.deepnote.dataframe.v3+json": {
       "column_count": 41,
       "row_count": 5,
       "columns": [
        {
         "name": "id",
         "dtype": "object",
         "stats": {
          "unique_count": 5,
          "nan_count": 0,
          "categories": [
           {
            "name": "ts300399",
            "count": 1
           },
           {
            "name": "tm84618",
            "count": 1
           },
           {
            "name": "3 others",
            "count": 3
           }
          ]
         }
        },
        {
         "name": "release_year",
         "dtype": "int64",
         "stats": {
          "unique_count": 5,
          "nan_count": 0,
          "min": "1945",
          "max": "1979",
          "histogram": [
           {
            "bin_start": 1945,
            "bin_end": 1948.4,
            "count": 1
           },
           {
            "bin_start": 1948.4,
            "bin_end": 1951.8,
            "count": 0
           },
           {
            "bin_start": 1951.8,
            "bin_end": 1955.2,
            "count": 0
           },
           {
            "bin_start": 1955.2,
            "bin_end": 1958.6,
            "count": 0
           },
           {
            "bin_start": 1958.6,
            "bin_end": 1962,
            "count": 0
           },
           {
            "bin_start": 1962,
            "bin_end": 1965.4,
            "count": 0
           },
           {
            "bin_start": 1965.4,
            "bin_end": 1968.8,
            "count": 0
           },
           {
            "bin_start": 1968.8,
            "bin_end": 1972.2,
            "count": 0
           },
           {
            "bin_start": 1972.2,
            "bin_end": 1975.6,
            "count": 2
           },
           {
            "bin_start": 1975.6,
            "bin_end": 1979,
            "count": 2
           }
          ]
         }
        },
        {
         "name": "runtime",
         "dtype": "int64",
         "stats": {
          "unique_count": 5,
          "nan_count": 0,
          "min": "48",
          "max": "133",
          "histogram": [
           {
            "bin_start": 48,
            "bin_end": 56.5,
            "count": 1
           },
           {
            "bin_start": 56.5,
            "bin_end": 65,
            "count": 0
           },
           {
            "bin_start": 65,
            "bin_end": 73.5,
            "count": 0
           },
           {
            "bin_start": 73.5,
            "bin_end": 82,
            "count": 0
           },
           {
            "bin_start": 82,
            "bin_end": 90.5,
            "count": 0
           },
           {
            "bin_start": 90.5,
            "bin_end": 99,
            "count": 2
           },
           {
            "bin_start": 99,
            "bin_end": 107.5,
            "count": 0
           },
           {
            "bin_start": 107.5,
            "bin_end": 116,
            "count": 1
           },
           {
            "bin_start": 116,
            "bin_end": 124.5,
            "count": 0
           },
           {
            "bin_start": 124.5,
            "bin_end": 133,
            "count": 1
           }
          ]
         }
        },
        {
         "name": "seasons",
         "dtype": "float64",
         "stats": {
          "unique_count": 1,
          "nan_count": 4,
          "min": "1.0",
          "max": "1.0",
          "histogram": [
           {
            "bin_start": 0.5,
            "bin_end": 0.6,
            "count": 0
           },
           {
            "bin_start": 0.6,
            "bin_end": 0.7,
            "count": 0
           },
           {
            "bin_start": 0.7,
            "bin_end": 0.8,
            "count": 0
           },
           {
            "bin_start": 0.8,
            "bin_end": 0.9,
            "count": 0
           },
           {
            "bin_start": 0.9,
            "bin_end": 1,
            "count": 0
           },
           {
            "bin_start": 1,
            "bin_end": 1.1,
            "count": 1
           },
           {
            "bin_start": 1.1,
            "bin_end": 1.2000000000000002,
            "count": 0
           },
           {
            "bin_start": 1.2000000000000002,
            "bin_end": 1.3,
            "count": 0
           },
           {
            "bin_start": 1.3,
            "bin_end": 1.4,
            "count": 0
           },
           {
            "bin_start": 1.4,
            "bin_end": 1.5,
            "count": 0
           }
          ]
         }
        },
        {
         "name": "imdb_score",
         "dtype": "float64",
         "stats": {
          "unique_count": 4,
          "nan_count": 1,
          "min": "8.0",
          "max": "8.3",
          "histogram": [
           {
            "bin_start": 8,
            "bin_end": 8.03,
            "count": 1
           },
           {
            "bin_start": 8.03,
            "bin_end": 8.06,
            "count": 0
           },
           {
            "bin_start": 8.06,
            "bin_end": 8.09,
            "count": 0
           },
           {
            "bin_start": 8.09,
            "bin_end": 8.120000000000001,
            "count": 1
           },
           {
            "bin_start": 8.120000000000001,
            "bin_end": 8.15,
            "count": 0
           },
           {
            "bin_start": 8.15,
            "bin_end": 8.18,
            "count": 0
           },
           {
            "bin_start": 8.18,
            "bin_end": 8.21,
            "count": 1
           },
           {
            "bin_start": 8.21,
            "bin_end": 8.24,
            "count": 0
           },
           {
            "bin_start": 8.24,
            "bin_end": 8.270000000000001,
            "count": 0
           },
           {
            "bin_start": 8.270000000000001,
            "bin_end": 8.3,
            "count": 1
           }
          ]
         }
        },
        {
         "name": "imdb_votes",
         "dtype": "float64",
         "stats": {
          "unique_count": 4,
          "nan_count": 1,
          "min": "391942.0",
          "max": "795222.0",
          "histogram": [
           {
            "bin_start": 391942,
            "bin_end": 432270,
            "count": 2
           },
           {
            "bin_start": 432270,
            "bin_end": 472598,
            "count": 0
           },
           {
            "bin_start": 472598,
            "bin_end": 512926,
            "count": 0
           },
           {
            "bin_start": 512926,
            "bin_end": 553254,
            "count": 1
           },
           {
            "bin_start": 553254,
            "bin_end": 593582,
            "count": 0
           },
           {
            "bin_start": 593582,
            "bin_end": 633910,
            "count": 0
           },
           {
            "bin_start": 633910,
            "bin_end": 674238,
            "count": 0
           },
           {
            "bin_start": 674238,
            "bin_end": 714566,
            "count": 0
           },
           {
            "bin_start": 714566,
            "bin_end": 754894,
            "count": 0
           },
           {
            "bin_start": 754894,
            "bin_end": 795222,
            "count": 1
           }
          ]
         }
        },
        {
         "name": "tmdb_popularity",
         "dtype": "float64",
         "stats": {
          "unique_count": 5,
          "nan_count": 0,
          "min": "0.6",
          "max": "95.337",
          "histogram": [
           {
            "bin_start": 0.6,
            "bin_end": 10.0737,
            "count": 1
           },
           {
            "bin_start": 10.0737,
            "bin_end": 19.547400000000003,
            "count": 2
           },
           {
            "bin_start": 19.547400000000003,
            "bin_end": 29.021100000000004,
            "count": 1
           },
           {
            "bin_start": 29.021100000000004,
            "bin_end": 38.494800000000005,
            "count": 0
           },
           {
            "bin_start": 38.494800000000005,
            "bin_end": 47.968500000000006,
            "count": 0
           },
           {
            "bin_start": 47.968500000000006,
            "bin_end": 57.44220000000001,
            "count": 0
           },
           {
            "bin_start": 57.44220000000001,
            "bin_end": 66.9159,
            "count": 0
           },
           {
            "bin_start": 66.9159,
            "bin_end": 76.3896,
            "count": 0
           },
           {
            "bin_start": 76.3896,
            "bin_end": 85.86330000000001,
            "count": 0
           },
           {
            "bin_start": 85.86330000000001,
            "bin_end": 95.337,
            "count": 1
           }
          ]
         }
        },
        {
         "name": "tmdb_score",
         "dtype": "float64",
         "stats": {
          "unique_count": 3,
          "nan_count": 1,
          "min": "7.7",
          "max": "8.2",
          "histogram": [
           {
            "bin_start": 7.7,
            "bin_end": 7.75,
            "count": 1
           },
           {
            "bin_start": 7.75,
            "bin_end": 7.8,
            "count": 0
           },
           {
            "bin_start": 7.8,
            "bin_end": 7.85,
            "count": 2
           },
           {
            "bin_start": 7.85,
            "bin_end": 7.8999999999999995,
            "count": 0
           },
           {
            "bin_start": 7.8999999999999995,
            "bin_end": 7.949999999999999,
            "count": 0
           },
           {
            "bin_start": 7.949999999999999,
            "bin_end": 8,
            "count": 0
           },
           {
            "bin_start": 8,
            "bin_end": 8.049999999999999,
            "count": 0
           },
           {
            "bin_start": 8.049999999999999,
            "bin_end": 8.1,
            "count": 0
           },
           {
            "bin_start": 8.1,
            "bin_end": 8.149999999999999,
            "count": 0
           },
           {
            "bin_start": 8.149999999999999,
            "bin_end": 8.2,
            "count": 1
           }
          ]
         }
        },
        {
         "name": "horror",
         "dtype": "int64",
         "stats": {
          "unique_count": 2,
          "nan_count": 0,
          "min": "0",
          "max": "1",
          "histogram": [
           {
            "bin_start": 0,
            "bin_end": 0.1,
            "count": 4
           },
           {
            "bin_start": 0.1,
            "bin_end": 0.2,
            "count": 0
           },
           {
            "bin_start": 0.2,
            "bin_end": 0.30000000000000004,
            "count": 0
           },
           {
            "bin_start": 0.30000000000000004,
            "bin_end": 0.4,
            "count": 0
           },
           {
            "bin_start": 0.4,
            "bin_end": 0.5,
            "count": 0
           },
           {
            "bin_start": 0.5,
            "bin_end": 0.6000000000000001,
            "count": 0
           },
           {
            "bin_start": 0.6000000000000001,
            "bin_end": 0.7000000000000001,
            "count": 0
           },
           {
            "bin_start": 0.7000000000000001,
            "bin_end": 0.8,
            "count": 0
           },
           {
            "bin_start": 0.8,
            "bin_end": 0.9,
            "count": 0
           },
           {
            "bin_start": 0.9,
            "bin_end": 1,
            "count": 1
           }
          ]
         }
        },
        {
         "name": "history",
         "dtype": "int64",
         "stats": {
          "unique_count": 1,
          "nan_count": 0,
          "min": "0",
          "max": "0",
          "histogram": [
           {
            "bin_start": -0.5,
            "bin_end": -0.4,
            "count": 0
           },
           {
            "bin_start": -0.4,
            "bin_end": -0.3,
            "count": 0
           },
           {
            "bin_start": -0.3,
            "bin_end": -0.19999999999999996,
            "count": 0
           },
           {
            "bin_start": -0.19999999999999996,
            "bin_end": -0.09999999999999998,
            "count": 0
           },
           {
            "bin_start": -0.09999999999999998,
            "bin_end": 0,
            "count": 0
           },
           {
            "bin_start": 0,
            "bin_end": 0.10000000000000009,
            "count": 5
           },
           {
            "bin_start": 0.10000000000000009,
            "bin_end": 0.20000000000000007,
            "count": 0
           },
           {
            "bin_start": 0.20000000000000007,
            "bin_end": 0.30000000000000004,
            "count": 0
           },
           {
            "bin_start": 0.30000000000000004,
            "bin_end": 0.4,
            "count": 0
           },
           {
            "bin_start": 0.4,
            "bin_end": 0.5,
            "count": 0
           }
          ]
         }
        },
        {
         "name": "european",
         "dtype": "int64",
         "stats": {
          "unique_count": 1,
          "nan_count": 0,
          "min": "0",
          "max": "0",
          "histogram": [
           {
            "bin_start": -0.5,
            "bin_end": -0.4,
            "count": 0
           },
           {
            "bin_start": -0.4,
            "bin_end": -0.3,
            "count": 0
           },
           {
            "bin_start": -0.3,
            "bin_end": -0.19999999999999996,
            "count": 0
           },
           {
            "bin_start": -0.19999999999999996,
            "bin_end": -0.09999999999999998,
            "count": 0
           },
           {
            "bin_start": -0.09999999999999998,
            "bin_end": 0,
            "count": 0
           },
           {
            "bin_start": 0,
            "bin_end": 0.10000000000000009,
            "count": 5
           },
           {
            "bin_start": 0.10000000000000009,
            "bin_end": 0.20000000000000007,
            "count": 0
           },
           {
            "bin_start": 0.20000000000000007,
            "bin_end": 0.30000000000000004,
            "count": 0
           },
           {
            "bin_start": 0.30000000000000004,
            "bin_end": 0.4,
            "count": 0
           },
           {
            "bin_start": 0.4,
            "bin_end": 0.5,
            "count": 0
           }
          ]
         }
        },
        {
         "name": "sport",
         "dtype": "int64",
         "stats": {
          "unique_count": 1,
          "nan_count": 0,
          "min": "0",
          "max": "0",
          "histogram": [
           {
            "bin_start": -0.5,
            "bin_end": -0.4,
            "count": 0
           },
           {
            "bin_start": -0.4,
            "bin_end": -0.3,
            "count": 0
           },
           {
            "bin_start": -0.3,
            "bin_end": -0.19999999999999996,
            "count": 0
           },
           {
            "bin_start": -0.19999999999999996,
            "bin_end": -0.09999999999999998,
            "count": 0
           },
           {
            "bin_start": -0.09999999999999998,
            "bin_end": 0,
            "count": 0
           },
           {
            "bin_start": 0,
            "bin_end": 0.10000000000000009,
            "count": 5
           },
           {
            "bin_start": 0.10000000000000009,
            "bin_end": 0.20000000000000007,
            "count": 0
           },
           {
            "bin_start": 0.20000000000000007,
            "bin_end": 0.30000000000000004,
            "count": 0
           },
           {
            "bin_start": 0.30000000000000004,
            "bin_end": 0.4,
            "count": 0
           },
           {
            "bin_start": 0.4,
            "bin_end": 0.5,
            "count": 0
           }
          ]
         }
        },
        {
         "name": "family",
         "dtype": "int64",
         "stats": {
          "unique_count": 1,
          "nan_count": 0,
          "min": "0",
          "max": "0",
          "histogram": [
           {
            "bin_start": -0.5,
            "bin_end": -0.4,
            "count": 0
           },
           {
            "bin_start": -0.4,
            "bin_end": -0.3,
            "count": 0
           },
           {
            "bin_start": -0.3,
            "bin_end": -0.19999999999999996,
            "count": 0
           },
           {
            "bin_start": -0.19999999999999996,
            "bin_end": -0.09999999999999998,
            "count": 0
           },
           {
            "bin_start": -0.09999999999999998,
            "bin_end": 0,
            "count": 0
           },
           {
            "bin_start": 0,
            "bin_end": 0.10000000000000009,
            "count": 5
           },
           {
            "bin_start": 0.10000000000000009,
            "bin_end": 0.20000000000000007,
            "count": 0
           },
           {
            "bin_start": 0.20000000000000007,
            "bin_end": 0.30000000000000004,
            "count": 0
           },
           {
            "bin_start": 0.30000000000000004,
            "bin_end": 0.4,
            "count": 0
           },
           {
            "bin_start": 0.4,
            "bin_end": 0.5,
            "count": 0
           }
          ]
         }
        },
        {
         "name": "reality",
         "dtype": "int64",
         "stats": {
          "unique_count": 1,
          "nan_count": 0,
          "min": "0",
          "max": "0",
          "histogram": [
           {
            "bin_start": -0.5,
            "bin_end": -0.4,
            "count": 0
           },
           {
            "bin_start": -0.4,
            "bin_end": -0.3,
            "count": 0
           },
           {
            "bin_start": -0.3,
            "bin_end": -0.19999999999999996,
            "count": 0
           },
           {
            "bin_start": -0.19999999999999996,
            "bin_end": -0.09999999999999998,
            "count": 0
           },
           {
            "bin_start": -0.09999999999999998,
            "bin_end": 0,
            "count": 0
           },
           {
            "bin_start": 0,
            "bin_end": 0.10000000000000009,
            "count": 5
           },
           {
            "bin_start": 0.10000000000000009,
            "bin_end": 0.20000000000000007,
            "count": 0
           },
           {
            "bin_start": 0.20000000000000007,
            "bin_end": 0.30000000000000004,
            "count": 0
           },
           {
            "bin_start": 0.30000000000000004,
            "bin_end": 0.4,
            "count": 0
           },
           {
            "bin_start": 0.4,
            "bin_end": 0.5,
            "count": 0
           }
          ]
         }
        },
        {
         "name": "drama",
         "dtype": "int64",
         "stats": {
          "unique_count": 2,
          "nan_count": 0,
          "min": "0",
          "max": "1",
          "histogram": [
           {
            "bin_start": 0,
            "bin_end": 0.1,
            "count": 4
           },
           {
            "bin_start": 0.1,
            "bin_end": 0.2,
            "count": 0
           },
           {
            "bin_start": 0.2,
            "bin_end": 0.30000000000000004,
            "count": 0
           },
           {
            "bin_start": 0.30000000000000004,
            "bin_end": 0.4,
            "count": 0
           },
           {
            "bin_start": 0.4,
            "bin_end": 0.5,
            "count": 0
           },
           {
            "bin_start": 0.5,
            "bin_end": 0.6000000000000001,
            "count": 0
           },
           {
            "bin_start": 0.6000000000000001,
            "bin_end": 0.7000000000000001,
            "count": 0
           },
           {
            "bin_start": 0.7000000000000001,
            "bin_end": 0.8,
            "count": 0
           },
           {
            "bin_start": 0.8,
            "bin_end": 0.9,
            "count": 0
           },
           {
            "bin_start": 0.9,
            "bin_end": 1,
            "count": 1
           }
          ]
         }
        },
        {
         "name": "animation",
         "dtype": "int64",
         "stats": {
          "unique_count": 1,
          "nan_count": 0,
          "min": "0",
          "max": "0",
          "histogram": [
           {
            "bin_start": -0.5,
            "bin_end": -0.4,
            "count": 0
           },
           {
            "bin_start": -0.4,
            "bin_end": -0.3,
            "count": 0
           },
           {
            "bin_start": -0.3,
            "bin_end": -0.19999999999999996,
            "count": 0
           },
           {
            "bin_start": -0.19999999999999996,
            "bin_end": -0.09999999999999998,
            "count": 0
           },
           {
            "bin_start": -0.09999999999999998,
            "bin_end": 0,
            "count": 0
           },
           {
            "bin_start": 0,
            "bin_end": 0.10000000000000009,
            "count": 5
           },
           {
            "bin_start": 0.10000000000000009,
            "bin_end": 0.20000000000000007,
            "count": 0
           },
           {
            "bin_start": 0.20000000000000007,
            "bin_end": 0.30000000000000004,
            "count": 0
           },
           {
            "bin_start": 0.30000000000000004,
            "bin_end": 0.4,
            "count": 0
           },
           {
            "bin_start": 0.4,
            "bin_end": 0.5,
            "count": 0
           }
          ]
         }
        },
        {
         "name": "comedy",
         "dtype": "int64",
         "stats": {
          "unique_count": 2,
          "nan_count": 0,
          "min": "0",
          "max": "1",
          "histogram": [
           {
            "bin_start": 0,
            "bin_end": 0.1,
            "count": 3
           },
           {
            "bin_start": 0.1,
            "bin_end": 0.2,
            "count": 0
           },
           {
            "bin_start": 0.2,
            "bin_end": 0.30000000000000004,
            "count": 0
           },
           {
            "bin_start": 0.30000000000000004,
            "bin_end": 0.4,
            "count": 0
           },
           {
            "bin_start": 0.4,
            "bin_end": 0.5,
            "count": 0
           },
           {
            "bin_start": 0.5,
            "bin_end": 0.6000000000000001,
            "count": 0
           },
           {
            "bin_start": 0.6000000000000001,
            "bin_end": 0.7000000000000001,
            "count": 0
           },
           {
            "bin_start": 0.7000000000000001,
            "bin_end": 0.8,
            "count": 0
           },
           {
            "bin_start": 0.8,
            "bin_end": 0.9,
            "count": 0
           },
           {
            "bin_start": 0.9,
            "bin_end": 1,
            "count": 2
           }
          ]
         }
        },
        {
         "name": "scifi",
         "dtype": "int64",
         "stats": {
          "unique_count": 1,
          "nan_count": 0,
          "min": "0",
          "max": "0",
          "histogram": [
           {
            "bin_start": -0.5,
            "bin_end": -0.4,
            "count": 0
           },
           {
            "bin_start": -0.4,
            "bin_end": -0.3,
            "count": 0
           },
           {
            "bin_start": -0.3,
            "bin_end": -0.19999999999999996,
            "count": 0
           },
           {
            "bin_start": -0.19999999999999996,
            "bin_end": -0.09999999999999998,
            "count": 0
           },
           {
            "bin_start": -0.09999999999999998,
            "bin_end": 0,
            "count": 0
           },
           {
            "bin_start": 0,
            "bin_end": 0.10000000000000009,
            "count": 5
           },
           {
            "bin_start": 0.10000000000000009,
            "bin_end": 0.20000000000000007,
            "count": 0
           },
           {
            "bin_start": 0.20000000000000007,
            "bin_end": 0.30000000000000004,
            "count": 0
           },
           {
            "bin_start": 0.30000000000000004,
            "bin_end": 0.4,
            "count": 0
           },
           {
            "bin_start": 0.4,
            "bin_end": 0.5,
            "count": 0
           }
          ]
         }
        },
        {
         "name": "music",
         "dtype": "int64",
         "stats": {
          "unique_count": 1,
          "nan_count": 0,
          "min": "0",
          "max": "0",
          "histogram": [
           {
            "bin_start": -0.5,
            "bin_end": -0.4,
            "count": 0
           },
           {
            "bin_start": -0.4,
            "bin_end": -0.3,
            "count": 0
           },
           {
            "bin_start": -0.3,
            "bin_end": -0.19999999999999996,
            "count": 0
           },
           {
            "bin_start": -0.19999999999999996,
            "bin_end": -0.09999999999999998,
            "count": 0
           },
           {
            "bin_start": -0.09999999999999998,
            "bin_end": 0,
            "count": 0
           },
           {
            "bin_start": 0,
            "bin_end": 0.10000000000000009,
            "count": 5
           },
           {
            "bin_start": 0.10000000000000009,
            "bin_end": 0.20000000000000007,
            "count": 0
           },
           {
            "bin_start": 0.20000000000000007,
            "bin_end": 0.30000000000000004,
            "count": 0
           },
           {
            "bin_start": 0.30000000000000004,
            "bin_end": 0.4,
            "count": 0
           },
           {
            "bin_start": 0.4,
            "bin_end": 0.5,
            "count": 0
           }
          ]
         }
        },
        {
         "name": "fantasy",
         "dtype": "int64",
         "stats": {
          "unique_count": 2,
          "nan_count": 0,
          "min": "0",
          "max": "1",
          "histogram": [
           {
            "bin_start": 0,
            "bin_end": 0.1,
            "count": 4
           },
           {
            "bin_start": 0.1,
            "bin_end": 0.2,
            "count": 0
           },
           {
            "bin_start": 0.2,
            "bin_end": 0.30000000000000004,
            "count": 0
           },
           {
            "bin_start": 0.30000000000000004,
            "bin_end": 0.4,
            "count": 0
           },
           {
            "bin_start": 0.4,
            "bin_end": 0.5,
            "count": 0
           },
           {
            "bin_start": 0.5,
            "bin_end": 0.6000000000000001,
            "count": 0
           },
           {
            "bin_start": 0.6000000000000001,
            "bin_end": 0.7000000000000001,
            "count": 0
           },
           {
            "bin_start": 0.7000000000000001,
            "bin_end": 0.8,
            "count": 0
           },
           {
            "bin_start": 0.8,
            "bin_end": 0.9,
            "count": 0
           },
           {
            "bin_start": 0.9,
            "bin_end": 1,
            "count": 1
           }
          ]
         }
        },
        {
         "name": "western",
         "dtype": "int64",
         "stats": {
          "unique_count": 1,
          "nan_count": 0,
          "min": "0",
          "max": "0",
          "histogram": [
           {
            "bin_start": -0.5,
            "bin_end": -0.4,
            "count": 0
           },
           {
            "bin_start": -0.4,
            "bin_end": -0.3,
            "count": 0
           },
           {
            "bin_start": -0.3,
            "bin_end": -0.19999999999999996,
            "count": 0
           },
           {
            "bin_start": -0.19999999999999996,
            "bin_end": -0.09999999999999998,
            "count": 0
           },
           {
            "bin_start": -0.09999999999999998,
            "bin_end": 0,
            "count": 0
           },
           {
            "bin_start": 0,
            "bin_end": 0.10000000000000009,
            "count": 5
           },
           {
            "bin_start": 0.10000000000000009,
            "bin_end": 0.20000000000000007,
            "count": 0
           },
           {
            "bin_start": 0.20000000000000007,
            "bin_end": 0.30000000000000004,
            "count": 0
           },
           {
            "bin_start": 0.30000000000000004,
            "bin_end": 0.4,
            "count": 0
           },
           {
            "bin_start": 0.4,
            "bin_end": 0.5,
            "count": 0
           }
          ]
         }
        },
        {
         "name": "thriller",
         "dtype": "int64",
         "stats": {
          "unique_count": 1,
          "nan_count": 0,
          "min": "0",
          "max": "0",
          "histogram": [
           {
            "bin_start": -0.5,
            "bin_end": -0.4,
            "count": 0
           },
           {
            "bin_start": -0.4,
            "bin_end": -0.3,
            "count": 0
           },
           {
            "bin_start": -0.3,
            "bin_end": -0.19999999999999996,
            "count": 0
           },
           {
            "bin_start": -0.19999999999999996,
            "bin_end": -0.09999999999999998,
            "count": 0
           },
           {
            "bin_start": -0.09999999999999998,
            "bin_end": 0,
            "count": 0
           },
           {
            "bin_start": 0,
            "bin_end": 0.10000000000000009,
            "count": 5
           },
           {
            "bin_start": 0.10000000000000009,
            "bin_end": 0.20000000000000007,
            "count": 0
           },
           {
            "bin_start": 0.20000000000000007,
            "bin_end": 0.30000000000000004,
            "count": 0
           },
           {
            "bin_start": 0.30000000000000004,
            "bin_end": 0.4,
            "count": 0
           },
           {
            "bin_start": 0.4,
            "bin_end": 0.5,
            "count": 0
           }
          ]
         }
        },
        {
         "name": "documentation",
         "dtype": "int64",
         "stats": {
          "unique_count": 2,
          "nan_count": 0,
          "min": "0",
          "max": "1",
          "histogram": [
           {
            "bin_start": 0,
            "bin_end": 0.1,
            "count": 4
           },
           {
            "bin_start": 0.1,
            "bin_end": 0.2,
            "count": 0
           },
           {
            "bin_start": 0.2,
            "bin_end": 0.30000000000000004,
            "count": 0
           },
           {
            "bin_start": 0.30000000000000004,
            "bin_end": 0.4,
            "count": 0
           },
           {
            "bin_start": 0.4,
            "bin_end": 0.5,
            "count": 0
           },
           {
            "bin_start": 0.5,
            "bin_end": 0.6000000000000001,
            "count": 0
           },
           {
            "bin_start": 0.6000000000000001,
            "bin_end": 0.7000000000000001,
            "count": 0
           },
           {
            "bin_start": 0.7000000000000001,
            "bin_end": 0.8,
            "count": 0
           },
           {
            "bin_start": 0.8,
            "bin_end": 0.9,
            "count": 0
           },
           {
            "bin_start": 0.9,
            "bin_end": 1,
            "count": 1
           }
          ]
         }
        },
        {
         "name": "crime",
         "dtype": "int64",
         "stats": {
          "unique_count": 2,
          "nan_count": 0,
          "min": "0",
          "max": "1",
          "histogram": [
           {
            "bin_start": 0,
            "bin_end": 0.1,
            "count": 4
           },
           {
            "bin_start": 0.1,
            "bin_end": 0.2,
            "count": 0
           },
           {
            "bin_start": 0.2,
            "bin_end": 0.30000000000000004,
            "count": 0
           },
           {
            "bin_start": 0.30000000000000004,
            "bin_end": 0.4,
            "count": 0
           },
           {
            "bin_start": 0.4,
            "bin_end": 0.5,
            "count": 0
           },
           {
            "bin_start": 0.5,
            "bin_end": 0.6000000000000001,
            "count": 0
           },
           {
            "bin_start": 0.6000000000000001,
            "bin_end": 0.7000000000000001,
            "count": 0
           },
           {
            "bin_start": 0.7000000000000001,
            "bin_end": 0.8,
            "count": 0
           },
           {
            "bin_start": 0.8,
            "bin_end": 0.9,
            "count": 0
           },
           {
            "bin_start": 0.9,
            "bin_end": 1,
            "count": 1
           }
          ]
         }
        },
        {
         "name": "action",
         "dtype": "int64",
         "stats": {
          "unique_count": 1,
          "nan_count": 0,
          "min": "0",
          "max": "0",
          "histogram": [
           {
            "bin_start": -0.5,
            "bin_end": -0.4,
            "count": 0
           },
           {
            "bin_start": -0.4,
            "bin_end": -0.3,
            "count": 0
           },
           {
            "bin_start": -0.3,
            "bin_end": -0.19999999999999996,
            "count": 0
           },
           {
            "bin_start": -0.19999999999999996,
            "bin_end": -0.09999999999999998,
            "count": 0
           },
           {
            "bin_start": -0.09999999999999998,
            "bin_end": 0,
            "count": 0
           },
           {
            "bin_start": 0,
            "bin_end": 0.10000000000000009,
            "count": 5
           },
           {
            "bin_start": 0.10000000000000009,
            "bin_end": 0.20000000000000007,
            "count": 0
           },
           {
            "bin_start": 0.20000000000000007,
            "bin_end": 0.30000000000000004,
            "count": 0
           },
           {
            "bin_start": 0.30000000000000004,
            "bin_end": 0.4,
            "count": 0
           },
           {
            "bin_start": 0.4,
            "bin_end": 0.5,
            "count": 0
           }
          ]
         }
        },
        {
         "name": "war",
         "dtype": "int64",
         "stats": {
          "unique_count": 1,
          "nan_count": 0,
          "min": "0",
          "max": "0",
          "histogram": [
           {
            "bin_start": -0.5,
            "bin_end": -0.4,
            "count": 0
           },
           {
            "bin_start": -0.4,
            "bin_end": -0.3,
            "count": 0
           },
           {
            "bin_start": -0.3,
            "bin_end": -0.19999999999999996,
            "count": 0
           },
           {
            "bin_start": -0.19999999999999996,
            "bin_end": -0.09999999999999998,
            "count": 0
           },
           {
            "bin_start": -0.09999999999999998,
            "bin_end": 0,
            "count": 0
           },
           {
            "bin_start": 0,
            "bin_end": 0.10000000000000009,
            "count": 5
           },
           {
            "bin_start": 0.10000000000000009,
            "bin_end": 0.20000000000000007,
            "count": 0
           },
           {
            "bin_start": 0.20000000000000007,
            "bin_end": 0.30000000000000004,
            "count": 0
           },
           {
            "bin_start": 0.30000000000000004,
            "bin_end": 0.4,
            "count": 0
           },
           {
            "bin_start": 0.4,
            "bin_end": 0.5,
            "count": 0
           }
          ]
         }
        },
        {
         "name": "romance",
         "dtype": "int64",
         "stats": {
          "unique_count": 1,
          "nan_count": 0,
          "min": "0",
          "max": "0",
          "histogram": [
           {
            "bin_start": -0.5,
            "bin_end": -0.4,
            "count": 0
           },
           {
            "bin_start": -0.4,
            "bin_end": -0.3,
            "count": 0
           },
           {
            "bin_start": -0.3,
            "bin_end": -0.19999999999999996,
            "count": 0
           },
           {
            "bin_start": -0.19999999999999996,
            "bin_end": -0.09999999999999998,
            "count": 0
           },
           {
            "bin_start": -0.09999999999999998,
            "bin_end": 0,
            "count": 0
           },
           {
            "bin_start": 0,
            "bin_end": 0.10000000000000009,
            "count": 5
           },
           {
            "bin_start": 0.10000000000000009,
            "bin_end": 0.20000000000000007,
            "count": 0
           },
           {
            "bin_start": 0.20000000000000007,
            "bin_end": 0.30000000000000004,
            "count": 0
           },
           {
            "bin_start": 0.30000000000000004,
            "bin_end": 0.4,
            "count": 0
           },
           {
            "bin_start": 0.4,
            "bin_end": 0.5,
            "count": 0
           }
          ]
         }
        },
        {
         "name": "movie",
         "dtype": "int64",
         "stats": {
          "unique_count": 2,
          "nan_count": 0,
          "min": "0",
          "max": "1",
          "histogram": [
           {
            "bin_start": 0,
            "bin_end": 0.1,
            "count": 1
           },
           {
            "bin_start": 0.1,
            "bin_end": 0.2,
            "count": 0
           },
           {
            "bin_start": 0.2,
            "bin_end": 0.30000000000000004,
            "count": 0
           },
           {
            "bin_start": 0.30000000000000004,
            "bin_end": 0.4,
            "count": 0
           },
           {
            "bin_start": 0.4,
            "bin_end": 0.5,
            "count": 0
           },
           {
            "bin_start": 0.5,
            "bin_end": 0.6000000000000001,
            "count": 0
           },
           {
            "bin_start": 0.6000000000000001,
            "bin_end": 0.7000000000000001,
            "count": 0
           },
           {
            "bin_start": 0.7000000000000001,
            "bin_end": 0.8,
            "count": 0
           },
           {
            "bin_start": 0.8,
            "bin_end": 0.9,
            "count": 0
           },
           {
            "bin_start": 0.9,
            "bin_end": 1,
            "count": 4
           }
          ]
         }
        },
        {
         "name": "show",
         "dtype": "int64",
         "stats": {
          "unique_count": 2,
          "nan_count": 0,
          "min": "0",
          "max": "1",
          "histogram": [
           {
            "bin_start": 0,
            "bin_end": 0.1,
            "count": 4
           },
           {
            "bin_start": 0.1,
            "bin_end": 0.2,
            "count": 0
           },
           {
            "bin_start": 0.2,
            "bin_end": 0.30000000000000004,
            "count": 0
           },
           {
            "bin_start": 0.30000000000000004,
            "bin_end": 0.4,
            "count": 0
           },
           {
            "bin_start": 0.4,
            "bin_end": 0.5,
            "count": 0
           },
           {
            "bin_start": 0.5,
            "bin_end": 0.6000000000000001,
            "count": 0
           },
           {
            "bin_start": 0.6000000000000001,
            "bin_end": 0.7000000000000001,
            "count": 0
           },
           {
            "bin_start": 0.7000000000000001,
            "bin_end": 0.8,
            "count": 0
           },
           {
            "bin_start": 0.8,
            "bin_end": 0.9,
            "count": 0
           },
           {
            "bin_start": 0.9,
            "bin_end": 1,
            "count": 1
           }
          ]
         }
        },
        {
         "name": "not_rated",
         "dtype": "int64",
         "stats": {
          "unique_count": 1,
          "nan_count": 0,
          "min": "0",
          "max": "0",
          "histogram": [
           {
            "bin_start": -0.5,
            "bin_end": -0.4,
            "count": 0
           },
           {
            "bin_start": -0.4,
            "bin_end": -0.3,
            "count": 0
           },
           {
            "bin_start": -0.3,
            "bin_end": -0.19999999999999996,
            "count": 0
           },
           {
            "bin_start": -0.19999999999999996,
            "bin_end": -0.09999999999999998,
            "count": 0
           },
           {
            "bin_start": -0.09999999999999998,
            "bin_end": 0,
            "count": 0
           },
           {
            "bin_start": 0,
            "bin_end": 0.10000000000000009,
            "count": 5
           },
           {
            "bin_start": 0.10000000000000009,
            "bin_end": 0.20000000000000007,
            "count": 0
           },
           {
            "bin_start": 0.20000000000000007,
            "bin_end": 0.30000000000000004,
            "count": 0
           },
           {
            "bin_start": 0.30000000000000004,
            "bin_end": 0.4,
            "count": 0
           },
           {
            "bin_start": 0.4,
            "bin_end": 0.5,
            "count": 0
           }
          ]
         }
        },
        {
         "name": "TV-Y",
         "dtype": "int64",
         "stats": {
          "unique_count": 1,
          "nan_count": 0,
          "min": "0",
          "max": "0",
          "histogram": [
           {
            "bin_start": -0.5,
            "bin_end": -0.4,
            "count": 0
           },
           {
            "bin_start": -0.4,
            "bin_end": -0.3,
            "count": 0
           },
           {
            "bin_start": -0.3,
            "bin_end": -0.19999999999999996,
            "count": 0
           },
           {
            "bin_start": -0.19999999999999996,
            "bin_end": -0.09999999999999998,
            "count": 0
           },
           {
            "bin_start": -0.09999999999999998,
            "bin_end": 0,
            "count": 0
           },
           {
            "bin_start": 0,
            "bin_end": 0.10000000000000009,
            "count": 5
           },
           {
            "bin_start": 0.10000000000000009,
            "bin_end": 0.20000000000000007,
            "count": 0
           },
           {
            "bin_start": 0.20000000000000007,
            "bin_end": 0.30000000000000004,
            "count": 0
           },
           {
            "bin_start": 0.30000000000000004,
            "bin_end": 0.4,
            "count": 0
           },
           {
            "bin_start": 0.4,
            "bin_end": 0.5,
            "count": 0
           }
          ]
         }
        },
        {
         "name": "TV-PG",
         "dtype": "int64",
         "stats": {
          "unique_count": 1,
          "nan_count": 0,
          "min": "0",
          "max": "0",
          "histogram": [
           {
            "bin_start": -0.5,
            "bin_end": -0.4,
            "count": 0
           },
           {
            "bin_start": -0.4,
            "bin_end": -0.3,
            "count": 0
           },
           {
            "bin_start": -0.3,
            "bin_end": -0.19999999999999996,
            "count": 0
           },
           {
            "bin_start": -0.19999999999999996,
            "bin_end": -0.09999999999999998,
            "count": 0
           },
           {
            "bin_start": -0.09999999999999998,
            "bin_end": 0,
            "count": 0
           },
           {
            "bin_start": 0,
            "bin_end": 0.10000000000000009,
            "count": 5
           },
           {
            "bin_start": 0.10000000000000009,
            "bin_end": 0.20000000000000007,
            "count": 0
           },
           {
            "bin_start": 0.20000000000000007,
            "bin_end": 0.30000000000000004,
            "count": 0
           },
           {
            "bin_start": 0.30000000000000004,
            "bin_end": 0.4,
            "count": 0
           },
           {
            "bin_start": 0.4,
            "bin_end": 0.5,
            "count": 0
           }
          ]
         }
        },
        {
         "name": "PG",
         "dtype": "int64",
         "stats": {
          "unique_count": 2,
          "nan_count": 0,
          "min": "0",
          "max": "1",
          "histogram": [
           {
            "bin_start": 0,
            "bin_end": 0.1,
            "count": 4
           },
           {
            "bin_start": 0.1,
            "bin_end": 0.2,
            "count": 0
           },
           {
            "bin_start": 0.2,
            "bin_end": 0.30000000000000004,
            "count": 0
           },
           {
            "bin_start": 0.30000000000000004,
            "bin_end": 0.4,
            "count": 0
           },
           {
            "bin_start": 0.4,
            "bin_end": 0.5,
            "count": 0
           },
           {
            "bin_start": 0.5,
            "bin_end": 0.6000000000000001,
            "count": 0
           },
           {
            "bin_start": 0.6000000000000001,
            "bin_end": 0.7000000000000001,
            "count": 0
           },
           {
            "bin_start": 0.7000000000000001,
            "bin_end": 0.8,
            "count": 0
           },
           {
            "bin_start": 0.8,
            "bin_end": 0.9,
            "count": 0
           },
           {
            "bin_start": 0.9,
            "bin_end": 1,
            "count": 1
           }
          ]
         }
        },
        {
         "name": "R",
         "dtype": "int64",
         "stats": {
          "unique_count": 2,
          "nan_count": 0,
          "min": "0",
          "max": "1",
          "histogram": [
           {
            "bin_start": 0,
            "bin_end": 0.1,
            "count": 2
           },
           {
            "bin_start": 0.1,
            "bin_end": 0.2,
            "count": 0
           },
           {
            "bin_start": 0.2,
            "bin_end": 0.30000000000000004,
            "count": 0
           },
           {
            "bin_start": 0.30000000000000004,
            "bin_end": 0.4,
            "count": 0
           },
           {
            "bin_start": 0.4,
            "bin_end": 0.5,
            "count": 0
           },
           {
            "bin_start": 0.5,
            "bin_end": 0.6000000000000001,
            "count": 0
           },
           {
            "bin_start": 0.6000000000000001,
            "bin_end": 0.7000000000000001,
            "count": 0
           },
           {
            "bin_start": 0.7000000000000001,
            "bin_end": 0.8,
            "count": 0
           },
           {
            "bin_start": 0.8,
            "bin_end": 0.9,
            "count": 0
           },
           {
            "bin_start": 0.9,
            "bin_end": 1,
            "count": 3
           }
          ]
         }
        },
        {
         "name": "TV-14",
         "dtype": "int64",
         "stats": {
          "unique_count": 1,
          "nan_count": 0,
          "min": "0",
          "max": "0",
          "histogram": [
           {
            "bin_start": -0.5,
            "bin_end": -0.4,
            "count": 0
           },
           {
            "bin_start": -0.4,
            "bin_end": -0.3,
            "count": 0
           },
           {
            "bin_start": -0.3,
            "bin_end": -0.19999999999999996,
            "count": 0
           },
           {
            "bin_start": -0.19999999999999996,
            "bin_end": -0.09999999999999998,
            "count": 0
           },
           {
            "bin_start": -0.09999999999999998,
            "bin_end": 0,
            "count": 0
           },
           {
            "bin_start": 0,
            "bin_end": 0.10000000000000009,
            "count": 5
           },
           {
            "bin_start": 0.10000000000000009,
            "bin_end": 0.20000000000000007,
            "count": 0
           },
           {
            "bin_start": 0.20000000000000007,
            "bin_end": 0.30000000000000004,
            "count": 0
           },
           {
            "bin_start": 0.30000000000000004,
            "bin_end": 0.4,
            "count": 0
           },
           {
            "bin_start": 0.4,
            "bin_end": 0.5,
            "count": 0
           }
          ]
         }
        },
        {
         "name": "PG-13",
         "dtype": "int64",
         "stats": {
          "unique_count": 1,
          "nan_count": 0,
          "min": "0",
          "max": "0",
          "histogram": [
           {
            "bin_start": -0.5,
            "bin_end": -0.4,
            "count": 0
           },
           {
            "bin_start": -0.4,
            "bin_end": -0.3,
            "count": 0
           },
           {
            "bin_start": -0.3,
            "bin_end": -0.19999999999999996,
            "count": 0
           },
           {
            "bin_start": -0.19999999999999996,
            "bin_end": -0.09999999999999998,
            "count": 0
           },
           {
            "bin_start": -0.09999999999999998,
            "bin_end": 0,
            "count": 0
           },
           {
            "bin_start": 0,
            "bin_end": 0.10000000000000009,
            "count": 5
           },
           {
            "bin_start": 0.10000000000000009,
            "bin_end": 0.20000000000000007,
            "count": 0
           },
           {
            "bin_start": 0.20000000000000007,
            "bin_end": 0.30000000000000004,
            "count": 0
           },
           {
            "bin_start": 0.30000000000000004,
            "bin_end": 0.4,
            "count": 0
           },
           {
            "bin_start": 0.4,
            "bin_end": 0.5,
            "count": 0
           }
          ]
         }
        },
        {
         "name": "TV-Y7",
         "dtype": "int64",
         "stats": {
          "unique_count": 1,
          "nan_count": 0,
          "min": "0",
          "max": "0",
          "histogram": [
           {
            "bin_start": -0.5,
            "bin_end": -0.4,
            "count": 0
           },
           {
            "bin_start": -0.4,
            "bin_end": -0.3,
            "count": 0
           },
           {
            "bin_start": -0.3,
            "bin_end": -0.19999999999999996,
            "count": 0
           },
           {
            "bin_start": -0.19999999999999996,
            "bin_end": -0.09999999999999998,
            "count": 0
           },
           {
            "bin_start": -0.09999999999999998,
            "bin_end": 0,
            "count": 0
           },
           {
            "bin_start": 0,
            "bin_end": 0.10000000000000009,
            "count": 5
           },
           {
            "bin_start": 0.10000000000000009,
            "bin_end": 0.20000000000000007,
            "count": 0
           },
           {
            "bin_start": 0.20000000000000007,
            "bin_end": 0.30000000000000004,
            "count": 0
           },
           {
            "bin_start": 0.30000000000000004,
            "bin_end": 0.4,
            "count": 0
           },
           {
            "bin_start": 0.4,
            "bin_end": 0.5,
            "count": 0
           }
          ]
         }
        },
        {
         "name": "NC-17",
         "dtype": "int64",
         "stats": {
          "unique_count": 1,
          "nan_count": 0,
          "min": "0",
          "max": "0",
          "histogram": [
           {
            "bin_start": -0.5,
            "bin_end": -0.4,
            "count": 0
           },
           {
            "bin_start": -0.4,
            "bin_end": -0.3,
            "count": 0
           },
           {
            "bin_start": -0.3,
            "bin_end": -0.19999999999999996,
            "count": 0
           },
           {
            "bin_start": -0.19999999999999996,
            "bin_end": -0.09999999999999998,
            "count": 0
           },
           {
            "bin_start": -0.09999999999999998,
            "bin_end": 0,
            "count": 0
           },
           {
            "bin_start": 0,
            "bin_end": 0.10000000000000009,
            "count": 5
           },
           {
            "bin_start": 0.10000000000000009,
            "bin_end": 0.20000000000000007,
            "count": 0
           },
           {
            "bin_start": 0.20000000000000007,
            "bin_end": 0.30000000000000004,
            "count": 0
           },
           {
            "bin_start": 0.30000000000000004,
            "bin_end": 0.4,
            "count": 0
           },
           {
            "bin_start": 0.4,
            "bin_end": 0.5,
            "count": 0
           }
          ]
         }
        },
        {
         "name": "G",
         "dtype": "int64",
         "stats": {
          "unique_count": 2,
          "nan_count": 0,
          "min": "0",
          "max": "1",
          "histogram": [
           {
            "bin_start": 0,
            "bin_end": 0.1,
            "count": 4
           },
           {
            "bin_start": 0.1,
            "bin_end": 0.2,
            "count": 0
           },
           {
            "bin_start": 0.2,
            "bin_end": 0.30000000000000004,
            "count": 0
           },
           {
            "bin_start": 0.30000000000000004,
            "bin_end": 0.4,
            "count": 0
           },
           {
            "bin_start": 0.4,
            "bin_end": 0.5,
            "count": 0
           },
           {
            "bin_start": 0.5,
            "bin_end": 0.6000000000000001,
            "count": 0
           },
           {
            "bin_start": 0.6000000000000001,
            "bin_end": 0.7000000000000001,
            "count": 0
           },
           {
            "bin_start": 0.7000000000000001,
            "bin_end": 0.8,
            "count": 0
           },
           {
            "bin_start": 0.8,
            "bin_end": 0.9,
            "count": 0
           },
           {
            "bin_start": 0.9,
            "bin_end": 1,
            "count": 1
           }
          ]
         }
        },
        {
         "name": "TV-G",
         "dtype": "int64",
         "stats": {
          "unique_count": 1,
          "nan_count": 0,
          "min": "0",
          "max": "0",
          "histogram": [
           {
            "bin_start": -0.5,
            "bin_end": -0.4,
            "count": 0
           },
           {
            "bin_start": -0.4,
            "bin_end": -0.3,
            "count": 0
           },
           {
            "bin_start": -0.3,
            "bin_end": -0.19999999999999996,
            "count": 0
           },
           {
            "bin_start": -0.19999999999999996,
            "bin_end": -0.09999999999999998,
            "count": 0
           },
           {
            "bin_start": -0.09999999999999998,
            "bin_end": 0,
            "count": 0
           },
           {
            "bin_start": 0,
            "bin_end": 0.10000000000000009,
            "count": 5
           },
           {
            "bin_start": 0.10000000000000009,
            "bin_end": 0.20000000000000007,
            "count": 0
           },
           {
            "bin_start": 0.20000000000000007,
            "bin_end": 0.30000000000000004,
            "count": 0
           },
           {
            "bin_start": 0.30000000000000004,
            "bin_end": 0.4,
            "count": 0
           },
           {
            "bin_start": 0.4,
            "bin_end": 0.5,
            "count": 0
           }
          ]
         }
        },
        {
         "name": "TV-MA",
         "dtype": "int64",
         "stats": {
          "unique_count": 2,
          "nan_count": 0,
          "min": "0",
          "max": "1",
          "histogram": [
           {
            "bin_start": 0,
            "bin_end": 0.1,
            "count": 4
           },
           {
            "bin_start": 0.1,
            "bin_end": 0.2,
            "count": 0
           },
           {
            "bin_start": 0.2,
            "bin_end": 0.30000000000000004,
            "count": 0
           },
           {
            "bin_start": 0.30000000000000004,
            "bin_end": 0.4,
            "count": 0
           },
           {
            "bin_start": 0.4,
            "bin_end": 0.5,
            "count": 0
           },
           {
            "bin_start": 0.5,
            "bin_end": 0.6000000000000001,
            "count": 0
           },
           {
            "bin_start": 0.6000000000000001,
            "bin_end": 0.7000000000000001,
            "count": 0
           },
           {
            "bin_start": 0.7000000000000001,
            "bin_end": 0.8,
            "count": 0
           },
           {
            "bin_start": 0.8,
            "bin_end": 0.9,
            "count": 0
           },
           {
            "bin_start": 0.9,
            "bin_end": 1,
            "count": 1
           }
          ]
         }
        },
        {
         "name": "_deepnote_index_column",
         "dtype": "int64"
        }
       ],
       "rows": [
        {
         "id": "ts300399",
         "release_year": 1945,
         "runtime": 48,
         "seasons": 1,
         "imdb_score": "nan",
         "imdb_votes": "nan",
         "tmdb_popularity": 0.6,
         "tmdb_score": "nan",
         "horror": 0,
         "history": 0,
         "european": 0,
         "sport": 0,
         "family": 0,
         "reality": 0,
         "drama": 0,
         "animation": 0,
         "comedy": 0,
         "scifi": 0,
         "music": 0,
         "fantasy": 0,
         "western": 0,
         "thriller": 0,
         "documentation": 1,
         "crime": 0,
         "action": 0,
         "war": 0,
         "romance": 0,
         "movie": 0,
         "show": 1,
         "not_rated": 0,
         "TV-Y": 0,
         "TV-PG": 0,
         "PG": 0,
         "R": 0,
         "TV-14": 0,
         "PG-13": 0,
         "TV-Y7": 0,
         "NC-17": 0,
         "G": 0,
         "TV-G": 0,
         "TV-MA": 1,
         "_deepnote_index_column": 0
        },
        {
         "id": "tm84618",
         "release_year": 1976,
         "runtime": 113,
         "seasons": "nan",
         "imdb_score": 8.3,
         "imdb_votes": 795222,
         "tmdb_popularity": 27.612,
         "tmdb_score": 8.2,
         "horror": 0,
         "history": 0,
         "european": 0,
         "sport": 0,
         "family": 0,
         "reality": 0,
         "drama": 1,
         "animation": 0,
         "comedy": 0,
         "scifi": 0,
         "music": 0,
         "fantasy": 0,
         "western": 0,
         "thriller": 0,
         "documentation": 0,
         "crime": 1,
         "action": 0,
         "war": 0,
         "romance": 0,
         "movie": 1,
         "show": 0,
         "not_rated": 0,
         "TV-Y": 0,
         "TV-PG": 0,
         "PG": 0,
         "R": 1,
         "TV-14": 0,
         "PG-13": 0,
         "TV-Y7": 0,
         "NC-17": 0,
         "G": 0,
         "TV-G": 0,
         "TV-MA": 0,
         "_deepnote_index_column": 1
        },
        {
         "id": "tm127384",
         "release_year": 1975,
         "runtime": 91,
         "seasons": "nan",
         "imdb_score": 8.2,
         "imdb_votes": 530877,
         "tmdb_popularity": 18.216,
         "tmdb_score": 7.8,
         "horror": 0,
         "history": 0,
         "european": 0,
         "sport": 0,
         "family": 0,
         "reality": 0,
         "drama": 0,
         "animation": 0,
         "comedy": 1,
         "scifi": 0,
         "music": 0,
         "fantasy": 1,
         "western": 0,
         "thriller": 0,
         "documentation": 0,
         "crime": 0,
         "action": 0,
         "war": 0,
         "romance": 0,
         "movie": 1,
         "show": 0,
         "not_rated": 0,
         "TV-Y": 0,
         "TV-PG": 0,
         "PG": 1,
         "R": 0,
         "TV-14": 0,
         "PG-13": 0,
         "TV-Y7": 0,
         "NC-17": 0,
         "G": 1,
         "TV-G": 0,
         "TV-MA": 0,
         "_deepnote_index_column": 2
        },
        {
         "id": "tm70993",
         "release_year": 1979,
         "runtime": 94,
         "seasons": "nan",
         "imdb_score": 8,
         "imdb_votes": 392419,
         "tmdb_popularity": 17.505,
         "tmdb_score": 7.8,
         "horror": 0,
         "history": 0,
         "european": 0,
         "sport": 0,
         "family": 0,
         "reality": 0,
         "drama": 0,
         "animation": 0,
         "comedy": 1,
         "scifi": 0,
         "music": 0,
         "fantasy": 0,
         "western": 0,
         "thriller": 0,
         "documentation": 0,
         "crime": 0,
         "action": 0,
         "war": 0,
         "romance": 0,
         "movie": 1,
         "show": 0,
         "not_rated": 0,
         "TV-Y": 0,
         "TV-PG": 0,
         "PG": 0,
         "R": 1,
         "TV-14": 0,
         "PG-13": 0,
         "TV-Y7": 0,
         "NC-17": 0,
         "G": 0,
         "TV-G": 0,
         "TV-MA": 0,
         "_deepnote_index_column": 3
        },
        {
         "id": "tm190788",
         "release_year": 1973,
         "runtime": 133,
         "seasons": "nan",
         "imdb_score": 8.1,
         "imdb_votes": 391942,
         "tmdb_popularity": 95.337,
         "tmdb_score": 7.7,
         "horror": 1,
         "history": 0,
         "european": 0,
         "sport": 0,
         "family": 0,
         "reality": 0,
         "drama": 0,
         "animation": 0,
         "comedy": 0,
         "scifi": 0,
         "music": 0,
         "fantasy": 0,
         "western": 0,
         "thriller": 0,
         "documentation": 0,
         "crime": 0,
         "action": 0,
         "war": 0,
         "romance": 0,
         "movie": 1,
         "show": 0,
         "not_rated": 0,
         "TV-Y": 0,
         "TV-PG": 0,
         "PG": 0,
         "R": 1,
         "TV-14": 0,
         "PG-13": 0,
         "TV-Y7": 0,
         "NC-17": 0,
         "G": 0,
         "TV-G": 0,
         "TV-MA": 0,
         "_deepnote_index_column": 4
        }
       ]
      },
      "text/plain": "         id  release_year  runtime  seasons  imdb_score  imdb_votes  \\\n0  ts300399          1945       48      1.0         NaN         NaN   \n1   tm84618          1976      113      NaN         8.3    795222.0   \n2  tm127384          1975       91      NaN         8.2    530877.0   \n3   tm70993          1979       94      NaN         8.0    392419.0   \n4  tm190788          1973      133      NaN         8.1    391942.0   \n\n   tmdb_popularity  tmdb_score  horror  history  ...  TV-PG  PG  R  TV-14  \\\n0            0.600         NaN       0        0  ...      0   0  0      0   \n1           27.612         8.2       0        0  ...      0   0  1      0   \n2           18.216         7.8       0        0  ...      0   1  0      0   \n3           17.505         7.8       0        0  ...      0   0  1      0   \n4           95.337         7.7       1        0  ...      0   0  1      0   \n\n   PG-13  TV-Y7  NC-17  G  TV-G  TV-MA  \n0      0      0      0  0     0      1  \n1      0      0      0  0     0      0  \n2      0      0      0  1     0      0  \n3      0      0      0  0     0      0  \n4      0      0      0  0     0      0  \n\n[5 rows x 41 columns]",
      "text/html": "<div>\n<style scoped>\n    .dataframe tbody tr th:only-of-type {\n        vertical-align: middle;\n    }\n\n    .dataframe tbody tr th {\n        vertical-align: top;\n    }\n\n    .dataframe thead th {\n        text-align: right;\n    }\n</style>\n<table border=\"1\" class=\"dataframe\">\n  <thead>\n    <tr style=\"text-align: right;\">\n      <th></th>\n      <th>id</th>\n      <th>release_year</th>\n      <th>runtime</th>\n      <th>seasons</th>\n      <th>imdb_score</th>\n      <th>imdb_votes</th>\n      <th>tmdb_popularity</th>\n      <th>tmdb_score</th>\n      <th>horror</th>\n      <th>history</th>\n      <th>...</th>\n      <th>TV-PG</th>\n      <th>PG</th>\n      <th>R</th>\n      <th>TV-14</th>\n      <th>PG-13</th>\n      <th>TV-Y7</th>\n      <th>NC-17</th>\n      <th>G</th>\n      <th>TV-G</th>\n      <th>TV-MA</th>\n    </tr>\n  </thead>\n  <tbody>\n    <tr>\n      <th>0</th>\n      <td>ts300399</td>\n      <td>1945</td>\n      <td>48</td>\n      <td>1.0</td>\n      <td>NaN</td>\n      <td>NaN</td>\n      <td>0.600</td>\n      <td>NaN</td>\n      <td>0</td>\n      <td>0</td>\n      <td>...</td>\n      <td>0</td>\n      <td>0</td>\n      <td>0</td>\n      <td>0</td>\n      <td>0</td>\n      <td>0</td>\n      <td>0</td>\n      <td>0</td>\n      <td>0</td>\n      <td>1</td>\n    </tr>\n    <tr>\n      <th>1</th>\n      <td>tm84618</td>\n      <td>1976</td>\n      <td>113</td>\n      <td>NaN</td>\n      <td>8.3</td>\n      <td>795222.0</td>\n      <td>27.612</td>\n      <td>8.2</td>\n      <td>0</td>\n      <td>0</td>\n      <td>...</td>\n      <td>0</td>\n      <td>0</td>\n      <td>1</td>\n      <td>0</td>\n      <td>0</td>\n      <td>0</td>\n      <td>0</td>\n      <td>0</td>\n      <td>0</td>\n      <td>0</td>\n    </tr>\n    <tr>\n      <th>2</th>\n      <td>tm127384</td>\n      <td>1975</td>\n      <td>91</td>\n      <td>NaN</td>\n      <td>8.2</td>\n      <td>530877.0</td>\n      <td>18.216</td>\n      <td>7.8</td>\n      <td>0</td>\n      <td>0</td>\n      <td>...</td>\n      <td>0</td>\n      <td>1</td>\n      <td>0</td>\n      <td>0</td>\n      <td>0</td>\n      <td>0</td>\n      <td>0</td>\n      <td>1</td>\n      <td>0</td>\n      <td>0</td>\n    </tr>\n    <tr>\n      <th>3</th>\n      <td>tm70993</td>\n      <td>1979</td>\n      <td>94</td>\n      <td>NaN</td>\n      <td>8.0</td>\n      <td>392419.0</td>\n      <td>17.505</td>\n      <td>7.8</td>\n      <td>0</td>\n      <td>0</td>\n      <td>...</td>\n      <td>0</td>\n      <td>0</td>\n      <td>1</td>\n      <td>0</td>\n      <td>0</td>\n      <td>0</td>\n      <td>0</td>\n      <td>0</td>\n      <td>0</td>\n      <td>0</td>\n    </tr>\n    <tr>\n      <th>4</th>\n      <td>tm190788</td>\n      <td>1973</td>\n      <td>133</td>\n      <td>NaN</td>\n      <td>8.1</td>\n      <td>391942.0</td>\n      <td>95.337</td>\n      <td>7.7</td>\n      <td>1</td>\n      <td>0</td>\n      <td>...</td>\n      <td>0</td>\n      <td>0</td>\n      <td>1</td>\n      <td>0</td>\n      <td>0</td>\n      <td>0</td>\n      <td>0</td>\n      <td>0</td>\n      <td>0</td>\n      <td>0</td>\n    </tr>\n  </tbody>\n</table>\n<p>5 rows × 41 columns</p>\n</div>"
     },
     "metadata": {}
    }
   ]
  },
  {
   "cell_type": "markdown",
   "source": "In the following block missing values are filled with 0 and all the columns are normalized from 0 to 1. This normalization is done to ensure that none of the columns have a greater weight when passed into the K Nearest Neighbor model that will be used for making recommendation`s.",
   "metadata": {
    "formattedRanges": [],
    "cell_id": "b486685ce8754364adb9c30cb699173b",
    "tags": [],
    "is_collapsed": false,
    "deepnote_app_coordinates": {
     "x": 0,
     "y": 94,
     "w": 8,
     "h": 2
    },
    "deepnote_cell_type": "text-cell-p"
   }
  },
  {
   "cell_type": "code",
   "metadata": {
    "cell_id": "5a95cd039576482da414603d82e0ff0f",
    "tags": [],
    "deepnote_to_be_reexecuted": false,
    "source_hash": "8ad794c9",
    "execution_start": 1656708250235,
    "execution_millis": 978,
    "deepnote_table_state": {
     "pageSize": 10,
     "pageIndex": 0,
     "filters": [],
     "sortBy": []
    },
    "deepnote_table_loading": false,
    "deepnote_app_coordinates": {
     "x": 0,
     "y": 97,
     "w": 12,
     "h": 5
    },
    "deepnote_cell_type": "code",
    "deepnote_cell_height": 519.796875
   },
   "source": "# Changing NA's to zeros\ntitles_mod1 = titles_mod1.fillna(0).drop(columns='id')\ntitles_mod1.head()\n\n# Normalizing data\nnormalized_data = (titles_mod1 - titles_mod1.min())/(titles_mod1.max() - titles_mod1.min())\nnormalized_data.head()",
   "execution_count": 10,
   "outputs": [
    {
     "output_type": "execute_result",
     "execution_count": 10,
     "data": {
      "application/vnd.deepnote.dataframe.v3+json": {
       "column_count": 40,
       "row_count": 5,
       "columns": [
        {
         "name": "release_year",
         "dtype": "float64",
         "stats": {
          "unique_count": 5,
          "nan_count": 0,
          "min": "0.0",
          "max": "0.44155844155844154",
          "histogram": [
           {
            "bin_start": 0,
            "bin_end": 0.04415584415584416,
            "count": 1
           },
           {
            "bin_start": 0.04415584415584416,
            "bin_end": 0.08831168831168831,
            "count": 0
           },
           {
            "bin_start": 0.08831168831168831,
            "bin_end": 0.13246753246753246,
            "count": 0
           },
           {
            "bin_start": 0.13246753246753246,
            "bin_end": 0.17662337662337663,
            "count": 0
           },
           {
            "bin_start": 0.17662337662337663,
            "bin_end": 0.2207792207792208,
            "count": 0
           },
           {
            "bin_start": 0.2207792207792208,
            "bin_end": 0.2649350649350649,
            "count": 0
           },
           {
            "bin_start": 0.2649350649350649,
            "bin_end": 0.3090909090909091,
            "count": 0
           },
           {
            "bin_start": 0.3090909090909091,
            "bin_end": 0.35324675324675325,
            "count": 0
           },
           {
            "bin_start": 0.35324675324675325,
            "bin_end": 0.3974025974025974,
            "count": 2
           },
           {
            "bin_start": 0.3974025974025974,
            "bin_end": 0.44155844155844154,
            "count": 2
           }
          ]
         }
        },
        {
         "name": "runtime",
         "dtype": "float64",
         "stats": {
          "unique_count": 5,
          "nan_count": 0,
          "min": "0.19123505976095617",
          "max": "0.5298804780876494",
          "histogram": [
           {
            "bin_start": 0.19123505976095617,
            "bin_end": 0.2250996015936255,
            "count": 1
           },
           {
            "bin_start": 0.2250996015936255,
            "bin_end": 0.2589641434262948,
            "count": 0
           },
           {
            "bin_start": 0.2589641434262948,
            "bin_end": 0.2928286852589641,
            "count": 0
           },
           {
            "bin_start": 0.2928286852589641,
            "bin_end": 0.32669322709163345,
            "count": 0
           },
           {
            "bin_start": 0.32669322709163345,
            "bin_end": 0.3605577689243028,
            "count": 0
           },
           {
            "bin_start": 0.3605577689243028,
            "bin_end": 0.3944223107569721,
            "count": 2
           },
           {
            "bin_start": 0.3944223107569721,
            "bin_end": 0.4282868525896414,
            "count": 0
           },
           {
            "bin_start": 0.4282868525896414,
            "bin_end": 0.46215139442231074,
            "count": 1
           },
           {
            "bin_start": 0.46215139442231074,
            "bin_end": 0.49601593625498,
            "count": 0
           },
           {
            "bin_start": 0.49601593625498,
            "bin_end": 0.5298804780876494,
            "count": 1
           }
          ]
         }
        },
        {
         "name": "seasons",
         "dtype": "float64",
         "stats": {
          "unique_count": 2,
          "nan_count": 0,
          "min": "0.0",
          "max": "0.023809523809523808",
          "histogram": [
           {
            "bin_start": 0,
            "bin_end": 0.0023809523809523807,
            "count": 4
           },
           {
            "bin_start": 0.0023809523809523807,
            "bin_end": 0.0047619047619047615,
            "count": 0
           },
           {
            "bin_start": 0.0047619047619047615,
            "bin_end": 0.007142857142857142,
            "count": 0
           },
           {
            "bin_start": 0.007142857142857142,
            "bin_end": 0.009523809523809523,
            "count": 0
           },
           {
            "bin_start": 0.009523809523809523,
            "bin_end": 0.011904761904761904,
            "count": 0
           },
           {
            "bin_start": 0.011904761904761904,
            "bin_end": 0.014285714285714284,
            "count": 0
           },
           {
            "bin_start": 0.014285714285714284,
            "bin_end": 0.016666666666666666,
            "count": 0
           },
           {
            "bin_start": 0.016666666666666666,
            "bin_end": 0.019047619047619046,
            "count": 0
           },
           {
            "bin_start": 0.019047619047619046,
            "bin_end": 0.021428571428571425,
            "count": 0
           },
           {
            "bin_start": 0.021428571428571425,
            "bin_end": 0.023809523809523808,
            "count": 1
           }
          ]
         }
        },
        {
         "name": "imdb_score",
         "dtype": "float64",
         "stats": {
          "unique_count": 5,
          "nan_count": 0,
          "min": "0.0",
          "max": "0.8645833333333335",
          "histogram": [
           {
            "bin_start": 0,
            "bin_end": 0.08645833333333335,
            "count": 1
           },
           {
            "bin_start": 0.08645833333333335,
            "bin_end": 0.1729166666666667,
            "count": 0
           },
           {
            "bin_start": 0.1729166666666667,
            "bin_end": 0.259375,
            "count": 0
           },
           {
            "bin_start": 0.259375,
            "bin_end": 0.3458333333333334,
            "count": 0
           },
           {
            "bin_start": 0.3458333333333334,
            "bin_end": 0.43229166666666674,
            "count": 0
           },
           {
            "bin_start": 0.43229166666666674,
            "bin_end": 0.51875,
            "count": 0
           },
           {
            "bin_start": 0.51875,
            "bin_end": 0.6052083333333335,
            "count": 0
           },
           {
            "bin_start": 0.6052083333333335,
            "bin_end": 0.6916666666666668,
            "count": 0
           },
           {
            "bin_start": 0.6916666666666668,
            "bin_end": 0.7781250000000001,
            "count": 0
           },
           {
            "bin_start": 0.7781250000000001,
            "bin_end": 0.8645833333333335,
            "count": 4
           }
          ]
         }
        },
        {
         "name": "imdb_votes",
         "dtype": "float64",
         "stats": {
          "unique_count": 5,
          "nan_count": 0,
          "min": "0.0",
          "max": "0.3505824657186389",
          "histogram": [
           {
            "bin_start": 0,
            "bin_end": 0.03505824657186389,
            "count": 1
           },
           {
            "bin_start": 0.03505824657186389,
            "bin_end": 0.07011649314372778,
            "count": 0
           },
           {
            "bin_start": 0.07011649314372778,
            "bin_end": 0.10517473971559167,
            "count": 0
           },
           {
            "bin_start": 0.10517473971559167,
            "bin_end": 0.14023298628745556,
            "count": 0
           },
           {
            "bin_start": 0.14023298628745556,
            "bin_end": 0.17529123285931947,
            "count": 2
           },
           {
            "bin_start": 0.17529123285931947,
            "bin_end": 0.21034947943118334,
            "count": 0
           },
           {
            "bin_start": 0.21034947943118334,
            "bin_end": 0.24540772600304722,
            "count": 1
           },
           {
            "bin_start": 0.24540772600304722,
            "bin_end": 0.2804659725749111,
            "count": 0
           },
           {
            "bin_start": 0.2804659725749111,
            "bin_end": 0.31552421914677503,
            "count": 0
           },
           {
            "bin_start": 0.31552421914677503,
            "bin_end": 0.3505824657186389,
            "count": 1
           }
          ]
         }
        },
        {
         "name": "tmdb_popularity",
         "dtype": "float64",
         "stats": {
          "unique_count": 5,
          "nan_count": 0,
          "min": "0.0003290603024941674",
          "max": "0.05228603676481073",
          "histogram": [
           {
            "bin_start": 0.0003290603024941674,
            "bin_end": 0.0055247579487258235,
            "count": 1
           },
           {
            "bin_start": 0.0055247579487258235,
            "bin_end": 0.01072045559495748,
            "count": 2
           },
           {
            "bin_start": 0.01072045559495748,
            "bin_end": 0.015916153241189133,
            "count": 1
           },
           {
            "bin_start": 0.015916153241189133,
            "bin_end": 0.02111185088742079,
            "count": 0
           },
           {
            "bin_start": 0.02111185088742079,
            "bin_end": 0.02630754853365245,
            "count": 0
           },
           {
            "bin_start": 0.02630754853365245,
            "bin_end": 0.0315032461798841,
            "count": 0
           },
           {
            "bin_start": 0.0315032461798841,
            "bin_end": 0.03669894382611576,
            "count": 0
           },
           {
            "bin_start": 0.03669894382611576,
            "bin_end": 0.041894641472347414,
            "count": 0
           },
           {
            "bin_start": 0.041894641472347414,
            "bin_end": 0.04709033911857907,
            "count": 0
           },
           {
            "bin_start": 0.04709033911857907,
            "bin_end": 0.05228603676481073,
            "count": 1
           }
          ]
         }
        },
        {
         "name": "tmdb_score",
         "dtype": "float64",
         "stats": {
          "unique_count": 4,
          "nan_count": 0,
          "min": "0.0",
          "max": "0.82",
          "histogram": [
           {
            "bin_start": 0,
            "bin_end": 0.08199999999999999,
            "count": 1
           },
           {
            "bin_start": 0.08199999999999999,
            "bin_end": 0.16399999999999998,
            "count": 0
           },
           {
            "bin_start": 0.16399999999999998,
            "bin_end": 0.24599999999999997,
            "count": 0
           },
           {
            "bin_start": 0.24599999999999997,
            "bin_end": 0.32799999999999996,
            "count": 0
           },
           {
            "bin_start": 0.32799999999999996,
            "bin_end": 0.4099999999999999,
            "count": 0
           },
           {
            "bin_start": 0.4099999999999999,
            "bin_end": 0.49199999999999994,
            "count": 0
           },
           {
            "bin_start": 0.49199999999999994,
            "bin_end": 0.574,
            "count": 0
           },
           {
            "bin_start": 0.574,
            "bin_end": 0.6559999999999999,
            "count": 0
           },
           {
            "bin_start": 0.6559999999999999,
            "bin_end": 0.7379999999999999,
            "count": 0
           },
           {
            "bin_start": 0.7379999999999999,
            "bin_end": 0.82,
            "count": 4
           }
          ]
         }
        },
        {
         "name": "horror",
         "dtype": "float64",
         "stats": {
          "unique_count": 2,
          "nan_count": 0,
          "min": "0.0",
          "max": "1.0",
          "histogram": [
           {
            "bin_start": 0,
            "bin_end": 0.1,
            "count": 4
           },
           {
            "bin_start": 0.1,
            "bin_end": 0.2,
            "count": 0
           },
           {
            "bin_start": 0.2,
            "bin_end": 0.30000000000000004,
            "count": 0
           },
           {
            "bin_start": 0.30000000000000004,
            "bin_end": 0.4,
            "count": 0
           },
           {
            "bin_start": 0.4,
            "bin_end": 0.5,
            "count": 0
           },
           {
            "bin_start": 0.5,
            "bin_end": 0.6000000000000001,
            "count": 0
           },
           {
            "bin_start": 0.6000000000000001,
            "bin_end": 0.7000000000000001,
            "count": 0
           },
           {
            "bin_start": 0.7000000000000001,
            "bin_end": 0.8,
            "count": 0
           },
           {
            "bin_start": 0.8,
            "bin_end": 0.9,
            "count": 0
           },
           {
            "bin_start": 0.9,
            "bin_end": 1,
            "count": 1
           }
          ]
         }
        },
        {
         "name": "history",
         "dtype": "float64",
         "stats": {
          "unique_count": 1,
          "nan_count": 0,
          "min": "0.0",
          "max": "0.0",
          "histogram": [
           {
            "bin_start": -0.5,
            "bin_end": -0.4,
            "count": 0
           },
           {
            "bin_start": -0.4,
            "bin_end": -0.3,
            "count": 0
           },
           {
            "bin_start": -0.3,
            "bin_end": -0.19999999999999996,
            "count": 0
           },
           {
            "bin_start": -0.19999999999999996,
            "bin_end": -0.09999999999999998,
            "count": 0
           },
           {
            "bin_start": -0.09999999999999998,
            "bin_end": 0,
            "count": 0
           },
           {
            "bin_start": 0,
            "bin_end": 0.10000000000000009,
            "count": 5
           },
           {
            "bin_start": 0.10000000000000009,
            "bin_end": 0.20000000000000007,
            "count": 0
           },
           {
            "bin_start": 0.20000000000000007,
            "bin_end": 0.30000000000000004,
            "count": 0
           },
           {
            "bin_start": 0.30000000000000004,
            "bin_end": 0.4,
            "count": 0
           },
           {
            "bin_start": 0.4,
            "bin_end": 0.5,
            "count": 0
           }
          ]
         }
        },
        {
         "name": "european",
         "dtype": "float64",
         "stats": {
          "unique_count": 1,
          "nan_count": 0,
          "min": "0.0",
          "max": "0.0",
          "histogram": [
           {
            "bin_start": -0.5,
            "bin_end": -0.4,
            "count": 0
           },
           {
            "bin_start": -0.4,
            "bin_end": -0.3,
            "count": 0
           },
           {
            "bin_start": -0.3,
            "bin_end": -0.19999999999999996,
            "count": 0
           },
           {
            "bin_start": -0.19999999999999996,
            "bin_end": -0.09999999999999998,
            "count": 0
           },
           {
            "bin_start": -0.09999999999999998,
            "bin_end": 0,
            "count": 0
           },
           {
            "bin_start": 0,
            "bin_end": 0.10000000000000009,
            "count": 5
           },
           {
            "bin_start": 0.10000000000000009,
            "bin_end": 0.20000000000000007,
            "count": 0
           },
           {
            "bin_start": 0.20000000000000007,
            "bin_end": 0.30000000000000004,
            "count": 0
           },
           {
            "bin_start": 0.30000000000000004,
            "bin_end": 0.4,
            "count": 0
           },
           {
            "bin_start": 0.4,
            "bin_end": 0.5,
            "count": 0
           }
          ]
         }
        },
        {
         "name": "sport",
         "dtype": "float64",
         "stats": {
          "unique_count": 1,
          "nan_count": 0,
          "min": "0.0",
          "max": "0.0",
          "histogram": [
           {
            "bin_start": -0.5,
            "bin_end": -0.4,
            "count": 0
           },
           {
            "bin_start": -0.4,
            "bin_end": -0.3,
            "count": 0
           },
           {
            "bin_start": -0.3,
            "bin_end": -0.19999999999999996,
            "count": 0
           },
           {
            "bin_start": -0.19999999999999996,
            "bin_end": -0.09999999999999998,
            "count": 0
           },
           {
            "bin_start": -0.09999999999999998,
            "bin_end": 0,
            "count": 0
           },
           {
            "bin_start": 0,
            "bin_end": 0.10000000000000009,
            "count": 5
           },
           {
            "bin_start": 0.10000000000000009,
            "bin_end": 0.20000000000000007,
            "count": 0
           },
           {
            "bin_start": 0.20000000000000007,
            "bin_end": 0.30000000000000004,
            "count": 0
           },
           {
            "bin_start": 0.30000000000000004,
            "bin_end": 0.4,
            "count": 0
           },
           {
            "bin_start": 0.4,
            "bin_end": 0.5,
            "count": 0
           }
          ]
         }
        },
        {
         "name": "family",
         "dtype": "float64",
         "stats": {
          "unique_count": 1,
          "nan_count": 0,
          "min": "0.0",
          "max": "0.0",
          "histogram": [
           {
            "bin_start": -0.5,
            "bin_end": -0.4,
            "count": 0
           },
           {
            "bin_start": -0.4,
            "bin_end": -0.3,
            "count": 0
           },
           {
            "bin_start": -0.3,
            "bin_end": -0.19999999999999996,
            "count": 0
           },
           {
            "bin_start": -0.19999999999999996,
            "bin_end": -0.09999999999999998,
            "count": 0
           },
           {
            "bin_start": -0.09999999999999998,
            "bin_end": 0,
            "count": 0
           },
           {
            "bin_start": 0,
            "bin_end": 0.10000000000000009,
            "count": 5
           },
           {
            "bin_start": 0.10000000000000009,
            "bin_end": 0.20000000000000007,
            "count": 0
           },
           {
            "bin_start": 0.20000000000000007,
            "bin_end": 0.30000000000000004,
            "count": 0
           },
           {
            "bin_start": 0.30000000000000004,
            "bin_end": 0.4,
            "count": 0
           },
           {
            "bin_start": 0.4,
            "bin_end": 0.5,
            "count": 0
           }
          ]
         }
        },
        {
         "name": "reality",
         "dtype": "float64",
         "stats": {
          "unique_count": 1,
          "nan_count": 0,
          "min": "0.0",
          "max": "0.0",
          "histogram": [
           {
            "bin_start": -0.5,
            "bin_end": -0.4,
            "count": 0
           },
           {
            "bin_start": -0.4,
            "bin_end": -0.3,
            "count": 0
           },
           {
            "bin_start": -0.3,
            "bin_end": -0.19999999999999996,
            "count": 0
           },
           {
            "bin_start": -0.19999999999999996,
            "bin_end": -0.09999999999999998,
            "count": 0
           },
           {
            "bin_start": -0.09999999999999998,
            "bin_end": 0,
            "count": 0
           },
           {
            "bin_start": 0,
            "bin_end": 0.10000000000000009,
            "count": 5
           },
           {
            "bin_start": 0.10000000000000009,
            "bin_end": 0.20000000000000007,
            "count": 0
           },
           {
            "bin_start": 0.20000000000000007,
            "bin_end": 0.30000000000000004,
            "count": 0
           },
           {
            "bin_start": 0.30000000000000004,
            "bin_end": 0.4,
            "count": 0
           },
           {
            "bin_start": 0.4,
            "bin_end": 0.5,
            "count": 0
           }
          ]
         }
        },
        {
         "name": "drama",
         "dtype": "float64",
         "stats": {
          "unique_count": 2,
          "nan_count": 0,
          "min": "0.0",
          "max": "1.0",
          "histogram": [
           {
            "bin_start": 0,
            "bin_end": 0.1,
            "count": 4
           },
           {
            "bin_start": 0.1,
            "bin_end": 0.2,
            "count": 0
           },
           {
            "bin_start": 0.2,
            "bin_end": 0.30000000000000004,
            "count": 0
           },
           {
            "bin_start": 0.30000000000000004,
            "bin_end": 0.4,
            "count": 0
           },
           {
            "bin_start": 0.4,
            "bin_end": 0.5,
            "count": 0
           },
           {
            "bin_start": 0.5,
            "bin_end": 0.6000000000000001,
            "count": 0
           },
           {
            "bin_start": 0.6000000000000001,
            "bin_end": 0.7000000000000001,
            "count": 0
           },
           {
            "bin_start": 0.7000000000000001,
            "bin_end": 0.8,
            "count": 0
           },
           {
            "bin_start": 0.8,
            "bin_end": 0.9,
            "count": 0
           },
           {
            "bin_start": 0.9,
            "bin_end": 1,
            "count": 1
           }
          ]
         }
        },
        {
         "name": "animation",
         "dtype": "float64",
         "stats": {
          "unique_count": 1,
          "nan_count": 0,
          "min": "0.0",
          "max": "0.0",
          "histogram": [
           {
            "bin_start": -0.5,
            "bin_end": -0.4,
            "count": 0
           },
           {
            "bin_start": -0.4,
            "bin_end": -0.3,
            "count": 0
           },
           {
            "bin_start": -0.3,
            "bin_end": -0.19999999999999996,
            "count": 0
           },
           {
            "bin_start": -0.19999999999999996,
            "bin_end": -0.09999999999999998,
            "count": 0
           },
           {
            "bin_start": -0.09999999999999998,
            "bin_end": 0,
            "count": 0
           },
           {
            "bin_start": 0,
            "bin_end": 0.10000000000000009,
            "count": 5
           },
           {
            "bin_start": 0.10000000000000009,
            "bin_end": 0.20000000000000007,
            "count": 0
           },
           {
            "bin_start": 0.20000000000000007,
            "bin_end": 0.30000000000000004,
            "count": 0
           },
           {
            "bin_start": 0.30000000000000004,
            "bin_end": 0.4,
            "count": 0
           },
           {
            "bin_start": 0.4,
            "bin_end": 0.5,
            "count": 0
           }
          ]
         }
        },
        {
         "name": "comedy",
         "dtype": "float64",
         "stats": {
          "unique_count": 2,
          "nan_count": 0,
          "min": "0.0",
          "max": "1.0",
          "histogram": [
           {
            "bin_start": 0,
            "bin_end": 0.1,
            "count": 3
           },
           {
            "bin_start": 0.1,
            "bin_end": 0.2,
            "count": 0
           },
           {
            "bin_start": 0.2,
            "bin_end": 0.30000000000000004,
            "count": 0
           },
           {
            "bin_start": 0.30000000000000004,
            "bin_end": 0.4,
            "count": 0
           },
           {
            "bin_start": 0.4,
            "bin_end": 0.5,
            "count": 0
           },
           {
            "bin_start": 0.5,
            "bin_end": 0.6000000000000001,
            "count": 0
           },
           {
            "bin_start": 0.6000000000000001,
            "bin_end": 0.7000000000000001,
            "count": 0
           },
           {
            "bin_start": 0.7000000000000001,
            "bin_end": 0.8,
            "count": 0
           },
           {
            "bin_start": 0.8,
            "bin_end": 0.9,
            "count": 0
           },
           {
            "bin_start": 0.9,
            "bin_end": 1,
            "count": 2
           }
          ]
         }
        },
        {
         "name": "scifi",
         "dtype": "float64",
         "stats": {
          "unique_count": 1,
          "nan_count": 0,
          "min": "0.0",
          "max": "0.0",
          "histogram": [
           {
            "bin_start": -0.5,
            "bin_end": -0.4,
            "count": 0
           },
           {
            "bin_start": -0.4,
            "bin_end": -0.3,
            "count": 0
           },
           {
            "bin_start": -0.3,
            "bin_end": -0.19999999999999996,
            "count": 0
           },
           {
            "bin_start": -0.19999999999999996,
            "bin_end": -0.09999999999999998,
            "count": 0
           },
           {
            "bin_start": -0.09999999999999998,
            "bin_end": 0,
            "count": 0
           },
           {
            "bin_start": 0,
            "bin_end": 0.10000000000000009,
            "count": 5
           },
           {
            "bin_start": 0.10000000000000009,
            "bin_end": 0.20000000000000007,
            "count": 0
           },
           {
            "bin_start": 0.20000000000000007,
            "bin_end": 0.30000000000000004,
            "count": 0
           },
           {
            "bin_start": 0.30000000000000004,
            "bin_end": 0.4,
            "count": 0
           },
           {
            "bin_start": 0.4,
            "bin_end": 0.5,
            "count": 0
           }
          ]
         }
        },
        {
         "name": "music",
         "dtype": "float64",
         "stats": {
          "unique_count": 1,
          "nan_count": 0,
          "min": "0.0",
          "max": "0.0",
          "histogram": [
           {
            "bin_start": -0.5,
            "bin_end": -0.4,
            "count": 0
           },
           {
            "bin_start": -0.4,
            "bin_end": -0.3,
            "count": 0
           },
           {
            "bin_start": -0.3,
            "bin_end": -0.19999999999999996,
            "count": 0
           },
           {
            "bin_start": -0.19999999999999996,
            "bin_end": -0.09999999999999998,
            "count": 0
           },
           {
            "bin_start": -0.09999999999999998,
            "bin_end": 0,
            "count": 0
           },
           {
            "bin_start": 0,
            "bin_end": 0.10000000000000009,
            "count": 5
           },
           {
            "bin_start": 0.10000000000000009,
            "bin_end": 0.20000000000000007,
            "count": 0
           },
           {
            "bin_start": 0.20000000000000007,
            "bin_end": 0.30000000000000004,
            "count": 0
           },
           {
            "bin_start": 0.30000000000000004,
            "bin_end": 0.4,
            "count": 0
           },
           {
            "bin_start": 0.4,
            "bin_end": 0.5,
            "count": 0
           }
          ]
         }
        },
        {
         "name": "fantasy",
         "dtype": "float64",
         "stats": {
          "unique_count": 2,
          "nan_count": 0,
          "min": "0.0",
          "max": "1.0",
          "histogram": [
           {
            "bin_start": 0,
            "bin_end": 0.1,
            "count": 4
           },
           {
            "bin_start": 0.1,
            "bin_end": 0.2,
            "count": 0
           },
           {
            "bin_start": 0.2,
            "bin_end": 0.30000000000000004,
            "count": 0
           },
           {
            "bin_start": 0.30000000000000004,
            "bin_end": 0.4,
            "count": 0
           },
           {
            "bin_start": 0.4,
            "bin_end": 0.5,
            "count": 0
           },
           {
            "bin_start": 0.5,
            "bin_end": 0.6000000000000001,
            "count": 0
           },
           {
            "bin_start": 0.6000000000000001,
            "bin_end": 0.7000000000000001,
            "count": 0
           },
           {
            "bin_start": 0.7000000000000001,
            "bin_end": 0.8,
            "count": 0
           },
           {
            "bin_start": 0.8,
            "bin_end": 0.9,
            "count": 0
           },
           {
            "bin_start": 0.9,
            "bin_end": 1,
            "count": 1
           }
          ]
         }
        },
        {
         "name": "western",
         "dtype": "float64",
         "stats": {
          "unique_count": 1,
          "nan_count": 0,
          "min": "0.0",
          "max": "0.0",
          "histogram": [
           {
            "bin_start": -0.5,
            "bin_end": -0.4,
            "count": 0
           },
           {
            "bin_start": -0.4,
            "bin_end": -0.3,
            "count": 0
           },
           {
            "bin_start": -0.3,
            "bin_end": -0.19999999999999996,
            "count": 0
           },
           {
            "bin_start": -0.19999999999999996,
            "bin_end": -0.09999999999999998,
            "count": 0
           },
           {
            "bin_start": -0.09999999999999998,
            "bin_end": 0,
            "count": 0
           },
           {
            "bin_start": 0,
            "bin_end": 0.10000000000000009,
            "count": 5
           },
           {
            "bin_start": 0.10000000000000009,
            "bin_end": 0.20000000000000007,
            "count": 0
           },
           {
            "bin_start": 0.20000000000000007,
            "bin_end": 0.30000000000000004,
            "count": 0
           },
           {
            "bin_start": 0.30000000000000004,
            "bin_end": 0.4,
            "count": 0
           },
           {
            "bin_start": 0.4,
            "bin_end": 0.5,
            "count": 0
           }
          ]
         }
        },
        {
         "name": "thriller",
         "dtype": "float64",
         "stats": {
          "unique_count": 1,
          "nan_count": 0,
          "min": "0.0",
          "max": "0.0",
          "histogram": [
           {
            "bin_start": -0.5,
            "bin_end": -0.4,
            "count": 0
           },
           {
            "bin_start": -0.4,
            "bin_end": -0.3,
            "count": 0
           },
           {
            "bin_start": -0.3,
            "bin_end": -0.19999999999999996,
            "count": 0
           },
           {
            "bin_start": -0.19999999999999996,
            "bin_end": -0.09999999999999998,
            "count": 0
           },
           {
            "bin_start": -0.09999999999999998,
            "bin_end": 0,
            "count": 0
           },
           {
            "bin_start": 0,
            "bin_end": 0.10000000000000009,
            "count": 5
           },
           {
            "bin_start": 0.10000000000000009,
            "bin_end": 0.20000000000000007,
            "count": 0
           },
           {
            "bin_start": 0.20000000000000007,
            "bin_end": 0.30000000000000004,
            "count": 0
           },
           {
            "bin_start": 0.30000000000000004,
            "bin_end": 0.4,
            "count": 0
           },
           {
            "bin_start": 0.4,
            "bin_end": 0.5,
            "count": 0
           }
          ]
         }
        },
        {
         "name": "documentation",
         "dtype": "float64",
         "stats": {
          "unique_count": 2,
          "nan_count": 0,
          "min": "0.0",
          "max": "1.0",
          "histogram": [
           {
            "bin_start": 0,
            "bin_end": 0.1,
            "count": 4
           },
           {
            "bin_start": 0.1,
            "bin_end": 0.2,
            "count": 0
           },
           {
            "bin_start": 0.2,
            "bin_end": 0.30000000000000004,
            "count": 0
           },
           {
            "bin_start": 0.30000000000000004,
            "bin_end": 0.4,
            "count": 0
           },
           {
            "bin_start": 0.4,
            "bin_end": 0.5,
            "count": 0
           },
           {
            "bin_start": 0.5,
            "bin_end": 0.6000000000000001,
            "count": 0
           },
           {
            "bin_start": 0.6000000000000001,
            "bin_end": 0.7000000000000001,
            "count": 0
           },
           {
            "bin_start": 0.7000000000000001,
            "bin_end": 0.8,
            "count": 0
           },
           {
            "bin_start": 0.8,
            "bin_end": 0.9,
            "count": 0
           },
           {
            "bin_start": 0.9,
            "bin_end": 1,
            "count": 1
           }
          ]
         }
        },
        {
         "name": "crime",
         "dtype": "float64",
         "stats": {
          "unique_count": 2,
          "nan_count": 0,
          "min": "0.0",
          "max": "1.0",
          "histogram": [
           {
            "bin_start": 0,
            "bin_end": 0.1,
            "count": 4
           },
           {
            "bin_start": 0.1,
            "bin_end": 0.2,
            "count": 0
           },
           {
            "bin_start": 0.2,
            "bin_end": 0.30000000000000004,
            "count": 0
           },
           {
            "bin_start": 0.30000000000000004,
            "bin_end": 0.4,
            "count": 0
           },
           {
            "bin_start": 0.4,
            "bin_end": 0.5,
            "count": 0
           },
           {
            "bin_start": 0.5,
            "bin_end": 0.6000000000000001,
            "count": 0
           },
           {
            "bin_start": 0.6000000000000001,
            "bin_end": 0.7000000000000001,
            "count": 0
           },
           {
            "bin_start": 0.7000000000000001,
            "bin_end": 0.8,
            "count": 0
           },
           {
            "bin_start": 0.8,
            "bin_end": 0.9,
            "count": 0
           },
           {
            "bin_start": 0.9,
            "bin_end": 1,
            "count": 1
           }
          ]
         }
        },
        {
         "name": "action",
         "dtype": "float64",
         "stats": {
          "unique_count": 1,
          "nan_count": 0,
          "min": "0.0",
          "max": "0.0",
          "histogram": [
           {
            "bin_start": -0.5,
            "bin_end": -0.4,
            "count": 0
           },
           {
            "bin_start": -0.4,
            "bin_end": -0.3,
            "count": 0
           },
           {
            "bin_start": -0.3,
            "bin_end": -0.19999999999999996,
            "count": 0
           },
           {
            "bin_start": -0.19999999999999996,
            "bin_end": -0.09999999999999998,
            "count": 0
           },
           {
            "bin_start": -0.09999999999999998,
            "bin_end": 0,
            "count": 0
           },
           {
            "bin_start": 0,
            "bin_end": 0.10000000000000009,
            "count": 5
           },
           {
            "bin_start": 0.10000000000000009,
            "bin_end": 0.20000000000000007,
            "count": 0
           },
           {
            "bin_start": 0.20000000000000007,
            "bin_end": 0.30000000000000004,
            "count": 0
           },
           {
            "bin_start": 0.30000000000000004,
            "bin_end": 0.4,
            "count": 0
           },
           {
            "bin_start": 0.4,
            "bin_end": 0.5,
            "count": 0
           }
          ]
         }
        },
        {
         "name": "war",
         "dtype": "float64",
         "stats": {
          "unique_count": 1,
          "nan_count": 0,
          "min": "0.0",
          "max": "0.0",
          "histogram": [
           {
            "bin_start": -0.5,
            "bin_end": -0.4,
            "count": 0
           },
           {
            "bin_start": -0.4,
            "bin_end": -0.3,
            "count": 0
           },
           {
            "bin_start": -0.3,
            "bin_end": -0.19999999999999996,
            "count": 0
           },
           {
            "bin_start": -0.19999999999999996,
            "bin_end": -0.09999999999999998,
            "count": 0
           },
           {
            "bin_start": -0.09999999999999998,
            "bin_end": 0,
            "count": 0
           },
           {
            "bin_start": 0,
            "bin_end": 0.10000000000000009,
            "count": 5
           },
           {
            "bin_start": 0.10000000000000009,
            "bin_end": 0.20000000000000007,
            "count": 0
           },
           {
            "bin_start": 0.20000000000000007,
            "bin_end": 0.30000000000000004,
            "count": 0
           },
           {
            "bin_start": 0.30000000000000004,
            "bin_end": 0.4,
            "count": 0
           },
           {
            "bin_start": 0.4,
            "bin_end": 0.5,
            "count": 0
           }
          ]
         }
        },
        {
         "name": "romance",
         "dtype": "float64",
         "stats": {
          "unique_count": 1,
          "nan_count": 0,
          "min": "0.0",
          "max": "0.0",
          "histogram": [
           {
            "bin_start": -0.5,
            "bin_end": -0.4,
            "count": 0
           },
           {
            "bin_start": -0.4,
            "bin_end": -0.3,
            "count": 0
           },
           {
            "bin_start": -0.3,
            "bin_end": -0.19999999999999996,
            "count": 0
           },
           {
            "bin_start": -0.19999999999999996,
            "bin_end": -0.09999999999999998,
            "count": 0
           },
           {
            "bin_start": -0.09999999999999998,
            "bin_end": 0,
            "count": 0
           },
           {
            "bin_start": 0,
            "bin_end": 0.10000000000000009,
            "count": 5
           },
           {
            "bin_start": 0.10000000000000009,
            "bin_end": 0.20000000000000007,
            "count": 0
           },
           {
            "bin_start": 0.20000000000000007,
            "bin_end": 0.30000000000000004,
            "count": 0
           },
           {
            "bin_start": 0.30000000000000004,
            "bin_end": 0.4,
            "count": 0
           },
           {
            "bin_start": 0.4,
            "bin_end": 0.5,
            "count": 0
           }
          ]
         }
        },
        {
         "name": "movie",
         "dtype": "float64",
         "stats": {
          "unique_count": 2,
          "nan_count": 0,
          "min": "0.0",
          "max": "1.0",
          "histogram": [
           {
            "bin_start": 0,
            "bin_end": 0.1,
            "count": 1
           },
           {
            "bin_start": 0.1,
            "bin_end": 0.2,
            "count": 0
           },
           {
            "bin_start": 0.2,
            "bin_end": 0.30000000000000004,
            "count": 0
           },
           {
            "bin_start": 0.30000000000000004,
            "bin_end": 0.4,
            "count": 0
           },
           {
            "bin_start": 0.4,
            "bin_end": 0.5,
            "count": 0
           },
           {
            "bin_start": 0.5,
            "bin_end": 0.6000000000000001,
            "count": 0
           },
           {
            "bin_start": 0.6000000000000001,
            "bin_end": 0.7000000000000001,
            "count": 0
           },
           {
            "bin_start": 0.7000000000000001,
            "bin_end": 0.8,
            "count": 0
           },
           {
            "bin_start": 0.8,
            "bin_end": 0.9,
            "count": 0
           },
           {
            "bin_start": 0.9,
            "bin_end": 1,
            "count": 4
           }
          ]
         }
        },
        {
         "name": "show",
         "dtype": "float64",
         "stats": {
          "unique_count": 2,
          "nan_count": 0,
          "min": "0.0",
          "max": "1.0",
          "histogram": [
           {
            "bin_start": 0,
            "bin_end": 0.1,
            "count": 4
           },
           {
            "bin_start": 0.1,
            "bin_end": 0.2,
            "count": 0
           },
           {
            "bin_start": 0.2,
            "bin_end": 0.30000000000000004,
            "count": 0
           },
           {
            "bin_start": 0.30000000000000004,
            "bin_end": 0.4,
            "count": 0
           },
           {
            "bin_start": 0.4,
            "bin_end": 0.5,
            "count": 0
           },
           {
            "bin_start": 0.5,
            "bin_end": 0.6000000000000001,
            "count": 0
           },
           {
            "bin_start": 0.6000000000000001,
            "bin_end": 0.7000000000000001,
            "count": 0
           },
           {
            "bin_start": 0.7000000000000001,
            "bin_end": 0.8,
            "count": 0
           },
           {
            "bin_start": 0.8,
            "bin_end": 0.9,
            "count": 0
           },
           {
            "bin_start": 0.9,
            "bin_end": 1,
            "count": 1
           }
          ]
         }
        },
        {
         "name": "not_rated",
         "dtype": "float64",
         "stats": {
          "unique_count": 1,
          "nan_count": 0,
          "min": "0.0",
          "max": "0.0",
          "histogram": [
           {
            "bin_start": -0.5,
            "bin_end": -0.4,
            "count": 0
           },
           {
            "bin_start": -0.4,
            "bin_end": -0.3,
            "count": 0
           },
           {
            "bin_start": -0.3,
            "bin_end": -0.19999999999999996,
            "count": 0
           },
           {
            "bin_start": -0.19999999999999996,
            "bin_end": -0.09999999999999998,
            "count": 0
           },
           {
            "bin_start": -0.09999999999999998,
            "bin_end": 0,
            "count": 0
           },
           {
            "bin_start": 0,
            "bin_end": 0.10000000000000009,
            "count": 5
           },
           {
            "bin_start": 0.10000000000000009,
            "bin_end": 0.20000000000000007,
            "count": 0
           },
           {
            "bin_start": 0.20000000000000007,
            "bin_end": 0.30000000000000004,
            "count": 0
           },
           {
            "bin_start": 0.30000000000000004,
            "bin_end": 0.4,
            "count": 0
           },
           {
            "bin_start": 0.4,
            "bin_end": 0.5,
            "count": 0
           }
          ]
         }
        },
        {
         "name": "TV-Y",
         "dtype": "float64",
         "stats": {
          "unique_count": 1,
          "nan_count": 0,
          "min": "0.0",
          "max": "0.0",
          "histogram": [
           {
            "bin_start": -0.5,
            "bin_end": -0.4,
            "count": 0
           },
           {
            "bin_start": -0.4,
            "bin_end": -0.3,
            "count": 0
           },
           {
            "bin_start": -0.3,
            "bin_end": -0.19999999999999996,
            "count": 0
           },
           {
            "bin_start": -0.19999999999999996,
            "bin_end": -0.09999999999999998,
            "count": 0
           },
           {
            "bin_start": -0.09999999999999998,
            "bin_end": 0,
            "count": 0
           },
           {
            "bin_start": 0,
            "bin_end": 0.10000000000000009,
            "count": 5
           },
           {
            "bin_start": 0.10000000000000009,
            "bin_end": 0.20000000000000007,
            "count": 0
           },
           {
            "bin_start": 0.20000000000000007,
            "bin_end": 0.30000000000000004,
            "count": 0
           },
           {
            "bin_start": 0.30000000000000004,
            "bin_end": 0.4,
            "count": 0
           },
           {
            "bin_start": 0.4,
            "bin_end": 0.5,
            "count": 0
           }
          ]
         }
        },
        {
         "name": "TV-PG",
         "dtype": "float64",
         "stats": {
          "unique_count": 1,
          "nan_count": 0,
          "min": "0.0",
          "max": "0.0",
          "histogram": [
           {
            "bin_start": -0.5,
            "bin_end": -0.4,
            "count": 0
           },
           {
            "bin_start": -0.4,
            "bin_end": -0.3,
            "count": 0
           },
           {
            "bin_start": -0.3,
            "bin_end": -0.19999999999999996,
            "count": 0
           },
           {
            "bin_start": -0.19999999999999996,
            "bin_end": -0.09999999999999998,
            "count": 0
           },
           {
            "bin_start": -0.09999999999999998,
            "bin_end": 0,
            "count": 0
           },
           {
            "bin_start": 0,
            "bin_end": 0.10000000000000009,
            "count": 5
           },
           {
            "bin_start": 0.10000000000000009,
            "bin_end": 0.20000000000000007,
            "count": 0
           },
           {
            "bin_start": 0.20000000000000007,
            "bin_end": 0.30000000000000004,
            "count": 0
           },
           {
            "bin_start": 0.30000000000000004,
            "bin_end": 0.4,
            "count": 0
           },
           {
            "bin_start": 0.4,
            "bin_end": 0.5,
            "count": 0
           }
          ]
         }
        },
        {
         "name": "PG",
         "dtype": "float64",
         "stats": {
          "unique_count": 2,
          "nan_count": 0,
          "min": "0.0",
          "max": "1.0",
          "histogram": [
           {
            "bin_start": 0,
            "bin_end": 0.1,
            "count": 4
           },
           {
            "bin_start": 0.1,
            "bin_end": 0.2,
            "count": 0
           },
           {
            "bin_start": 0.2,
            "bin_end": 0.30000000000000004,
            "count": 0
           },
           {
            "bin_start": 0.30000000000000004,
            "bin_end": 0.4,
            "count": 0
           },
           {
            "bin_start": 0.4,
            "bin_end": 0.5,
            "count": 0
           },
           {
            "bin_start": 0.5,
            "bin_end": 0.6000000000000001,
            "count": 0
           },
           {
            "bin_start": 0.6000000000000001,
            "bin_end": 0.7000000000000001,
            "count": 0
           },
           {
            "bin_start": 0.7000000000000001,
            "bin_end": 0.8,
            "count": 0
           },
           {
            "bin_start": 0.8,
            "bin_end": 0.9,
            "count": 0
           },
           {
            "bin_start": 0.9,
            "bin_end": 1,
            "count": 1
           }
          ]
         }
        },
        {
         "name": "R",
         "dtype": "float64",
         "stats": {
          "unique_count": 2,
          "nan_count": 0,
          "min": "0.0",
          "max": "1.0",
          "histogram": [
           {
            "bin_start": 0,
            "bin_end": 0.1,
            "count": 2
           },
           {
            "bin_start": 0.1,
            "bin_end": 0.2,
            "count": 0
           },
           {
            "bin_start": 0.2,
            "bin_end": 0.30000000000000004,
            "count": 0
           },
           {
            "bin_start": 0.30000000000000004,
            "bin_end": 0.4,
            "count": 0
           },
           {
            "bin_start": 0.4,
            "bin_end": 0.5,
            "count": 0
           },
           {
            "bin_start": 0.5,
            "bin_end": 0.6000000000000001,
            "count": 0
           },
           {
            "bin_start": 0.6000000000000001,
            "bin_end": 0.7000000000000001,
            "count": 0
           },
           {
            "bin_start": 0.7000000000000001,
            "bin_end": 0.8,
            "count": 0
           },
           {
            "bin_start": 0.8,
            "bin_end": 0.9,
            "count": 0
           },
           {
            "bin_start": 0.9,
            "bin_end": 1,
            "count": 3
           }
          ]
         }
        },
        {
         "name": "TV-14",
         "dtype": "float64",
         "stats": {
          "unique_count": 1,
          "nan_count": 0,
          "min": "0.0",
          "max": "0.0",
          "histogram": [
           {
            "bin_start": -0.5,
            "bin_end": -0.4,
            "count": 0
           },
           {
            "bin_start": -0.4,
            "bin_end": -0.3,
            "count": 0
           },
           {
            "bin_start": -0.3,
            "bin_end": -0.19999999999999996,
            "count": 0
           },
           {
            "bin_start": -0.19999999999999996,
            "bin_end": -0.09999999999999998,
            "count": 0
           },
           {
            "bin_start": -0.09999999999999998,
            "bin_end": 0,
            "count": 0
           },
           {
            "bin_start": 0,
            "bin_end": 0.10000000000000009,
            "count": 5
           },
           {
            "bin_start": 0.10000000000000009,
            "bin_end": 0.20000000000000007,
            "count": 0
           },
           {
            "bin_start": 0.20000000000000007,
            "bin_end": 0.30000000000000004,
            "count": 0
           },
           {
            "bin_start": 0.30000000000000004,
            "bin_end": 0.4,
            "count": 0
           },
           {
            "bin_start": 0.4,
            "bin_end": 0.5,
            "count": 0
           }
          ]
         }
        },
        {
         "name": "PG-13",
         "dtype": "float64",
         "stats": {
          "unique_count": 1,
          "nan_count": 0,
          "min": "0.0",
          "max": "0.0",
          "histogram": [
           {
            "bin_start": -0.5,
            "bin_end": -0.4,
            "count": 0
           },
           {
            "bin_start": -0.4,
            "bin_end": -0.3,
            "count": 0
           },
           {
            "bin_start": -0.3,
            "bin_end": -0.19999999999999996,
            "count": 0
           },
           {
            "bin_start": -0.19999999999999996,
            "bin_end": -0.09999999999999998,
            "count": 0
           },
           {
            "bin_start": -0.09999999999999998,
            "bin_end": 0,
            "count": 0
           },
           {
            "bin_start": 0,
            "bin_end": 0.10000000000000009,
            "count": 5
           },
           {
            "bin_start": 0.10000000000000009,
            "bin_end": 0.20000000000000007,
            "count": 0
           },
           {
            "bin_start": 0.20000000000000007,
            "bin_end": 0.30000000000000004,
            "count": 0
           },
           {
            "bin_start": 0.30000000000000004,
            "bin_end": 0.4,
            "count": 0
           },
           {
            "bin_start": 0.4,
            "bin_end": 0.5,
            "count": 0
           }
          ]
         }
        },
        {
         "name": "TV-Y7",
         "dtype": "float64",
         "stats": {
          "unique_count": 1,
          "nan_count": 0,
          "min": "0.0",
          "max": "0.0",
          "histogram": [
           {
            "bin_start": -0.5,
            "bin_end": -0.4,
            "count": 0
           },
           {
            "bin_start": -0.4,
            "bin_end": -0.3,
            "count": 0
           },
           {
            "bin_start": -0.3,
            "bin_end": -0.19999999999999996,
            "count": 0
           },
           {
            "bin_start": -0.19999999999999996,
            "bin_end": -0.09999999999999998,
            "count": 0
           },
           {
            "bin_start": -0.09999999999999998,
            "bin_end": 0,
            "count": 0
           },
           {
            "bin_start": 0,
            "bin_end": 0.10000000000000009,
            "count": 5
           },
           {
            "bin_start": 0.10000000000000009,
            "bin_end": 0.20000000000000007,
            "count": 0
           },
           {
            "bin_start": 0.20000000000000007,
            "bin_end": 0.30000000000000004,
            "count": 0
           },
           {
            "bin_start": 0.30000000000000004,
            "bin_end": 0.4,
            "count": 0
           },
           {
            "bin_start": 0.4,
            "bin_end": 0.5,
            "count": 0
           }
          ]
         }
        },
        {
         "name": "NC-17",
         "dtype": "float64",
         "stats": {
          "unique_count": 1,
          "nan_count": 0,
          "min": "0.0",
          "max": "0.0",
          "histogram": [
           {
            "bin_start": -0.5,
            "bin_end": -0.4,
            "count": 0
           },
           {
            "bin_start": -0.4,
            "bin_end": -0.3,
            "count": 0
           },
           {
            "bin_start": -0.3,
            "bin_end": -0.19999999999999996,
            "count": 0
           },
           {
            "bin_start": -0.19999999999999996,
            "bin_end": -0.09999999999999998,
            "count": 0
           },
           {
            "bin_start": -0.09999999999999998,
            "bin_end": 0,
            "count": 0
           },
           {
            "bin_start": 0,
            "bin_end": 0.10000000000000009,
            "count": 5
           },
           {
            "bin_start": 0.10000000000000009,
            "bin_end": 0.20000000000000007,
            "count": 0
           },
           {
            "bin_start": 0.20000000000000007,
            "bin_end": 0.30000000000000004,
            "count": 0
           },
           {
            "bin_start": 0.30000000000000004,
            "bin_end": 0.4,
            "count": 0
           },
           {
            "bin_start": 0.4,
            "bin_end": 0.5,
            "count": 0
           }
          ]
         }
        },
        {
         "name": "G",
         "dtype": "float64",
         "stats": {
          "unique_count": 2,
          "nan_count": 0,
          "min": "0.0",
          "max": "1.0",
          "histogram": [
           {
            "bin_start": 0,
            "bin_end": 0.1,
            "count": 4
           },
           {
            "bin_start": 0.1,
            "bin_end": 0.2,
            "count": 0
           },
           {
            "bin_start": 0.2,
            "bin_end": 0.30000000000000004,
            "count": 0
           },
           {
            "bin_start": 0.30000000000000004,
            "bin_end": 0.4,
            "count": 0
           },
           {
            "bin_start": 0.4,
            "bin_end": 0.5,
            "count": 0
           },
           {
            "bin_start": 0.5,
            "bin_end": 0.6000000000000001,
            "count": 0
           },
           {
            "bin_start": 0.6000000000000001,
            "bin_end": 0.7000000000000001,
            "count": 0
           },
           {
            "bin_start": 0.7000000000000001,
            "bin_end": 0.8,
            "count": 0
           },
           {
            "bin_start": 0.8,
            "bin_end": 0.9,
            "count": 0
           },
           {
            "bin_start": 0.9,
            "bin_end": 1,
            "count": 1
           }
          ]
         }
        },
        {
         "name": "TV-G",
         "dtype": "float64",
         "stats": {
          "unique_count": 1,
          "nan_count": 0,
          "min": "0.0",
          "max": "0.0",
          "histogram": [
           {
            "bin_start": -0.5,
            "bin_end": -0.4,
            "count": 0
           },
           {
            "bin_start": -0.4,
            "bin_end": -0.3,
            "count": 0
           },
           {
            "bin_start": -0.3,
            "bin_end": -0.19999999999999996,
            "count": 0
           },
           {
            "bin_start": -0.19999999999999996,
            "bin_end": -0.09999999999999998,
            "count": 0
           },
           {
            "bin_start": -0.09999999999999998,
            "bin_end": 0,
            "count": 0
           },
           {
            "bin_start": 0,
            "bin_end": 0.10000000000000009,
            "count": 5
           },
           {
            "bin_start": 0.10000000000000009,
            "bin_end": 0.20000000000000007,
            "count": 0
           },
           {
            "bin_start": 0.20000000000000007,
            "bin_end": 0.30000000000000004,
            "count": 0
           },
           {
            "bin_start": 0.30000000000000004,
            "bin_end": 0.4,
            "count": 0
           },
           {
            "bin_start": 0.4,
            "bin_end": 0.5,
            "count": 0
           }
          ]
         }
        },
        {
         "name": "TV-MA",
         "dtype": "float64",
         "stats": {
          "unique_count": 2,
          "nan_count": 0,
          "min": "0.0",
          "max": "1.0",
          "histogram": [
           {
            "bin_start": 0,
            "bin_end": 0.1,
            "count": 4
           },
           {
            "bin_start": 0.1,
            "bin_end": 0.2,
            "count": 0
           },
           {
            "bin_start": 0.2,
            "bin_end": 0.30000000000000004,
            "count": 0
           },
           {
            "bin_start": 0.30000000000000004,
            "bin_end": 0.4,
            "count": 0
           },
           {
            "bin_start": 0.4,
            "bin_end": 0.5,
            "count": 0
           },
           {
            "bin_start": 0.5,
            "bin_end": 0.6000000000000001,
            "count": 0
           },
           {
            "bin_start": 0.6000000000000001,
            "bin_end": 0.7000000000000001,
            "count": 0
           },
           {
            "bin_start": 0.7000000000000001,
            "bin_end": 0.8,
            "count": 0
           },
           {
            "bin_start": 0.8,
            "bin_end": 0.9,
            "count": 0
           },
           {
            "bin_start": 0.9,
            "bin_end": 1,
            "count": 1
           }
          ]
         }
        },
        {
         "name": "_deepnote_index_column",
         "dtype": "int64"
        }
       ],
       "rows": [
        {
         "release_year": 0,
         "runtime": 0.19123505976095617,
         "seasons": 0.023809523809523808,
         "imdb_score": 0,
         "imdb_votes": 0,
         "tmdb_popularity": 0.0003290603024941674,
         "tmdb_score": 0,
         "horror": 0,
         "history": 0,
         "european": 0,
         "sport": 0,
         "family": 0,
         "reality": 0,
         "drama": 0,
         "animation": 0,
         "comedy": 0,
         "scifi": 0,
         "music": 0,
         "fantasy": 0,
         "western": 0,
         "thriller": 0,
         "documentation": 1,
         "crime": 0,
         "action": 0,
         "war": 0,
         "romance": 0,
         "movie": 0,
         "show": 1,
         "not_rated": 0,
         "TV-Y": 0,
         "TV-PG": 0,
         "PG": 0,
         "R": 0,
         "TV-14": 0,
         "PG-13": 0,
         "TV-Y7": 0,
         "NC-17": 0,
         "G": 0,
         "TV-G": 0,
         "TV-MA": 1,
         "_deepnote_index_column": 0
        },
        {
         "release_year": 0.4025974025974026,
         "runtime": 0.450199203187251,
         "seasons": 0,
         "imdb_score": 0.8645833333333335,
         "imdb_votes": 0.3505824657186389,
         "tmdb_popularity": 0.015143355120781583,
         "tmdb_score": 0.82,
         "horror": 0,
         "history": 0,
         "european": 0,
         "sport": 0,
         "family": 0,
         "reality": 0,
         "drama": 1,
         "animation": 0,
         "comedy": 0,
         "scifi": 0,
         "music": 0,
         "fantasy": 0,
         "western": 0,
         "thriller": 0,
         "documentation": 0,
         "crime": 1,
         "action": 0,
         "war": 0,
         "romance": 0,
         "movie": 1,
         "show": 0,
         "not_rated": 0,
         "TV-Y": 0,
         "TV-PG": 0,
         "PG": 0,
         "R": 1,
         "TV-14": 0,
         "PG-13": 0,
         "TV-Y7": 0,
         "NC-17": 0,
         "G": 0,
         "TV-G": 0,
         "TV-MA": 0,
         "_deepnote_index_column": 1
        },
        {
         "release_year": 0.38961038961038963,
         "runtime": 0.36254980079681276,
         "seasons": 0,
         "imdb_score": 0.8541666666666666,
         "imdb_votes": 0.23404303157271034,
         "tmdb_popularity": 0.009990270783722922,
         "tmdb_score": 0.78,
         "horror": 0,
         "history": 0,
         "european": 0,
         "sport": 0,
         "family": 0,
         "reality": 0,
         "drama": 0,
         "animation": 0,
         "comedy": 1,
         "scifi": 0,
         "music": 0,
         "fantasy": 1,
         "western": 0,
         "thriller": 0,
         "documentation": 0,
         "crime": 0,
         "action": 0,
         "war": 0,
         "romance": 0,
         "movie": 1,
         "show": 0,
         "not_rated": 0,
         "TV-Y": 0,
         "TV-PG": 0,
         "PG": 1,
         "R": 0,
         "TV-14": 0,
         "PG-13": 0,
         "TV-Y7": 0,
         "NC-17": 0,
         "G": 1,
         "TV-G": 0,
         "TV-MA": 0,
         "_deepnote_index_column": 2
        },
        {
         "release_year": 0.44155844155844154,
         "runtime": 0.3745019920318725,
         "seasons": 0,
         "imdb_score": 0.8333333333333334,
         "imdb_votes": 0.17300228189718414,
         "tmdb_popularity": 0.009600334325267334,
         "tmdb_score": 0.78,
         "horror": 0,
         "history": 0,
         "european": 0,
         "sport": 0,
         "family": 0,
         "reality": 0,
         "drama": 0,
         "animation": 0,
         "comedy": 1,
         "scifi": 0,
         "music": 0,
         "fantasy": 0,
         "western": 0,
         "thriller": 0,
         "documentation": 0,
         "crime": 0,
         "action": 0,
         "war": 0,
         "romance": 0,
         "movie": 1,
         "show": 0,
         "not_rated": 0,
         "TV-Y": 0,
         "TV-PG": 0,
         "PG": 0,
         "R": 1,
         "TV-14": 0,
         "PG-13": 0,
         "TV-Y7": 0,
         "NC-17": 0,
         "G": 0,
         "TV-G": 0,
         "TV-MA": 0,
         "_deepnote_index_column": 3
        },
        {
         "release_year": 0.36363636363636365,
         "runtime": 0.5298804780876494,
         "seasons": 0,
         "imdb_score": 0.84375,
         "imdb_votes": 0.17279199114045482,
         "tmdb_popularity": 0.05228603676481073,
         "tmdb_score": 0.77,
         "horror": 1,
         "history": 0,
         "european": 0,
         "sport": 0,
         "family": 0,
         "reality": 0,
         "drama": 0,
         "animation": 0,
         "comedy": 0,
         "scifi": 0,
         "music": 0,
         "fantasy": 0,
         "western": 0,
         "thriller": 0,
         "documentation": 0,
         "crime": 0,
         "action": 0,
         "war": 0,
         "romance": 0,
         "movie": 1,
         "show": 0,
         "not_rated": 0,
         "TV-Y": 0,
         "TV-PG": 0,
         "PG": 0,
         "R": 1,
         "TV-14": 0,
         "PG-13": 0,
         "TV-Y7": 0,
         "NC-17": 0,
         "G": 0,
         "TV-G": 0,
         "TV-MA": 0,
         "_deepnote_index_column": 4
        }
       ]
      },
      "text/plain": "   release_year   runtime  seasons  imdb_score  imdb_votes  tmdb_popularity  \\\n0      0.000000  0.191235  0.02381    0.000000    0.000000         0.000329   \n1      0.402597  0.450199  0.00000    0.864583    0.350582         0.015143   \n2      0.389610  0.362550  0.00000    0.854167    0.234043         0.009990   \n3      0.441558  0.374502  0.00000    0.833333    0.173002         0.009600   \n4      0.363636  0.529880  0.00000    0.843750    0.172792         0.052286   \n\n   tmdb_score  horror  history  european  ...  TV-PG   PG    R  TV-14  PG-13  \\\n0        0.00     0.0      0.0       0.0  ...    0.0  0.0  0.0    0.0    0.0   \n1        0.82     0.0      0.0       0.0  ...    0.0  0.0  1.0    0.0    0.0   \n2        0.78     0.0      0.0       0.0  ...    0.0  1.0  0.0    0.0    0.0   \n3        0.78     0.0      0.0       0.0  ...    0.0  0.0  1.0    0.0    0.0   \n4        0.77     1.0      0.0       0.0  ...    0.0  0.0  1.0    0.0    0.0   \n\n   TV-Y7  NC-17    G  TV-G  TV-MA  \n0    0.0    0.0  0.0   0.0    1.0  \n1    0.0    0.0  0.0   0.0    0.0  \n2    0.0    0.0  1.0   0.0    0.0  \n3    0.0    0.0  0.0   0.0    0.0  \n4    0.0    0.0  0.0   0.0    0.0  \n\n[5 rows x 40 columns]",
      "text/html": "<div>\n<style scoped>\n    .dataframe tbody tr th:only-of-type {\n        vertical-align: middle;\n    }\n\n    .dataframe tbody tr th {\n        vertical-align: top;\n    }\n\n    .dataframe thead th {\n        text-align: right;\n    }\n</style>\n<table border=\"1\" class=\"dataframe\">\n  <thead>\n    <tr style=\"text-align: right;\">\n      <th></th>\n      <th>release_year</th>\n      <th>runtime</th>\n      <th>seasons</th>\n      <th>imdb_score</th>\n      <th>imdb_votes</th>\n      <th>tmdb_popularity</th>\n      <th>tmdb_score</th>\n      <th>horror</th>\n      <th>history</th>\n      <th>european</th>\n      <th>...</th>\n      <th>TV-PG</th>\n      <th>PG</th>\n      <th>R</th>\n      <th>TV-14</th>\n      <th>PG-13</th>\n      <th>TV-Y7</th>\n      <th>NC-17</th>\n      <th>G</th>\n      <th>TV-G</th>\n      <th>TV-MA</th>\n    </tr>\n  </thead>\n  <tbody>\n    <tr>\n      <th>0</th>\n      <td>0.000000</td>\n      <td>0.191235</td>\n      <td>0.02381</td>\n      <td>0.000000</td>\n      <td>0.000000</td>\n      <td>0.000329</td>\n      <td>0.00</td>\n      <td>0.0</td>\n      <td>0.0</td>\n      <td>0.0</td>\n      <td>...</td>\n      <td>0.0</td>\n      <td>0.0</td>\n      <td>0.0</td>\n      <td>0.0</td>\n      <td>0.0</td>\n      <td>0.0</td>\n      <td>0.0</td>\n      <td>0.0</td>\n      <td>0.0</td>\n      <td>1.0</td>\n    </tr>\n    <tr>\n      <th>1</th>\n      <td>0.402597</td>\n      <td>0.450199</td>\n      <td>0.00000</td>\n      <td>0.864583</td>\n      <td>0.350582</td>\n      <td>0.015143</td>\n      <td>0.82</td>\n      <td>0.0</td>\n      <td>0.0</td>\n      <td>0.0</td>\n      <td>...</td>\n      <td>0.0</td>\n      <td>0.0</td>\n      <td>1.0</td>\n      <td>0.0</td>\n      <td>0.0</td>\n      <td>0.0</td>\n      <td>0.0</td>\n      <td>0.0</td>\n      <td>0.0</td>\n      <td>0.0</td>\n    </tr>\n    <tr>\n      <th>2</th>\n      <td>0.389610</td>\n      <td>0.362550</td>\n      <td>0.00000</td>\n      <td>0.854167</td>\n      <td>0.234043</td>\n      <td>0.009990</td>\n      <td>0.78</td>\n      <td>0.0</td>\n      <td>0.0</td>\n      <td>0.0</td>\n      <td>...</td>\n      <td>0.0</td>\n      <td>1.0</td>\n      <td>0.0</td>\n      <td>0.0</td>\n      <td>0.0</td>\n      <td>0.0</td>\n      <td>0.0</td>\n      <td>1.0</td>\n      <td>0.0</td>\n      <td>0.0</td>\n    </tr>\n    <tr>\n      <th>3</th>\n      <td>0.441558</td>\n      <td>0.374502</td>\n      <td>0.00000</td>\n      <td>0.833333</td>\n      <td>0.173002</td>\n      <td>0.009600</td>\n      <td>0.78</td>\n      <td>0.0</td>\n      <td>0.0</td>\n      <td>0.0</td>\n      <td>...</td>\n      <td>0.0</td>\n      <td>0.0</td>\n      <td>1.0</td>\n      <td>0.0</td>\n      <td>0.0</td>\n      <td>0.0</td>\n      <td>0.0</td>\n      <td>0.0</td>\n      <td>0.0</td>\n      <td>0.0</td>\n    </tr>\n    <tr>\n      <th>4</th>\n      <td>0.363636</td>\n      <td>0.529880</td>\n      <td>0.00000</td>\n      <td>0.843750</td>\n      <td>0.172792</td>\n      <td>0.052286</td>\n      <td>0.77</td>\n      <td>1.0</td>\n      <td>0.0</td>\n      <td>0.0</td>\n      <td>...</td>\n      <td>0.0</td>\n      <td>0.0</td>\n      <td>1.0</td>\n      <td>0.0</td>\n      <td>0.0</td>\n      <td>0.0</td>\n      <td>0.0</td>\n      <td>0.0</td>\n      <td>0.0</td>\n      <td>0.0</td>\n    </tr>\n  </tbody>\n</table>\n<p>5 rows × 40 columns</p>\n</div>"
     },
     "metadata": {}
    }
   ]
  },
  {
   "cell_type": "markdown",
   "source": "### Making Model",
   "metadata": {
    "formattedRanges": [],
    "cell_id": "d031c31984584f61b190abc543ba7987",
    "tags": [],
    "is_collapsed": false,
    "deepnote_app_coordinates": {
     "x": 0,
     "y": 103,
     "w": 12,
     "h": 5
    },
    "deepnote_cell_type": "text-cell-h3"
   }
  },
  {
   "cell_type": "markdown",
   "source": "We fit the K Nearest Neighbors model below and use cosine similarity as the metric to determine how close titles are from each other.",
   "metadata": {
    "formattedRanges": [],
    "cell_id": "d9a570fb448b4d19bd81acc324b1d39e",
    "tags": [],
    "is_collapsed": false,
    "deepnote_app_coordinates": {
     "x": 0,
     "y": 109,
     "w": 8,
     "h": 2
    },
    "deepnote_cell_type": "text-cell-p"
   }
  },
  {
   "cell_type": "code",
   "metadata": {
    "cell_id": "254cbab00c674edfafdd8ebb059eb7b4",
    "tags": [],
    "deepnote_to_be_reexecuted": false,
    "source_hash": "efc81458",
    "execution_start": 1656708250527,
    "execution_millis": 2271,
    "deepnote_app_coordinates": {
     "x": 0,
     "y": 112,
     "w": 12,
     "h": 5
    },
    "deepnote_cell_type": "code",
    "deepnote_cell_height": 211.375,
    "deepnote_output_heights": [
     60.390625
    ]
   },
   "source": "from sklearn.neighbors import NearestNeighbors\n\nknn = NearestNeighbors(metric = 'cosine', algorithm = 'brute')\nknn.fit(normalized_data)",
   "execution_count": 11,
   "outputs": [
    {
     "output_type": "execute_result",
     "execution_count": 11,
     "data": {
      "text/plain": "NearestNeighbors(algorithm='brute', metric='cosine')",
      "text/html": "<style>#sk-container-id-1 {color: black;background-color: white;}#sk-container-id-1 pre{padding: 0;}#sk-container-id-1 div.sk-toggleable {background-color: white;}#sk-container-id-1 label.sk-toggleable__label {cursor: pointer;display: block;width: 100%;margin-bottom: 0;padding: 0.3em;box-sizing: border-box;text-align: center;}#sk-container-id-1 label.sk-toggleable__label-arrow:before {content: \"▸\";float: left;margin-right: 0.25em;color: #696969;}#sk-container-id-1 label.sk-toggleable__label-arrow:hover:before {color: black;}#sk-container-id-1 div.sk-estimator:hover label.sk-toggleable__label-arrow:before {color: black;}#sk-container-id-1 div.sk-toggleable__content {max-height: 0;max-width: 0;overflow: hidden;text-align: left;background-color: #f0f8ff;}#sk-container-id-1 div.sk-toggleable__content pre {margin: 0.2em;color: black;border-radius: 0.25em;background-color: #f0f8ff;}#sk-container-id-1 input.sk-toggleable__control:checked~div.sk-toggleable__content {max-height: 200px;max-width: 100%;overflow: auto;}#sk-container-id-1 input.sk-toggleable__control:checked~label.sk-toggleable__label-arrow:before {content: \"▾\";}#sk-container-id-1 div.sk-estimator input.sk-toggleable__control:checked~label.sk-toggleable__label {background-color: #d4ebff;}#sk-container-id-1 div.sk-label input.sk-toggleable__control:checked~label.sk-toggleable__label {background-color: #d4ebff;}#sk-container-id-1 input.sk-hidden--visually {border: 0;clip: rect(1px 1px 1px 1px);clip: rect(1px, 1px, 1px, 1px);height: 1px;margin: -1px;overflow: hidden;padding: 0;position: absolute;width: 1px;}#sk-container-id-1 div.sk-estimator {font-family: monospace;background-color: #f0f8ff;border: 1px dotted black;border-radius: 0.25em;box-sizing: border-box;margin-bottom: 0.5em;}#sk-container-id-1 div.sk-estimator:hover {background-color: #d4ebff;}#sk-container-id-1 div.sk-parallel-item::after {content: \"\";width: 100%;border-bottom: 1px solid gray;flex-grow: 1;}#sk-container-id-1 div.sk-label:hover label.sk-toggleable__label {background-color: #d4ebff;}#sk-container-id-1 div.sk-serial::before {content: \"\";position: absolute;border-left: 1px solid gray;box-sizing: border-box;top: 0;bottom: 0;left: 50%;z-index: 0;}#sk-container-id-1 div.sk-serial {display: flex;flex-direction: column;align-items: center;background-color: white;padding-right: 0.2em;padding-left: 0.2em;position: relative;}#sk-container-id-1 div.sk-item {position: relative;z-index: 1;}#sk-container-id-1 div.sk-parallel {display: flex;align-items: stretch;justify-content: center;background-color: white;position: relative;}#sk-container-id-1 div.sk-item::before, #sk-container-id-1 div.sk-parallel-item::before {content: \"\";position: absolute;border-left: 1px solid gray;box-sizing: border-box;top: 0;bottom: 0;left: 50%;z-index: -1;}#sk-container-id-1 div.sk-parallel-item {display: flex;flex-direction: column;z-index: 1;position: relative;background-color: white;}#sk-container-id-1 div.sk-parallel-item:first-child::after {align-self: flex-end;width: 50%;}#sk-container-id-1 div.sk-parallel-item:last-child::after {align-self: flex-start;width: 50%;}#sk-container-id-1 div.sk-parallel-item:only-child::after {width: 0;}#sk-container-id-1 div.sk-dashed-wrapped {border: 1px dashed gray;margin: 0 0.4em 0.5em 0.4em;box-sizing: border-box;padding-bottom: 0.4em;background-color: white;}#sk-container-id-1 div.sk-label label {font-family: monospace;font-weight: bold;display: inline-block;line-height: 1.2em;}#sk-container-id-1 div.sk-label-container {text-align: center;}#sk-container-id-1 div.sk-container {/* jupyter's `normalize.less` sets `[hidden] { display: none; }` but bootstrap.min.css set `[hidden] { display: none !important; }` so we also need the `!important` here to be able to override the default hidden behavior on the sphinx rendered scikit-learn.org. See: https://github.com/scikit-learn/scikit-learn/issues/21755 */display: inline-block !important;position: relative;}#sk-container-id-1 div.sk-text-repr-fallback {display: none;}</style><div id=\"sk-container-id-1\" class=\"sk-top-container\"><div class=\"sk-text-repr-fallback\"><pre>NearestNeighbors(algorithm=&#x27;brute&#x27;, metric=&#x27;cosine&#x27;)</pre><b>In a Jupyter environment, please rerun this cell to show the HTML representation or trust the notebook. <br />On GitHub, the HTML representation is unable to render, please try loading this page with nbviewer.org.</b></div><div class=\"sk-container\" hidden><div class=\"sk-item\"><div class=\"sk-estimator sk-toggleable\"><input class=\"sk-toggleable__control sk-hidden--visually\" id=\"sk-estimator-id-1\" type=\"checkbox\" checked><label for=\"sk-estimator-id-1\" class=\"sk-toggleable__label sk-toggleable__label-arrow\">NearestNeighbors</label><div class=\"sk-toggleable__content\"><pre>NearestNeighbors(algorithm=&#x27;brute&#x27;, metric=&#x27;cosine&#x27;)</pre></div></div></div></div></div>"
     },
     "metadata": {}
    }
   ]
  },
  {
   "cell_type": "markdown",
   "source": "In the block below we create a function that allows users to type in a movie title and if it is an exact match to one in the dataset then ten recommendations with the closest cosine similarity to the model are outputted. If the title is not found a function is used to give close matches to what the user inputted and allows for the user to input in a title again.",
   "metadata": {
    "formattedRanges": [],
    "cell_id": "e0b99a2ccdef440f9b04fddd06695b86",
    "tags": [],
    "is_collapsed": false,
    "deepnote_app_coordinates": {
     "x": 0,
     "y": 118,
     "w": 8,
     "h": 2
    },
    "deepnote_cell_type": "text-cell-p"
   }
  },
  {
   "cell_type": "code",
   "metadata": {
    "cell_id": "66deefd86ae94e42a9a37bec7517a562",
    "tags": [],
    "deepnote_to_be_reexecuted": false,
    "source_hash": "e6b2c7b2",
    "execution_start": 1656708252805,
    "execution_millis": 60,
    "deepnote_app_coordinates": {
     "x": 0,
     "y": 121,
     "w": 12,
     "h": 5
    },
    "deepnote_cell_type": "code",
    "deepnote_cell_height": 449
   },
   "source": "# creating df of title names\ntitle_names = titles.loc[ : , ['title']]\ntitle_names['title'] = title_names['title'].str.lower()\ntitle_names.head()",
   "execution_count": 12,
   "outputs": [
    {
     "output_type": "execute_result",
     "execution_count": 12,
     "data": {
      "application/vnd.deepnote.dataframe.v3+json": {
       "column_count": 1,
       "row_count": 5,
       "columns": [
        {
         "name": "title",
         "dtype": "object",
         "stats": {
          "unique_count": 5,
          "nan_count": 0,
          "categories": [
           {
            "name": "five came back: the reference films",
            "count": 1
           },
           {
            "name": "taxi driver",
            "count": 1
           },
           {
            "name": "3 others",
            "count": 3
           }
          ]
         }
        },
        {
         "name": "_deepnote_index_column",
         "dtype": "int64"
        }
       ],
       "rows": [
        {
         "title": "five came back: the reference films",
         "_deepnote_index_column": 0
        },
        {
         "title": "taxi driver",
         "_deepnote_index_column": 1
        },
        {
         "title": "monty python and the holy grail",
         "_deepnote_index_column": 2
        },
        {
         "title": "life of brian",
         "_deepnote_index_column": 3
        },
        {
         "title": "the exorcist",
         "_deepnote_index_column": 4
        }
       ]
      },
      "text/plain": "                                 title\n0  five came back: the reference films\n1                          taxi driver\n2      monty python and the holy grail\n3                        life of brian\n4                         the exorcist",
      "text/html": "<div>\n<style scoped>\n    .dataframe tbody tr th:only-of-type {\n        vertical-align: middle;\n    }\n\n    .dataframe tbody tr th {\n        vertical-align: top;\n    }\n\n    .dataframe thead th {\n        text-align: right;\n    }\n</style>\n<table border=\"1\" class=\"dataframe\">\n  <thead>\n    <tr style=\"text-align: right;\">\n      <th></th>\n      <th>title</th>\n    </tr>\n  </thead>\n  <tbody>\n    <tr>\n      <th>0</th>\n      <td>five came back: the reference films</td>\n    </tr>\n    <tr>\n      <th>1</th>\n      <td>taxi driver</td>\n    </tr>\n    <tr>\n      <th>2</th>\n      <td>monty python and the holy grail</td>\n    </tr>\n    <tr>\n      <th>3</th>\n      <td>life of brian</td>\n    </tr>\n    <tr>\n      <th>4</th>\n      <td>the exorcist</td>\n    </tr>\n  </tbody>\n</table>\n</div>"
     },
     "metadata": {}
    }
   ]
  },
  {
   "cell_type": "code",
   "metadata": {
    "cell_id": "2377b15c270c4d1191c0889cdbb358fd",
    "tags": [],
    "deepnote_to_be_reexecuted": false,
    "source_hash": "48296a8f",
    "execution_start": 1656708252878,
    "execution_millis": 2,
    "deepnote_app_coordinates": {
     "x": 0,
     "y": 127,
     "w": 12,
     "h": 5
    },
    "deepnote_cell_type": "code",
    "deepnote_cell_height": 189
   },
   "source": "#get the ten nearest neighbors\ndef recomendations(n):\n    neighbor_index = knn.kneighbors([normalized_data.loc[n]], return_distance=False, n_neighbors=11)\n    neighbor_index = list(neighbor_index[0])\n    neighbor_index = neighbor_index[1:11]\n    print(\"Recomendations for: \" + title_names.loc[n, 'title'])\n    print(title_names.loc[neighbor_index])",
   "execution_count": 13,
   "outputs": []
  },
  {
   "cell_type": "code",
   "metadata": {
    "cell_id": "fc0525a2fee94380b8e6a3a6d632ae53",
    "tags": [],
    "deepnote_to_be_reexecuted": false,
    "source_hash": "c1185d23",
    "execution_start": 1656708252938,
    "execution_millis": 0,
    "deepnote_app_coordinates": {
     "x": 0,
     "y": 133,
     "w": 12,
     "h": 5
    },
    "deepnote_cell_type": "code",
    "deepnote_cell_height": 423
   },
   "source": "netflix_titles = list(title_names.loc[:, 'title'])\n\ndef movie():\n    title = input('Title you want recomendations for: ').lower()\n    result = process.extract(title, netflix_titles, limit = 5)\n    i = 1\n    for mov in result:\n        if (i == 1 and mov[1] <= 80):\n            print('No close matches found. Try again.')\n            break\n        if mov[1] == 100:\n            index = netflix_titles.index(title)\n            recomendations(index)\n            return\n        if (mov[1] >= 80 and mov[1] != 100):\n            if i == 1:\n                print('Exact match not found for {}. Did you mean:'.format(title))\n            print(str(i) + ') ' + mov[0])\n            i = i+1\n    movie()",
   "execution_count": 14,
   "outputs": []
  },
  {
   "cell_type": "markdown",
   "source": "In the following blocks some examples are shown using the function to show recommendations.",
   "metadata": {
    "cell_id": "c0e5ce7507a9458abe6db6b526aee632",
    "tags": [],
    "is_collapsed": false,
    "formattedRanges": [],
    "deepnote_cell_type": "text-cell-p"
   }
  },
  {
   "cell_type": "code",
   "metadata": {
    "cell_id": "a76b08ebe2f54df3901f1715577f0098",
    "tags": [],
    "deepnote_to_be_reexecuted": false,
    "source_hash": "10f9a93c",
    "execution_start": 1656708252938,
    "execution_millis": 12484,
    "deepnote_app_coordinates": {
     "x": 0,
     "y": 139,
     "w": 12,
     "h": 5
    },
    "owner_user_id": "ee8023c2-46dd-4c0e-b29e-a6c2b16ecd8f",
    "deepnote_cell_type": "code",
    "deepnote_cell_height": 376.796875
   },
   "source": "movie()",
   "execution_count": 15,
   "outputs": [
    {
     "name": "stdout",
     "text": "Recomendations for: breaking bad\n                 title\n1260            narcos\n1824             ozark\n1835        mindhunter\n1826        the sinner\n1840             elite\n951          wentworth\n2198     the mechanism\n3362        undercover\n4935  the chestnut man\n1888       alias grace\n/shared-libs/python3.9/py/lib/python3.9/site-packages/sklearn/base.py:450: UserWarning: X does not have valid feature names, but NearestNeighbors was fitted with feature names\n  warnings.warn(\n",
     "output_type": "stream"
    }
   ]
  },
  {
   "cell_type": "code",
   "source": "movie()",
   "metadata": {
    "cell_id": "874c318dc72441d4b2bcb71021e0c96e",
    "tags": [],
    "deepnote_to_be_reexecuted": false,
    "source_hash": "10f9a93c",
    "execution_start": 1656708264804,
    "execution_millis": 49164,
    "deepnote_app_coordinates": {
     "x": 0,
     "y": 145,
     "w": 12,
     "h": 5
    },
    "deepnote_cell_type": "code",
    "deepnote_cell_height": 436.796875
   },
   "outputs": [
    {
     "name": "stdout",
     "text": "Exact match not found for conjuring. Did you mean:\n1) the conjuring\n2) the conjuring 2\nRecomendations for: the conjuring\n                                title\n1234                       it follows\n1915              annabelle: creation\n1290                             hush\n1847                       the ritual\n948                             creep\n350                   friday the 13th\n2042           may the devil take you\n4582                              122\n4911                       till death\n151   i know what you did last summer\n/shared-libs/python3.9/py/lib/python3.9/site-packages/sklearn/base.py:450: UserWarning: X does not have valid feature names, but NearestNeighbors was fitted with feature names\n  warnings.warn(\n",
     "output_type": "stream"
    }
   ],
   "execution_count": 16
  },
  {
   "cell_type": "code",
   "source": "movie()",
   "metadata": {
    "cell_id": "067d534369824e3fba8d359c220cc06f",
    "tags": [],
    "deepnote_to_be_reexecuted": false,
    "source_hash": "10f9a93c",
    "execution_start": 1656708467006,
    "execution_millis": 82845,
    "deepnote_app_coordinates": {
     "x": 0,
     "y": 157,
     "w": 12,
     "h": 5
    },
    "deepnote_cell_type": "code",
    "deepnote_cell_height": 376.796875
   },
   "outputs": [
    {
     "name": "stdout",
     "text": "Recomendations for: stranger things\n                               title\n253                     supernatural\n1897  chilling adventures of sabrina\n3204                     locke & key\n3868                            jinn\n272              the vampire diaries\n946                    the originals\n1834                        legacies\n2235                          erased\n1337                       frequency\n5305                           elves\n/shared-libs/python3.9/py/lib/python3.9/site-packages/sklearn/base.py:450: UserWarning: X does not have valid feature names, but NearestNeighbors was fitted with feature names\n  warnings.warn(\n",
     "output_type": "stream"
    }
   ],
   "execution_count": 18
  },
  {
   "cell_type": "code",
   "source": "movie()",
   "metadata": {
    "cell_id": "8c21f438d9ef486b8ba1cf706692076f",
    "tags": [],
    "deepnote_to_be_reexecuted": false,
    "source_hash": "10f9a93c",
    "execution_start": 1656708549983,
    "execution_millis": 66188,
    "deepnote_cell_type": "code",
    "deepnote_cell_height": 376.796875
   },
   "outputs": [
    {
     "name": "stdout",
     "text": "Recomendations for: too hot to handle\n                                      title\n5796                            the big day\n5380              too hot to handle: brazil\n5426                  love is blind: brazil\n3222                          love is blind\n4233  the fabulous lives of bollywood wives\n5408                               insiders\n4856        the ultimatum: marry or move on\n5131                     my unorthodox life\n5479                     cooking with paris\n3997             million dollar beach house\n/shared-libs/python3.9/py/lib/python3.9/site-packages/sklearn/base.py:450: UserWarning: X does not have valid feature names, but NearestNeighbors was fitted with feature names\n  warnings.warn(\n",
     "output_type": "stream"
    }
   ],
   "execution_count": 19
  },
  {
   "cell_type": "code",
   "source": "movie()",
   "metadata": {
    "cell_id": "5a3c3e0402624ea9a661967a09c9ba9c",
    "tags": [],
    "deepnote_to_be_reexecuted": false,
    "source_hash": "10f9a93c",
    "execution_start": 1656708932705,
    "execution_millis": 38758,
    "deepnote_cell_type": "code",
    "deepnote_cell_height": 376.796875
   },
   "outputs": [
    {
     "name": "stdout",
     "text": "Recomendations for: criminal minds\n                             title\n918                  the blacklist\n931    how to get away with murder\n1321                      quantico\n1833                     riverdale\n783   pablo escobar: the drug lord\n1870                       manhunt\n2377               falsa identidad\n2149                lawless lawyer\n1340                      aquarius\n3955                   stolen away\n/shared-libs/python3.9/py/lib/python3.9/site-packages/sklearn/base.py:450: UserWarning: X does not have valid feature names, but NearestNeighbors was fitted with feature names\n  warnings.warn(\n",
     "output_type": "stream"
    }
   ],
   "execution_count": 21
  },
  {
   "cell_type": "code",
   "source": "movie()",
   "metadata": {
    "cell_id": "d4b157a3dc6d41e49214fd4e38320c4f",
    "tags": [],
    "deepnote_to_be_reexecuted": false,
    "source_hash": "10f9a93c",
    "execution_start": 1656709992933,
    "execution_millis": 15933,
    "deepnote_cell_type": "code",
    "deepnote_cell_height": 376.796875
   },
   "outputs": [
    {
     "name": "stdout",
     "text": "Recomendations for: inception\n                     title\n255      war of the worlds\n155               godzilla\n1336              spectral\n339                the one\n282   the bourne ultimatum\n292      quantum of solace\n721              contagion\n734           total recall\n722             battleship\n1348             self/less\n/shared-libs/python3.9/py/lib/python3.9/site-packages/sklearn/base.py:450: UserWarning: X does not have valid feature names, but NearestNeighbors was fitted with feature names\n  warnings.warn(\n",
     "output_type": "stream"
    }
   ],
   "execution_count": 28
  },
  {
   "cell_type": "markdown",
   "source": "<a style='text-decoration:none;line-height:16px;display:flex;color:#5B5B62;padding:10px;justify-content:end;' href='https://deepnote.com?utm_source=created-in-deepnote-cell&projectId=0ff0db95-be66-48c0-9257-0e8c513eba64' target=\"_blank\">\n<img alt='Created in deepnote.com' style='display:inline;max-height:16px;margin:0px;margin-right:7.5px;' src='data:image/svg+xml;base64,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' > </img>\nCreated in <span style='font-weight:600;margin-left:4px;'>Deepnote</span></a>",
   "metadata": {
    "tags": [],
    "created_in_deepnote_cell": true,
    "deepnote_cell_type": "markdown"
   }
  }
 ],
 "nbformat": 4,
 "nbformat_minor": 2,
 "metadata": {
  "orig_nbformat": 2,
  "deepnote": {},
  "deepnote_notebook_id": "1822ed74-2f15-4fbc-be52-90341e7c7158",
  "deepnote_execution_queue": [],
  "deepnote_app_layout": "article"
 }
}